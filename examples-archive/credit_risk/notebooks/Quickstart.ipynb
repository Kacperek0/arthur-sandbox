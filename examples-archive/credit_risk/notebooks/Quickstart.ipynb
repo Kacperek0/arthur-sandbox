{
 "cells": [
  {
   "cell_type": "code",
   "execution_count": 2,
   "metadata": {
    "ExecuteTime": {
     "end_time": "2021-09-02T19:07:37.572976Z",
     "start_time": "2021-09-02T19:07:35.176268Z"
    },
    "scrolled": true
   },
   "outputs": [],
   "source": [
    "from arthurai import ArthurAI\n",
    "from arthurai.common.constants import InputType, OutputType, Stage\n",
    "import joblib\n",
    "import numpy as np\n",
    "import pandas as pd\n",
    "from datetime import datetime, timedelta\n",
    "import pytz"
   ]
  },
  {
   "cell_type": "code",
   "execution_count": 3,
   "metadata": {
    "ExecuteTime": {
     "end_time": "2021-09-02T19:07:37.579427Z",
     "start_time": "2021-09-02T19:07:37.575012Z"
    },
    "scrolled": true
   },
   "outputs": [],
   "source": [
    "import sys\n",
    "sys.path.append(\"..\")\n",
    "from model_utils import load_datasets"
   ]
  },
  {
   "cell_type": "markdown",
   "metadata": {},
   "source": [
    "In this guide, we'll use the credit dataset (and a pre-trained model) to onboard a new model to the Arthur platform. We'll walk through registering the model using a sample of the training data. This is an example of a streaming model."
   ]
  },
  {
   "cell_type": "markdown",
   "metadata": {},
   "source": [
    "#### Set up connection\n",
    "Supply your API Key below to authenticate with the platform."
   ]
  },
  {
   "cell_type": "code",
   "execution_count": null,
   "metadata": {},
   "outputs": [],
   "source": [
    "# credentials are being passed to the client via environment variables\n",
    "connection = ArthurAI()"
   ]
  },
  {
   "cell_type": "markdown",
   "metadata": {},
   "source": [
    "## Create Model"
   ]
  },
  {
   "cell_type": "markdown",
   "metadata": {},
   "source": [
    "### Loading the Data"
   ]
  },
  {
   "cell_type": "code",
   "execution_count": 6,
   "metadata": {
    "ExecuteTime": {
     "end_time": "2021-09-02T19:07:40.475000Z",
     "start_time": "2021-09-02T19:07:40.396143Z"
    },
    "scrolled": true
   },
   "outputs": [],
   "source": [
    "(X_train, Y_train), (X_test, Y_test) = load_datasets(\"../fixtures/datasets/credit_card_default.csv\")"
   ]
  },
  {
   "cell_type": "code",
   "execution_count": 7,
   "metadata": {
    "ExecuteTime": {
     "end_time": "2021-09-02T19:07:40.796371Z",
     "start_time": "2021-09-02T19:07:40.791302Z"
    },
    "scrolled": true
   },
   "outputs": [
    {
     "data": {
      "text/plain": [
       "22051    0\n",
       "26990    0\n",
       "12962    1\n",
       "29735    1\n",
       "26149    0\n",
       "Name: default payment next month, dtype: int64"
      ]
     },
     "execution_count": 7,
     "metadata": {},
     "output_type": "execute_result"
    }
   ],
   "source": [
    "Y_train.head()"
   ]
  },
  {
   "cell_type": "code",
   "execution_count": 8,
   "metadata": {
    "ExecuteTime": {
     "end_time": "2021-09-02T19:07:41.979007Z",
     "start_time": "2021-09-02T19:07:41.956353Z"
    },
    "scrolled": true
   },
   "outputs": [
    {
     "data": {
      "text/html": [
       "<div>\n",
       "<style scoped>\n",
       "    .dataframe tbody tr th:only-of-type {\n",
       "        vertical-align: middle;\n",
       "    }\n",
       "\n",
       "    .dataframe tbody tr th {\n",
       "        vertical-align: top;\n",
       "    }\n",
       "\n",
       "    .dataframe thead th {\n",
       "        text-align: right;\n",
       "    }\n",
       "</style>\n",
       "<table border=\"1\" class=\"dataframe\">\n",
       "  <thead>\n",
       "    <tr style=\"text-align: right;\">\n",
       "      <th></th>\n",
       "      <th>LIMIT_BAL</th>\n",
       "      <th>SEX</th>\n",
       "      <th>EDUCATION</th>\n",
       "      <th>MARRIAGE</th>\n",
       "      <th>AGE</th>\n",
       "      <th>PAY_0</th>\n",
       "      <th>PAY_2</th>\n",
       "      <th>PAY_3</th>\n",
       "      <th>PAY_4</th>\n",
       "      <th>PAY_5</th>\n",
       "      <th>...</th>\n",
       "      <th>BILL_AMT3</th>\n",
       "      <th>BILL_AMT4</th>\n",
       "      <th>BILL_AMT5</th>\n",
       "      <th>BILL_AMT6</th>\n",
       "      <th>PAY_AMT1</th>\n",
       "      <th>PAY_AMT2</th>\n",
       "      <th>PAY_AMT3</th>\n",
       "      <th>PAY_AMT4</th>\n",
       "      <th>PAY_AMT5</th>\n",
       "      <th>PAY_AMT6</th>\n",
       "    </tr>\n",
       "  </thead>\n",
       "  <tbody>\n",
       "    <tr>\n",
       "      <th>22051</th>\n",
       "      <td>200000</td>\n",
       "      <td>2</td>\n",
       "      <td>2</td>\n",
       "      <td>1</td>\n",
       "      <td>28</td>\n",
       "      <td>1</td>\n",
       "      <td>-1</td>\n",
       "      <td>-1</td>\n",
       "      <td>-1</td>\n",
       "      <td>-1</td>\n",
       "      <td>...</td>\n",
       "      <td>150</td>\n",
       "      <td>3570</td>\n",
       "      <td>2853</td>\n",
       "      <td>0</td>\n",
       "      <td>2658</td>\n",
       "      <td>150</td>\n",
       "      <td>3570</td>\n",
       "      <td>2853</td>\n",
       "      <td>0</td>\n",
       "      <td>0</td>\n",
       "    </tr>\n",
       "    <tr>\n",
       "      <th>26990</th>\n",
       "      <td>100000</td>\n",
       "      <td>1</td>\n",
       "      <td>2</td>\n",
       "      <td>1</td>\n",
       "      <td>44</td>\n",
       "      <td>-1</td>\n",
       "      <td>-1</td>\n",
       "      <td>-1</td>\n",
       "      <td>-1</td>\n",
       "      <td>-1</td>\n",
       "      <td>...</td>\n",
       "      <td>390</td>\n",
       "      <td>390</td>\n",
       "      <td>390</td>\n",
       "      <td>390</td>\n",
       "      <td>390</td>\n",
       "      <td>390</td>\n",
       "      <td>390</td>\n",
       "      <td>390</td>\n",
       "      <td>390</td>\n",
       "      <td>390</td>\n",
       "    </tr>\n",
       "    <tr>\n",
       "      <th>12962</th>\n",
       "      <td>20000</td>\n",
       "      <td>2</td>\n",
       "      <td>2</td>\n",
       "      <td>1</td>\n",
       "      <td>28</td>\n",
       "      <td>2</td>\n",
       "      <td>-1</td>\n",
       "      <td>-1</td>\n",
       "      <td>-1</td>\n",
       "      <td>-1</td>\n",
       "      <td>...</td>\n",
       "      <td>390</td>\n",
       "      <td>390</td>\n",
       "      <td>390</td>\n",
       "      <td>0</td>\n",
       "      <td>390</td>\n",
       "      <td>390</td>\n",
       "      <td>390</td>\n",
       "      <td>390</td>\n",
       "      <td>0</td>\n",
       "      <td>780</td>\n",
       "    </tr>\n",
       "    <tr>\n",
       "      <th>29735</th>\n",
       "      <td>50000</td>\n",
       "      <td>1</td>\n",
       "      <td>3</td>\n",
       "      <td>1</td>\n",
       "      <td>40</td>\n",
       "      <td>2</td>\n",
       "      <td>0</td>\n",
       "      <td>0</td>\n",
       "      <td>0</td>\n",
       "      <td>0</td>\n",
       "      <td>...</td>\n",
       "      <td>49861</td>\n",
       "      <td>48660</td>\n",
       "      <td>7698</td>\n",
       "      <td>7463</td>\n",
       "      <td>2090</td>\n",
       "      <td>2450</td>\n",
       "      <td>1510</td>\n",
       "      <td>409</td>\n",
       "      <td>415</td>\n",
       "      <td>406</td>\n",
       "    </tr>\n",
       "    <tr>\n",
       "      <th>26149</th>\n",
       "      <td>250000</td>\n",
       "      <td>2</td>\n",
       "      <td>1</td>\n",
       "      <td>2</td>\n",
       "      <td>39</td>\n",
       "      <td>-1</td>\n",
       "      <td>-1</td>\n",
       "      <td>-1</td>\n",
       "      <td>2</td>\n",
       "      <td>2</td>\n",
       "      <td>...</td>\n",
       "      <td>40292</td>\n",
       "      <td>39600</td>\n",
       "      <td>21304</td>\n",
       "      <td>1185</td>\n",
       "      <td>1742</td>\n",
       "      <td>39600</td>\n",
       "      <td>7</td>\n",
       "      <td>1185</td>\n",
       "      <td>0</td>\n",
       "      <td>54416</td>\n",
       "    </tr>\n",
       "  </tbody>\n",
       "</table>\n",
       "<p>5 rows × 23 columns</p>\n",
       "</div>"
      ],
      "text/plain": [
       "       LIMIT_BAL  SEX  EDUCATION  MARRIAGE  AGE  PAY_0  PAY_2  PAY_3  PAY_4  \\\n",
       "22051     200000    2          2         1   28      1     -1     -1     -1   \n",
       "26990     100000    1          2         1   44     -1     -1     -1     -1   \n",
       "12962      20000    2          2         1   28      2     -1     -1     -1   \n",
       "29735      50000    1          3         1   40      2      0      0      0   \n",
       "26149     250000    2          1         2   39     -1     -1     -1      2   \n",
       "\n",
       "       PAY_5  ...  BILL_AMT3  BILL_AMT4  BILL_AMT5  BILL_AMT6  PAY_AMT1  \\\n",
       "22051     -1  ...        150       3570       2853          0      2658   \n",
       "26990     -1  ...        390        390        390        390       390   \n",
       "12962     -1  ...        390        390        390          0       390   \n",
       "29735      0  ...      49861      48660       7698       7463      2090   \n",
       "26149      2  ...      40292      39600      21304       1185      1742   \n",
       "\n",
       "       PAY_AMT2  PAY_AMT3  PAY_AMT4  PAY_AMT5  PAY_AMT6  \n",
       "22051       150      3570      2853         0         0  \n",
       "26990       390       390       390       390       390  \n",
       "12962       390       390       390         0       780  \n",
       "29735      2450      1510       409       415       406  \n",
       "26149     39600         7      1185         0     54416  \n",
       "\n",
       "[5 rows x 23 columns]"
      ]
     },
     "execution_count": 8,
     "metadata": {},
     "output_type": "execute_result"
    }
   ],
   "source": [
    "X_train.head()"
   ]
  },
  {
   "cell_type": "code",
   "execution_count": 9,
   "metadata": {
    "ExecuteTime": {
     "end_time": "2021-09-02T19:07:45.116551Z",
     "start_time": "2021-09-02T19:07:43.814175Z"
    }
   },
   "outputs": [],
   "source": [
    "# load our pre-trained classifier so we can generate predictions\n",
    "sk_model = joblib.load(\"../fixtures/serialized_models/credit_model.pkl\")\n",
    "\n",
    "# get model predictions\n",
    "preds = sk_model.predict_proba(X_train)\n",
    "X_train[\"prediction_1\"] = preds[:, 1]\n",
    "\n",
    "# get ground truth labels\n",
    "X_train[\"gt\"] = Y_train"
   ]
  },
  {
   "cell_type": "markdown",
   "metadata": {},
   "source": [
    "### Registering the Model"
   ]
  },
  {
   "cell_type": "markdown",
   "metadata": {
    "ExecuteTime": {
     "end_time": "2021-08-02T21:13:21.427158Z",
     "start_time": "2021-08-02T21:13:21.423669Z"
    }
   },
   "source": [
    "We'll instantiate a model object with a small amount of metadata about the model input and output types. Then, we'll use a sample of the training data to register the full data schema for this Tabular model."
   ]
  },
  {
   "cell_type": "code",
   "execution_count": 10,
   "metadata": {
    "ExecuteTime": {
     "end_time": "2021-09-02T19:07:49.617410Z",
     "start_time": "2021-09-02T19:07:49.613680Z"
    },
    "scrolled": true
   },
   "outputs": [],
   "source": [
    "arthur_model = connection.model(partner_model_id=f\"CreditRiskModel_QS_{datetime.now().strftime('%Y%m%d%H%M%S')}\",\n",
    "                                display_name=\"Credit Risk\",\n",
    "                                input_type=InputType.Tabular,\n",
    "                                output_type=OutputType.Multiclass)"
   ]
  },
  {
   "cell_type": "markdown",
   "metadata": {},
   "source": [
    "We need to register the schema for the outputs of the model: what will a typical prediction look like and what will a typical ground truth look like? What names, shapes, and datatypes should Arthur expect for these objects?\n",
    "\n",
    "We'll do this all in one step with the *.build()* method. All we need to supply is:\n",
    "  * the training dataframe\n",
    "  * the mapping that related predictions to ground truth\n",
    "  * positive predicted attribute label\n",
    "  \n",
    "Our classifier will be making predictions about class *0* and class *1* and will return a probability score for each class. Therefore, we'll set up a name *prediction_0* and a name *prediction_1*. Additionally, our groundtruth will be either a 0 or 1, but we'll always represent ground truth in the one-hot-endoded form. Therefore, we create two fields called *gt_0* and *gt_1*. We link these all up in a dictionary and pass that to the model.  "
   ]
  },
  {
   "cell_type": "code",
   "execution_count": 11,
   "metadata": {
    "ExecuteTime": {
     "end_time": "2021-09-02T19:07:52.229266Z",
     "start_time": "2021-09-02T19:07:52.059881Z"
    },
    "scrolled": true
   },
   "outputs": [
    {
     "name": "stderr",
     "output_type": "stream",
     "text": [
      "2022-07-21 12:04:28,877 - arthurai.core.models - WARNING - Found one or more categorical attributes. It is suggested to use model.review() to verify all possible categories were inferred correctly for each categorical attribute. To update with new categories, use model.get_attribute(attr_name).set(categories=[cat_1, cat_2, cat_3])\n",
      "2022-07-21 12:04:28,881 - arthurai.core.models - WARNING - Found one or more categorical attributes. It is suggested to use model.review() to verify all possible categories were inferred correctly for each categorical attribute. To update with new categories, use model.get_attribute(attr_name).set(categories=[cat_1, cat_2, cat_3])\n",
      "2022-07-21 12:04:28,883 - arthurai.core.models - INFO - Please review the inferred schema. If everything looks correct, lock in your model by calling arthur_model.save()\n"
     ]
    },
    {
     "data": {
      "text/html": [
       "<div>\n",
       "<style scoped>\n",
       "    .dataframe tbody tr th:only-of-type {\n",
       "        vertical-align: middle;\n",
       "    }\n",
       "\n",
       "    .dataframe tbody tr th {\n",
       "        vertical-align: top;\n",
       "    }\n",
       "\n",
       "    .dataframe thead th {\n",
       "        text-align: right;\n",
       "    }\n",
       "</style>\n",
       "<table border=\"1\" class=\"dataframe\">\n",
       "  <thead>\n",
       "    <tr style=\"text-align: right;\">\n",
       "      <th></th>\n",
       "      <th>name</th>\n",
       "      <th>stage</th>\n",
       "      <th>value_type</th>\n",
       "      <th>categorical</th>\n",
       "      <th>is_unique</th>\n",
       "      <th>categories</th>\n",
       "      <th>bins</th>\n",
       "      <th>range</th>\n",
       "      <th>monitor_for_bias</th>\n",
       "    </tr>\n",
       "  </thead>\n",
       "  <tbody>\n",
       "    <tr>\n",
       "      <th>0</th>\n",
       "      <td>LIMIT_BAL</td>\n",
       "      <td>PIPELINE_INPUT</td>\n",
       "      <td>INTEGER</td>\n",
       "      <td>False</td>\n",
       "      <td>False</td>\n",
       "      <td>[]</td>\n",
       "      <td>None</td>\n",
       "      <td>[10000, 1000000]</td>\n",
       "      <td>False</td>\n",
       "    </tr>\n",
       "    <tr>\n",
       "      <th>1</th>\n",
       "      <td>EDUCATION</td>\n",
       "      <td>PIPELINE_INPUT</td>\n",
       "      <td>INTEGER</td>\n",
       "      <td>True</td>\n",
       "      <td>False</td>\n",
       "      <td>[{value: 0}, {value: 1}, {value: 2}, {value: 3...</td>\n",
       "      <td>None</td>\n",
       "      <td>[None, None]</td>\n",
       "      <td>False</td>\n",
       "    </tr>\n",
       "    <tr>\n",
       "      <th>2</th>\n",
       "      <td>MARRIAGE</td>\n",
       "      <td>PIPELINE_INPUT</td>\n",
       "      <td>INTEGER</td>\n",
       "      <td>True</td>\n",
       "      <td>False</td>\n",
       "      <td>[{value: 0}, {value: 1}, {value: 2}, {value: 3}]</td>\n",
       "      <td>None</td>\n",
       "      <td>[None, None]</td>\n",
       "      <td>False</td>\n",
       "    </tr>\n",
       "    <tr>\n",
       "      <th>3</th>\n",
       "      <td>AGE</td>\n",
       "      <td>PIPELINE_INPUT</td>\n",
       "      <td>INTEGER</td>\n",
       "      <td>False</td>\n",
       "      <td>False</td>\n",
       "      <td>[]</td>\n",
       "      <td>None</td>\n",
       "      <td>[21, 79]</td>\n",
       "      <td>False</td>\n",
       "    </tr>\n",
       "    <tr>\n",
       "      <th>4</th>\n",
       "      <td>PAY_0</td>\n",
       "      <td>PIPELINE_INPUT</td>\n",
       "      <td>INTEGER</td>\n",
       "      <td>True</td>\n",
       "      <td>False</td>\n",
       "      <td>[{value: 0}, {value: 1}, {value: 2}, {value: 3...</td>\n",
       "      <td>None</td>\n",
       "      <td>[None, None]</td>\n",
       "      <td>False</td>\n",
       "    </tr>\n",
       "    <tr>\n",
       "      <th>5</th>\n",
       "      <td>PAY_2</td>\n",
       "      <td>PIPELINE_INPUT</td>\n",
       "      <td>INTEGER</td>\n",
       "      <td>True</td>\n",
       "      <td>False</td>\n",
       "      <td>[{value: 0}, {value: 1}, {value: 2}, {value: 3...</td>\n",
       "      <td>None</td>\n",
       "      <td>[None, None]</td>\n",
       "      <td>False</td>\n",
       "    </tr>\n",
       "    <tr>\n",
       "      <th>6</th>\n",
       "      <td>PAY_3</td>\n",
       "      <td>PIPELINE_INPUT</td>\n",
       "      <td>INTEGER</td>\n",
       "      <td>True</td>\n",
       "      <td>False</td>\n",
       "      <td>[{value: 0}, {value: 1}, {value: 2}, {value: 3...</td>\n",
       "      <td>None</td>\n",
       "      <td>[None, None]</td>\n",
       "      <td>False</td>\n",
       "    </tr>\n",
       "    <tr>\n",
       "      <th>7</th>\n",
       "      <td>PAY_4</td>\n",
       "      <td>PIPELINE_INPUT</td>\n",
       "      <td>INTEGER</td>\n",
       "      <td>True</td>\n",
       "      <td>False</td>\n",
       "      <td>[{value: 0}, {value: 1}, {value: 2}, {value: 3...</td>\n",
       "      <td>None</td>\n",
       "      <td>[None, None]</td>\n",
       "      <td>False</td>\n",
       "    </tr>\n",
       "    <tr>\n",
       "      <th>8</th>\n",
       "      <td>PAY_5</td>\n",
       "      <td>PIPELINE_INPUT</td>\n",
       "      <td>INTEGER</td>\n",
       "      <td>True</td>\n",
       "      <td>False</td>\n",
       "      <td>[{value: 0}, {value: 2}, {value: 3}, {value: 4...</td>\n",
       "      <td>None</td>\n",
       "      <td>[None, None]</td>\n",
       "      <td>False</td>\n",
       "    </tr>\n",
       "    <tr>\n",
       "      <th>9</th>\n",
       "      <td>PAY_6</td>\n",
       "      <td>PIPELINE_INPUT</td>\n",
       "      <td>INTEGER</td>\n",
       "      <td>True</td>\n",
       "      <td>False</td>\n",
       "      <td>[{value: 0}, {value: 2}, {value: 3}, {value: 4...</td>\n",
       "      <td>None</td>\n",
       "      <td>[None, None]</td>\n",
       "      <td>False</td>\n",
       "    </tr>\n",
       "    <tr>\n",
       "      <th>10</th>\n",
       "      <td>BILL_AMT1</td>\n",
       "      <td>PIPELINE_INPUT</td>\n",
       "      <td>INTEGER</td>\n",
       "      <td>False</td>\n",
       "      <td>False</td>\n",
       "      <td>[]</td>\n",
       "      <td>None</td>\n",
       "      <td>[-154973, 964511]</td>\n",
       "      <td>False</td>\n",
       "    </tr>\n",
       "    <tr>\n",
       "      <th>11</th>\n",
       "      <td>BILL_AMT2</td>\n",
       "      <td>PIPELINE_INPUT</td>\n",
       "      <td>INTEGER</td>\n",
       "      <td>False</td>\n",
       "      <td>False</td>\n",
       "      <td>[]</td>\n",
       "      <td>None</td>\n",
       "      <td>[-67526, 983931]</td>\n",
       "      <td>False</td>\n",
       "    </tr>\n",
       "    <tr>\n",
       "      <th>12</th>\n",
       "      <td>BILL_AMT3</td>\n",
       "      <td>PIPELINE_INPUT</td>\n",
       "      <td>INTEGER</td>\n",
       "      <td>False</td>\n",
       "      <td>False</td>\n",
       "      <td>[]</td>\n",
       "      <td>None</td>\n",
       "      <td>[-157264, 1664089]</td>\n",
       "      <td>False</td>\n",
       "    </tr>\n",
       "    <tr>\n",
       "      <th>13</th>\n",
       "      <td>BILL_AMT4</td>\n",
       "      <td>PIPELINE_INPUT</td>\n",
       "      <td>INTEGER</td>\n",
       "      <td>False</td>\n",
       "      <td>False</td>\n",
       "      <td>[]</td>\n",
       "      <td>None</td>\n",
       "      <td>[-170000, 891586]</td>\n",
       "      <td>False</td>\n",
       "    </tr>\n",
       "    <tr>\n",
       "      <th>14</th>\n",
       "      <td>BILL_AMT5</td>\n",
       "      <td>PIPELINE_INPUT</td>\n",
       "      <td>INTEGER</td>\n",
       "      <td>False</td>\n",
       "      <td>False</td>\n",
       "      <td>[]</td>\n",
       "      <td>None</td>\n",
       "      <td>[-81334, 927171]</td>\n",
       "      <td>False</td>\n",
       "    </tr>\n",
       "    <tr>\n",
       "      <th>15</th>\n",
       "      <td>BILL_AMT6</td>\n",
       "      <td>PIPELINE_INPUT</td>\n",
       "      <td>INTEGER</td>\n",
       "      <td>False</td>\n",
       "      <td>False</td>\n",
       "      <td>[]</td>\n",
       "      <td>None</td>\n",
       "      <td>[-339603, 961664]</td>\n",
       "      <td>False</td>\n",
       "    </tr>\n",
       "    <tr>\n",
       "      <th>16</th>\n",
       "      <td>PAY_AMT1</td>\n",
       "      <td>PIPELINE_INPUT</td>\n",
       "      <td>INTEGER</td>\n",
       "      <td>False</td>\n",
       "      <td>False</td>\n",
       "      <td>[]</td>\n",
       "      <td>None</td>\n",
       "      <td>[0, 873552]</td>\n",
       "      <td>False</td>\n",
       "    </tr>\n",
       "    <tr>\n",
       "      <th>17</th>\n",
       "      <td>PAY_AMT2</td>\n",
       "      <td>PIPELINE_INPUT</td>\n",
       "      <td>INTEGER</td>\n",
       "      <td>False</td>\n",
       "      <td>False</td>\n",
       "      <td>[]</td>\n",
       "      <td>None</td>\n",
       "      <td>[0, 1684259]</td>\n",
       "      <td>False</td>\n",
       "    </tr>\n",
       "    <tr>\n",
       "      <th>18</th>\n",
       "      <td>PAY_AMT3</td>\n",
       "      <td>PIPELINE_INPUT</td>\n",
       "      <td>INTEGER</td>\n",
       "      <td>False</td>\n",
       "      <td>False</td>\n",
       "      <td>[]</td>\n",
       "      <td>None</td>\n",
       "      <td>[0, 896040]</td>\n",
       "      <td>False</td>\n",
       "    </tr>\n",
       "    <tr>\n",
       "      <th>19</th>\n",
       "      <td>PAY_AMT4</td>\n",
       "      <td>PIPELINE_INPUT</td>\n",
       "      <td>INTEGER</td>\n",
       "      <td>False</td>\n",
       "      <td>False</td>\n",
       "      <td>[]</td>\n",
       "      <td>None</td>\n",
       "      <td>[0, 621000]</td>\n",
       "      <td>False</td>\n",
       "    </tr>\n",
       "    <tr>\n",
       "      <th>20</th>\n",
       "      <td>PAY_AMT5</td>\n",
       "      <td>PIPELINE_INPUT</td>\n",
       "      <td>INTEGER</td>\n",
       "      <td>False</td>\n",
       "      <td>False</td>\n",
       "      <td>[]</td>\n",
       "      <td>None</td>\n",
       "      <td>[0, 426529]</td>\n",
       "      <td>False</td>\n",
       "    </tr>\n",
       "    <tr>\n",
       "      <th>21</th>\n",
       "      <td>PAY_AMT6</td>\n",
       "      <td>PIPELINE_INPUT</td>\n",
       "      <td>INTEGER</td>\n",
       "      <td>False</td>\n",
       "      <td>False</td>\n",
       "      <td>[]</td>\n",
       "      <td>None</td>\n",
       "      <td>[0, 527143]</td>\n",
       "      <td>False</td>\n",
       "    </tr>\n",
       "    <tr>\n",
       "      <th>22</th>\n",
       "      <td>SEX</td>\n",
       "      <td>NON_INPUT_DATA</td>\n",
       "      <td>INTEGER</td>\n",
       "      <td>True</td>\n",
       "      <td>False</td>\n",
       "      <td>[{value: 1}, {value: 2}]</td>\n",
       "      <td>None</td>\n",
       "      <td>[None, None]</td>\n",
       "      <td>False</td>\n",
       "    </tr>\n",
       "    <tr>\n",
       "      <th>23</th>\n",
       "      <td>gt</td>\n",
       "      <td>GROUND_TRUTH_CLASS</td>\n",
       "      <td>INTEGER</td>\n",
       "      <td>True</td>\n",
       "      <td>False</td>\n",
       "      <td>[{value: 0}, {value: 1}]</td>\n",
       "      <td>None</td>\n",
       "      <td>[None, None]</td>\n",
       "      <td>False</td>\n",
       "    </tr>\n",
       "    <tr>\n",
       "      <th>24</th>\n",
       "      <td>prediction_1</td>\n",
       "      <td>PREDICTED_VALUE</td>\n",
       "      <td>FLOAT</td>\n",
       "      <td>False</td>\n",
       "      <td>False</td>\n",
       "      <td>[]</td>\n",
       "      <td>None</td>\n",
       "      <td>[0, 1]</td>\n",
       "      <td>False</td>\n",
       "    </tr>\n",
       "  </tbody>\n",
       "</table>\n",
       "</div>"
      ],
      "text/plain": [
       "            name               stage value_type categorical is_unique  \\\n",
       "0      LIMIT_BAL      PIPELINE_INPUT    INTEGER       False     False   \n",
       "1      EDUCATION      PIPELINE_INPUT    INTEGER        True     False   \n",
       "2       MARRIAGE      PIPELINE_INPUT    INTEGER        True     False   \n",
       "3            AGE      PIPELINE_INPUT    INTEGER       False     False   \n",
       "4          PAY_0      PIPELINE_INPUT    INTEGER        True     False   \n",
       "5          PAY_2      PIPELINE_INPUT    INTEGER        True     False   \n",
       "6          PAY_3      PIPELINE_INPUT    INTEGER        True     False   \n",
       "7          PAY_4      PIPELINE_INPUT    INTEGER        True     False   \n",
       "8          PAY_5      PIPELINE_INPUT    INTEGER        True     False   \n",
       "9          PAY_6      PIPELINE_INPUT    INTEGER        True     False   \n",
       "10     BILL_AMT1      PIPELINE_INPUT    INTEGER       False     False   \n",
       "11     BILL_AMT2      PIPELINE_INPUT    INTEGER       False     False   \n",
       "12     BILL_AMT3      PIPELINE_INPUT    INTEGER       False     False   \n",
       "13     BILL_AMT4      PIPELINE_INPUT    INTEGER       False     False   \n",
       "14     BILL_AMT5      PIPELINE_INPUT    INTEGER       False     False   \n",
       "15     BILL_AMT6      PIPELINE_INPUT    INTEGER       False     False   \n",
       "16      PAY_AMT1      PIPELINE_INPUT    INTEGER       False     False   \n",
       "17      PAY_AMT2      PIPELINE_INPUT    INTEGER       False     False   \n",
       "18      PAY_AMT3      PIPELINE_INPUT    INTEGER       False     False   \n",
       "19      PAY_AMT4      PIPELINE_INPUT    INTEGER       False     False   \n",
       "20      PAY_AMT5      PIPELINE_INPUT    INTEGER       False     False   \n",
       "21      PAY_AMT6      PIPELINE_INPUT    INTEGER       False     False   \n",
       "22           SEX      NON_INPUT_DATA    INTEGER        True     False   \n",
       "23            gt  GROUND_TRUTH_CLASS    INTEGER        True     False   \n",
       "24  prediction_1     PREDICTED_VALUE      FLOAT       False     False   \n",
       "\n",
       "                                           categories  bins  \\\n",
       "0                                                  []  None   \n",
       "1   [{value: 0}, {value: 1}, {value: 2}, {value: 3...  None   \n",
       "2    [{value: 0}, {value: 1}, {value: 2}, {value: 3}]  None   \n",
       "3                                                  []  None   \n",
       "4   [{value: 0}, {value: 1}, {value: 2}, {value: 3...  None   \n",
       "5   [{value: 0}, {value: 1}, {value: 2}, {value: 3...  None   \n",
       "6   [{value: 0}, {value: 1}, {value: 2}, {value: 3...  None   \n",
       "7   [{value: 0}, {value: 1}, {value: 2}, {value: 3...  None   \n",
       "8   [{value: 0}, {value: 2}, {value: 3}, {value: 4...  None   \n",
       "9   [{value: 0}, {value: 2}, {value: 3}, {value: 4...  None   \n",
       "10                                                 []  None   \n",
       "11                                                 []  None   \n",
       "12                                                 []  None   \n",
       "13                                                 []  None   \n",
       "14                                                 []  None   \n",
       "15                                                 []  None   \n",
       "16                                                 []  None   \n",
       "17                                                 []  None   \n",
       "18                                                 []  None   \n",
       "19                                                 []  None   \n",
       "20                                                 []  None   \n",
       "21                                                 []  None   \n",
       "22                           [{value: 1}, {value: 2}]  None   \n",
       "23                           [{value: 0}, {value: 1}]  None   \n",
       "24                                                 []  None   \n",
       "\n",
       "                 range monitor_for_bias  \n",
       "0     [10000, 1000000]            False  \n",
       "1         [None, None]            False  \n",
       "2         [None, None]            False  \n",
       "3             [21, 79]            False  \n",
       "4         [None, None]            False  \n",
       "5         [None, None]            False  \n",
       "6         [None, None]            False  \n",
       "7         [None, None]            False  \n",
       "8         [None, None]            False  \n",
       "9         [None, None]            False  \n",
       "10   [-154973, 964511]            False  \n",
       "11    [-67526, 983931]            False  \n",
       "12  [-157264, 1664089]            False  \n",
       "13   [-170000, 891586]            False  \n",
       "14    [-81334, 927171]            False  \n",
       "15   [-339603, 961664]            False  \n",
       "16         [0, 873552]            False  \n",
       "17        [0, 1684259]            False  \n",
       "18         [0, 896040]            False  \n",
       "19         [0, 621000]            False  \n",
       "20         [0, 426529]            False  \n",
       "21         [0, 527143]            False  \n",
       "22        [None, None]            False  \n",
       "23        [None, None]            False  \n",
       "24              [0, 1]            False  "
      ]
     },
     "execution_count": 11,
     "metadata": {},
     "output_type": "execute_result"
    }
   ],
   "source": [
    "# Map our prediction attribute to the ground truth value\n",
    "prediction_to_ground_truth_map = {\n",
    "    \"prediction_1\": 1\n",
    "}\n",
    "\n",
    "arthur_model.build(X_train, \n",
    "                   ground_truth_column=\"gt\",\n",
    "                   pred_to_ground_truth_map=prediction_to_ground_truth_map)"
   ]
  },
  {
   "cell_type": "markdown",
   "metadata": {},
   "source": [
    "Before saving, you can also review your model to make sure everything is correct from the output of `arthur_model.build()` or via `arthur_model.review()`.\n",
    "\n",
    "When saving your model, the data is saved as the reference set, which is used as the baseline data for tracking data drift. Often, this is the training data for the associated model. Our reference dataset should include:\n",
    "  * inputs \n",
    "  * ground truth\n",
    "  * model predictions\n",
    "  \n",
    "This way, Arthur can monitor for drift and stability in all of these aspects. \n",
    "\n",
    "If you've already created your model, you can fetch it from the Arthur API. Retrieve a Model ID from the output of the `arthur_model.save()` call below, or the URL of your model page in the Arthur Dashboard."
   ]
  },
  {
   "cell_type": "code",
   "execution_count": 12,
   "metadata": {},
   "outputs": [
    {
     "name": "stderr",
     "output_type": "stream",
     "text": [
      "2022-07-21 12:04:34,764 - arthurai.core.data_service - INFO - Starting upload (1.376 MB in 1 files), depending on data size this may take a few minutes\n",
      "2022-07-21 12:04:35,347 - arthurai.core.data_service - INFO - Upload completed: /var/folders/hl/bdslq5454bx2hb8xz6s19ggm0000gn/T/tmp077g95z1/cf421b83-479a-41f6-9a0e-9d5a1f90c7e5-0.parquet\n"
     ]
    }
   ],
   "source": [
    "model_id = arthur_model.save()"
   ]
  },
  {
   "cell_type": "code",
   "execution_count": 13,
   "metadata": {},
   "outputs": [],
   "source": [
    "# you can fetch a model by ID. for example pull the last-created model:\n",
    "# with open(\"quickstart_model_id.txt\", \"r\") as f:\n",
    "#     model_id = f.read()\n",
    "# arthur_model = connection.get_model(model_id)"
   ]
  },
  {
   "cell_type": "markdown",
   "metadata": {},
   "source": [
    "## Sending Inferences"
   ]
  },
  {
   "cell_type": "markdown",
   "metadata": {},
   "source": [
    "However you are currently invoking your model's prediction (eg. through a .predict() or .predict_proba() call), you can wrap this call so that the inputs and outputs are logged with Arthur.\n"
   ]
  },
  {
   "cell_type": "code",
   "execution_count": null,
   "metadata": {
    "ExecuteTime": {
     "end_time": "2021-08-02T21:17:39.912344Z",
     "start_time": "2021-08-02T21:17:39.910041Z"
    }
   },
   "outputs": [],
   "source": [
    "from arthurai.core.decorators import log_prediction"
   ]
  },
  {
   "cell_type": "code",
   "execution_count": null,
   "metadata": {
    "ExecuteTime": {
     "end_time": "2021-08-02T21:17:40.195457Z",
     "start_time": "2021-08-02T21:17:40.192922Z"
    }
   },
   "outputs": [],
   "source": [
    "@log_prediction(arthur_model)\n",
    "def model_predict(input_vec):\n",
    " return sk_model.predict_proba(input_vec)[0]"
   ]
  },
  {
   "cell_type": "markdown",
   "metadata": {
    "ExecuteTime": {
     "end_time": "2021-08-02T21:20:56.743461Z",
     "start_time": "2021-08-02T21:20:56.739684Z"
    }
   },
   "source": [
    "We'll create some timestamps to mimic sending the data over a period of time. If these are left out the\n",
    "current time will be populated"
   ]
  },
  {
   "cell_type": "code",
   "execution_count": null,
   "metadata": {
    "ExecuteTime": {
     "end_time": "2021-08-02T21:21:04.464145Z",
     "start_time": "2021-08-02T21:21:04.461103Z"
    }
   },
   "outputs": [],
   "source": [
    "# 10 timestamps over the last month\n",
    "timestamps = pd.date_range(start=datetime.now(pytz.utc) - timedelta(days=30),\n",
    "                           end=datetime.now(pytz.utc),\n",
    "                           periods=10)"
   ]
  },
  {
   "cell_type": "markdown",
   "metadata": {},
   "source": [
    "Now, as we iterate through a dataset and invoke our model for predictions, the model inputs and outputs are logged. "
   ]
  },
  {
   "cell_type": "code",
   "execution_count": null,
   "metadata": {
    "ExecuteTime": {
     "end_time": "2021-08-02T21:42:43.918440Z",
     "start_time": "2021-08-02T21:42:35.439470Z"
    },
    "scrolled": true
   },
   "outputs": [],
   "source": [
    "inference_ids = {}\n",
    "for timestamp in timestamps:\n",
    "    for i in range(np.random.randint(7, 10)):\n",
    "        datarecord = X_test.sample(1)  # fetch a random row\n",
    "        prediction, inference_id = model_predict(datarecord, inference_timestamp=timestamp)  # predict and log\n",
    "        inference_ids[inference_id] = datarecord.index[0]  # record the inference ID with the Pandas index\n",
    "    print(f\"Logged {i+1} inferences with Arthur from {timestamp.strftime('%m/%d')}\")"
   ]
  },
  {
   "cell_type": "markdown",
   "metadata": {},
   "source": [
    "\n",
    "If your model scoring system is a set up in a batch processor where you run a daily, weekly, or monthly job, then we recommend setting a batch model with Arthur and using the corresponding *send_batch_inferences()* method. An example batch model can be found [here](../../credit_risk_batch/notebooks/Quickstart.ipynb)."
   ]
  },
  {
   "cell_type": "markdown",
   "metadata": {},
   "source": [
    "## Updating with Ground Truth"
   ]
  },
  {
   "cell_type": "markdown",
   "metadata": {},
   "source": [
    "In the future, when your ground truth lables come in, you can [update each inference](https://docs.arthur.ai/sdk/sdk_v3/arthurai.core.html#arthurai.core.models.ArthurModel.update_inference_ground_truths) by id with its corresponding label. "
   ]
  },
  {
   "cell_type": "code",
   "execution_count": null,
   "metadata": {
    "ExecuteTime": {
     "end_time": "2021-08-02T21:54:20.699496Z",
     "start_time": "2021-08-02T21:54:20.689864Z"
    }
   },
   "outputs": [],
   "source": [
    "gt_df = pd.DataFrame({'partner_inference_id': inference_ids.keys(),\n",
    "                      'gt': Y_test[inference_ids.values()]})\n",
    "gt_df.head(5)"
   ]
  },
  {
   "cell_type": "code",
   "execution_count": null,
   "metadata": {
    "ExecuteTime": {
     "end_time": "2021-08-02T21:54:41.573703Z",
     "start_time": "2021-08-02T21:54:41.363026Z"
    },
    "scrolled": true
   },
   "outputs": [],
   "source": [
    "_ = arthur_model.update_inference_ground_truths(gt_df)"
   ]
  }
 ],
 "metadata": {
  "interpreter": {
   "hash": "d485cb42aaa05640787d51ff6b98576e6591c8fe1b0e087ca1599e137e7b48f2"
  },
  "kernelspec": {
   "display_name": "Python 3 (ipykernel)",
   "language": "python",
   "name": "python3"
  },
  "language_info": {
   "codemirror_mode": {
    "name": "ipython",
    "version": 3
   },
   "file_extension": ".py",
   "mimetype": "text/x-python",
   "name": "python",
   "nbconvert_exporter": "python",
   "pygments_lexer": "ipython3",
   "version": "3.8.11"
  },
  "toc": {
   "base_numbering": 1,
   "nav_menu": {},
   "number_sections": true,
   "sideBar": true,
   "skip_h1_title": false,
   "title_cell": "Table of Contents",
   "title_sidebar": "Contents",
   "toc_cell": false,
   "toc_position": {},
   "toc_section_display": true,
   "toc_window_display": false
  }
 },
 "nbformat": 4,
 "nbformat_minor": 4
}
