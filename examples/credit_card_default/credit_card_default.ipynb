{
 "cells": [
  {
   "cell_type": "markdown",
   "metadata": {},
   "source": [
    "# Arthur Sandbox Example - Credit Card Default \n",
    "\n",
    "## Tabular Dataset, Binary Classifier\n",
    "\n",
    "In this guide, we'll use a tabular dataset and a pre-trained classifier to onboard a new streaming model to the Arthur platform. Then we will go through steps to analyze our model.\n",
    "\n",
    "## Model Onboarding\n",
    "\n",
    "Onboarding is the process of setting up your model to be monitored by Arthur. You specify the type of data your model ingests, send a sample of historical model inferences to provide a baseline of the distribution of the features of your data, and you configure additional settings among the services Arthur offers.\n",
    "\n",
    "**Arthur does not need your model object itself to monitor performance - only predictions are required**\n",
    "\n",
    "All you need to monitor your model with Arthur is to upload the predictions your model makes: Arthur computes analytics about your model based on that prediction data. This data can be computed directly by your model in a script or notebook like this one to be uploaded to the platform, or can be fetched from an external database to be sent to Arthur (we are an API-first company!)\n",
    "\n",
    "### Getting Model Predictions\n",
    "We'll prepare a reference dataset of a sample of training data and predictions from a pre-trained model.\n",
    "\n",
    "### Registering Model with Arthur\n",
    "We'll build our model on the reference dataset, configure our model attributes, save the model to the Arthur platform, and activate explainability.\n",
    "\n",
    "### Sending Inferences\n",
    "We'll send model inferences (inputs and predictions) to the Arthur platform, and then send the corresponding ground truth values (which are matched to the predictions by inference IDs).\n",
    "\n",
    "### Activating Enrichments\n",
    "We'll activate model enrichments, which are additional services Arthur provides with automated backend computation to make model monitoring and analysis easier for Arthur users:\n",
    "\n",
    "|  |  |\n",
    "| ---------- | ----------- |\n",
    "| **Anomaly Detection** | Anomaly scores for individual inferences help identify outliers in a model's data pipeline. |\n",
    "| **Explainability** | Model explanations estimate the relative impact of different input features on inferences.|\n",
    "| **Hotspots** | Hotspots are regions of data where Arthur automatically identifies low performance metrics.|\n",
    "| **Bias Mitigation** | Bias mitigation post-processes model outputs to balance performance with groupwise fairness. |\n",
    "\n",
    "## Model Monitoring and Analysis\n",
    "\n",
    "Once onboarding is complete and you have inferences uploaded to the platform, you can use Arthur to get model monitoring insights.\n",
    "\n",
    "### Performance\n",
    "We'll get accuracy, F1, and AUC performance metrics for our model.\n",
    "\n",
    "### Drift\n",
    "We'll get KL divergence metrics for our model, which measures how far our model's attributes have strayed from their baseline distribution.\n",
    "\n",
    "### Bias Monitoring\n",
    "We'll compare model metrics split by sensitive attributes in order to proactively understand how a model is underperforming on different groups in its dataset.\n",
    "\n",
    "### Alerts\n",
    "We'll configure model alerts, which send messages notifying of recent changes in model performance.\n",
    "\n",
    "### Enrichments\n",
    "We'll get extra insights on model performance with anomaly detection, model explanations, performance hotspots, and bias mitigation post-processing analysis."
   ]
  },
  {
   "cell_type": "markdown",
   "metadata": {},
   "source": [
    "# Imports"
   ]
  },
  {
   "cell_type": "code",
   "execution_count": 1,
   "metadata": {
    "ExecuteTime": {
     "end_time": "2021-09-02T19:08:14.390559Z",
     "start_time": "2021-09-02T19:08:12.824796Z"
    },
    "scrolled": true
   },
   "outputs": [
    {
     "name": "stderr",
     "output_type": "stream",
     "text": [
      "<frozen importlib._bootstrap>:219: RuntimeWarning: scipy._lib.messagestream.MessageStream size changed, may indicate binary incompatibility. Expected 56 from C header, got 64 from PyObject\n"
     ]
    }
   ],
   "source": [
    "from datetime import datetime, timedelta\n",
    "from IPython.display import display, HTML\n",
    "import matplotlib.pyplot as plt\n",
    "import numpy as np\n",
    "import os\n",
    "import pandas as pd\n",
    "from pathlib import Path\n",
    "import pytz\n",
    "\n",
    "import arthurai\n",
    "from arthurai import ArthurAI\n",
    "from arthurai.common.constants import InputType, OutputType, Stage, Enrichment\n",
    "from arthurai.util import generate_timestamps\n",
    "\n",
    "from arthur_data_and_models import \\\n",
    "    get_prepared_arthur_dataset, get_arthur_pretrained_model_predictions"
   ]
  },
  {
   "cell_type": "markdown",
   "metadata": {},
   "source": [
    "-----\n",
    "\n",
    "-----\n",
    "\n",
    "# Onboarding\n",
    "\n",
    "-----\n",
    "\n",
    "-----"
   ]
  },
  {
   "cell_type": "markdown",
   "metadata": {},
   "source": [
    "## Model Predictions"
   ]
  },
  {
   "cell_type": "markdown",
   "metadata": {},
   "source": [
    "### Loading the Data\n",
    "\n",
    "Here we load the credit default dataset. This dataset is stored on the [UCI Machine Learning Repository](https://archive.ics.uci.edu/ml/datasets/default+of+credit+card+clients), and was compiled by researchers from Chung Hua University and Tamkang University in Taiwan. \n",
    "\n",
    "Each row in the dataset represents a bank customer. \n",
    "\n",
    "The first feature is `LIMIT_BAL`, which shows the amount of credit available to the customer for a given month.\n",
    "\n",
    "The next seven features, `PAY_0`...`PAY_6` indicate the status of the customer's history of past payment, with negative values indicating complete payments and positive values indicating the delay in months of payment.\n",
    "\n",
    "The next six features, `BILL_AMT1`...`BILL_AMT6` represent the amount the customer currently owes each month to the bank from the previous 6 months.\n",
    "\n",
    "The final six features, `PAY_AMT1`...`PAY_AMT6` represent the amount the customer paid to the bank each month from the previous 6 months.\n",
    "\n",
    "We split out sensitive features for the data that the model does not process. We will still track this data as sensitive attributes in our ArthurModel so that we can proactively monitor our model for bias against these attributes, even though the model does not directly use them as features."
   ]
  },
  {
   "cell_type": "code",
   "execution_count": 2,
   "metadata": {},
   "outputs": [
    {
     "name": "stdout",
     "output_type": "stream",
     "text": [
      "downloaded credit_card_default_drifty dataset and saved to local data folder\n"
     ]
    }
   ],
   "source": [
    "X_train, X_test, y_train, y_test, sensitive_data = \\\n",
    "    get_prepared_arthur_dataset('credit_card_default_drifty')"
   ]
  },
  {
   "cell_type": "code",
   "execution_count": 3,
   "metadata": {
    "ExecuteTime": {
     "end_time": "2021-09-02T19:08:17.862562Z",
     "start_time": "2021-09-02T19:08:17.842913Z"
    }
   },
   "outputs": [
    {
     "data": {
      "text/html": [
       "<div>\n",
       "<style scoped>\n",
       "    .dataframe tbody tr th:only-of-type {\n",
       "        vertical-align: middle;\n",
       "    }\n",
       "\n",
       "    .dataframe tbody tr th {\n",
       "        vertical-align: top;\n",
       "    }\n",
       "\n",
       "    .dataframe thead th {\n",
       "        text-align: right;\n",
       "    }\n",
       "</style>\n",
       "<table border=\"1\" class=\"dataframe\">\n",
       "  <thead>\n",
       "    <tr style=\"text-align: right;\">\n",
       "      <th></th>\n",
       "      <th>LIMIT_BAL</th>\n",
       "      <th>PAY_0</th>\n",
       "      <th>PAY_2</th>\n",
       "      <th>PAY_3</th>\n",
       "      <th>PAY_4</th>\n",
       "      <th>PAY_5</th>\n",
       "      <th>PAY_6</th>\n",
       "      <th>BILL_AMT1</th>\n",
       "      <th>BILL_AMT2</th>\n",
       "      <th>BILL_AMT3</th>\n",
       "      <th>BILL_AMT4</th>\n",
       "      <th>BILL_AMT5</th>\n",
       "      <th>BILL_AMT6</th>\n",
       "      <th>PAY_AMT1</th>\n",
       "      <th>PAY_AMT2</th>\n",
       "      <th>PAY_AMT3</th>\n",
       "      <th>PAY_AMT4</th>\n",
       "      <th>PAY_AMT5</th>\n",
       "      <th>PAY_AMT6</th>\n",
       "    </tr>\n",
       "  </thead>\n",
       "  <tbody>\n",
       "    <tr>\n",
       "      <th>14855</th>\n",
       "      <td>40000</td>\n",
       "      <td>0</td>\n",
       "      <td>0</td>\n",
       "      <td>0</td>\n",
       "      <td>0</td>\n",
       "      <td>0</td>\n",
       "      <td>0</td>\n",
       "      <td>36159</td>\n",
       "      <td>38241</td>\n",
       "      <td>39121</td>\n",
       "      <td>40400</td>\n",
       "      <td>40000</td>\n",
       "      <td>40000</td>\n",
       "      <td>3000</td>\n",
       "      <td>1800</td>\n",
       "      <td>2000</td>\n",
       "      <td>0</td>\n",
       "      <td>0</td>\n",
       "      <td>0</td>\n",
       "    </tr>\n",
       "    <tr>\n",
       "      <th>23582</th>\n",
       "      <td>80000</td>\n",
       "      <td>1</td>\n",
       "      <td>-2</td>\n",
       "      <td>-2</td>\n",
       "      <td>-2</td>\n",
       "      <td>-2</td>\n",
       "      <td>-2</td>\n",
       "      <td>0</td>\n",
       "      <td>0</td>\n",
       "      <td>0</td>\n",
       "      <td>0</td>\n",
       "      <td>0</td>\n",
       "      <td>0</td>\n",
       "      <td>0</td>\n",
       "      <td>0</td>\n",
       "      <td>0</td>\n",
       "      <td>0</td>\n",
       "      <td>0</td>\n",
       "      <td>0</td>\n",
       "    </tr>\n",
       "    <tr>\n",
       "      <th>331</th>\n",
       "      <td>90000</td>\n",
       "      <td>-1</td>\n",
       "      <td>-1</td>\n",
       "      <td>-1</td>\n",
       "      <td>-1</td>\n",
       "      <td>-1</td>\n",
       "      <td>-1</td>\n",
       "      <td>3000</td>\n",
       "      <td>6000</td>\n",
       "      <td>0</td>\n",
       "      <td>3000</td>\n",
       "      <td>3000</td>\n",
       "      <td>3000</td>\n",
       "      <td>6000</td>\n",
       "      <td>0</td>\n",
       "      <td>3000</td>\n",
       "      <td>3000</td>\n",
       "      <td>3000</td>\n",
       "      <td>3000</td>\n",
       "    </tr>\n",
       "    <tr>\n",
       "      <th>25642</th>\n",
       "      <td>50000</td>\n",
       "      <td>0</td>\n",
       "      <td>0</td>\n",
       "      <td>0</td>\n",
       "      <td>0</td>\n",
       "      <td>0</td>\n",
       "      <td>2</td>\n",
       "      <td>45675</td>\n",
       "      <td>41712</td>\n",
       "      <td>29756</td>\n",
       "      <td>32418</td>\n",
       "      <td>34983</td>\n",
       "      <td>18175</td>\n",
       "      <td>3630</td>\n",
       "      <td>2000</td>\n",
       "      <td>3500</td>\n",
       "      <td>2713</td>\n",
       "      <td>0</td>\n",
       "      <td>193</td>\n",
       "    </tr>\n",
       "    <tr>\n",
       "      <th>29466</th>\n",
       "      <td>180000</td>\n",
       "      <td>1</td>\n",
       "      <td>-2</td>\n",
       "      <td>-2</td>\n",
       "      <td>-2</td>\n",
       "      <td>-2</td>\n",
       "      <td>-2</td>\n",
       "      <td>0</td>\n",
       "      <td>0</td>\n",
       "      <td>0</td>\n",
       "      <td>0</td>\n",
       "      <td>0</td>\n",
       "      <td>0</td>\n",
       "      <td>0</td>\n",
       "      <td>0</td>\n",
       "      <td>0</td>\n",
       "      <td>0</td>\n",
       "      <td>0</td>\n",
       "      <td>800</td>\n",
       "    </tr>\n",
       "  </tbody>\n",
       "</table>\n",
       "</div>"
      ],
      "text/plain": [
       "       LIMIT_BAL  PAY_0  PAY_2  PAY_3  PAY_4  PAY_5  PAY_6  BILL_AMT1  \\\n",
       "14855      40000      0      0      0      0      0      0      36159   \n",
       "23582      80000      1     -2     -2     -2     -2     -2          0   \n",
       "331        90000     -1     -1     -1     -1     -1     -1       3000   \n",
       "25642      50000      0      0      0      0      0      2      45675   \n",
       "29466     180000      1     -2     -2     -2     -2     -2          0   \n",
       "\n",
       "       BILL_AMT2  BILL_AMT3  BILL_AMT4  BILL_AMT5  BILL_AMT6  PAY_AMT1  \\\n",
       "14855      38241      39121      40400      40000      40000      3000   \n",
       "23582          0          0          0          0          0         0   \n",
       "331         6000          0       3000       3000       3000      6000   \n",
       "25642      41712      29756      32418      34983      18175      3630   \n",
       "29466          0          0          0          0          0         0   \n",
       "\n",
       "       PAY_AMT2  PAY_AMT3  PAY_AMT4  PAY_AMT5  PAY_AMT6  \n",
       "14855      1800      2000         0         0         0  \n",
       "23582         0         0         0         0         0  \n",
       "331           0      3000      3000      3000      3000  \n",
       "25642      2000      3500      2713         0       193  \n",
       "29466         0         0         0         0       800  "
      ]
     },
     "execution_count": 3,
     "metadata": {},
     "output_type": "execute_result"
    }
   ],
   "source": [
    "X_train.head()"
   ]
  },
  {
   "cell_type": "code",
   "execution_count": 4,
   "metadata": {
    "ExecuteTime": {
     "end_time": "2021-09-02T19:08:17.299377Z",
     "start_time": "2021-09-02T19:08:17.293749Z"
    }
   },
   "outputs": [
    {
     "data": {
      "text/html": [
       "<div>\n",
       "<style scoped>\n",
       "    .dataframe tbody tr th:only-of-type {\n",
       "        vertical-align: middle;\n",
       "    }\n",
       "\n",
       "    .dataframe tbody tr th {\n",
       "        vertical-align: top;\n",
       "    }\n",
       "\n",
       "    .dataframe thead th {\n",
       "        text-align: right;\n",
       "    }\n",
       "</style>\n",
       "<table border=\"1\" class=\"dataframe\">\n",
       "  <thead>\n",
       "    <tr style=\"text-align: right;\">\n",
       "      <th></th>\n",
       "      <th>ground_truth_credit_default</th>\n",
       "    </tr>\n",
       "  </thead>\n",
       "  <tbody>\n",
       "    <tr>\n",
       "      <th>14855</th>\n",
       "      <td>0</td>\n",
       "    </tr>\n",
       "    <tr>\n",
       "      <th>23582</th>\n",
       "      <td>1</td>\n",
       "    </tr>\n",
       "    <tr>\n",
       "      <th>331</th>\n",
       "      <td>0</td>\n",
       "    </tr>\n",
       "    <tr>\n",
       "      <th>25642</th>\n",
       "      <td>0</td>\n",
       "    </tr>\n",
       "    <tr>\n",
       "      <th>29466</th>\n",
       "      <td>1</td>\n",
       "    </tr>\n",
       "  </tbody>\n",
       "</table>\n",
       "</div>"
      ],
      "text/plain": [
       "       ground_truth_credit_default\n",
       "14855                            0\n",
       "23582                            1\n",
       "331                              0\n",
       "25642                            0\n",
       "29466                            1"
      ]
     },
     "execution_count": 4,
     "metadata": {},
     "output_type": "execute_result"
    }
   ],
   "source": [
    "y_train.head()"
   ]
  },
  {
   "cell_type": "code",
   "execution_count": 5,
   "metadata": {},
   "outputs": [
    {
     "data": {
      "text/html": [
       "<div>\n",
       "<style scoped>\n",
       "    .dataframe tbody tr th:only-of-type {\n",
       "        vertical-align: middle;\n",
       "    }\n",
       "\n",
       "    .dataframe tbody tr th {\n",
       "        vertical-align: top;\n",
       "    }\n",
       "\n",
       "    .dataframe thead th {\n",
       "        text-align: right;\n",
       "    }\n",
       "</style>\n",
       "<table border=\"1\" class=\"dataframe\">\n",
       "  <thead>\n",
       "    <tr style=\"text-align: right;\">\n",
       "      <th></th>\n",
       "      <th>SEX</th>\n",
       "      <th>EDUCATION</th>\n",
       "      <th>MARRIAGE</th>\n",
       "      <th>AGE</th>\n",
       "    </tr>\n",
       "  </thead>\n",
       "  <tbody>\n",
       "    <tr>\n",
       "      <th>0</th>\n",
       "      <td>2</td>\n",
       "      <td>4</td>\n",
       "      <td>2</td>\n",
       "      <td>42</td>\n",
       "    </tr>\n",
       "    <tr>\n",
       "      <th>1</th>\n",
       "      <td>2</td>\n",
       "      <td>1</td>\n",
       "      <td>1</td>\n",
       "      <td>34</td>\n",
       "    </tr>\n",
       "    <tr>\n",
       "      <th>2</th>\n",
       "      <td>1</td>\n",
       "      <td>2</td>\n",
       "      <td>2</td>\n",
       "      <td>23</td>\n",
       "    </tr>\n",
       "    <tr>\n",
       "      <th>3</th>\n",
       "      <td>1</td>\n",
       "      <td>2</td>\n",
       "      <td>2</td>\n",
       "      <td>33</td>\n",
       "    </tr>\n",
       "    <tr>\n",
       "      <th>4</th>\n",
       "      <td>1</td>\n",
       "      <td>2</td>\n",
       "      <td>1</td>\n",
       "      <td>48</td>\n",
       "    </tr>\n",
       "  </tbody>\n",
       "</table>\n",
       "</div>"
      ],
      "text/plain": [
       "   SEX  EDUCATION  MARRIAGE  AGE\n",
       "0    2          4         2   42\n",
       "1    2          1         1   34\n",
       "2    1          2         2   23\n",
       "3    1          2         2   33\n",
       "4    1          2         1   48"
      ]
     },
     "execution_count": 5,
     "metadata": {},
     "output_type": "execute_result"
    }
   ],
   "source": [
    "sensitive_data.head()"
   ]
  },
  {
   "cell_type": "markdown",
   "metadata": {},
   "source": [
    "### Preparing `reference_data`\n",
    "\n",
    "A reference dataset is an example of what you expect data to look like during deployment. When your model ingests data during deployment, drift metrics and anomaly scores are computed by comparing new inferences against the reference set.\n",
    "\n",
    "We include the model's training data features in our reference dataset, as well as predicted model probabilities, sensitive attributes, and ground truth labels for these inferences.\n",
    "\n",
    "**Only model input attributes are required during onboarding, but others are recommended**: \n",
    "\n",
    "Including predicted model output values, sensitive attributes, and ground truth labels when onboarding to Arthur is **optional**. Including these attributes during onboarding, if they are available, is recommended because it can be used to track drift and evaluate future model performance against baseline model performance."
   ]
  },
  {
   "cell_type": "code",
   "execution_count": 6,
   "metadata": {},
   "outputs": [
    {
     "name": "stdout",
     "output_type": "stream",
     "text": [
      "downloaded credit_card_default_drifty model predictions and saved to local data folder\n"
     ]
    }
   ],
   "source": [
    "# load predictions from a parquet file\n",
    "predictions = \\\n",
    "    get_arthur_pretrained_model_predictions('credit_card_default_drifty')"
   ]
  },
  {
   "cell_type": "code",
   "execution_count": 7,
   "metadata": {
    "ExecuteTime": {
     "end_time": "2021-09-02T19:08:20.451589Z",
     "start_time": "2021-09-02T19:08:19.113582Z"
    }
   },
   "outputs": [
    {
     "data": {
      "text/html": [
       "<div>\n",
       "<style scoped>\n",
       "    .dataframe tbody tr th:only-of-type {\n",
       "        vertical-align: middle;\n",
       "    }\n",
       "\n",
       "    .dataframe tbody tr th {\n",
       "        vertical-align: top;\n",
       "    }\n",
       "\n",
       "    .dataframe thead th {\n",
       "        text-align: right;\n",
       "    }\n",
       "</style>\n",
       "<table border=\"1\" class=\"dataframe\">\n",
       "  <thead>\n",
       "    <tr style=\"text-align: right;\">\n",
       "      <th></th>\n",
       "      <th>LIMIT_BAL</th>\n",
       "      <th>PAY_0</th>\n",
       "      <th>PAY_2</th>\n",
       "      <th>PAY_3</th>\n",
       "      <th>PAY_4</th>\n",
       "      <th>PAY_5</th>\n",
       "      <th>PAY_6</th>\n",
       "      <th>BILL_AMT1</th>\n",
       "      <th>BILL_AMT2</th>\n",
       "      <th>BILL_AMT3</th>\n",
       "      <th>...</th>\n",
       "      <th>PAY_AMT3</th>\n",
       "      <th>PAY_AMT4</th>\n",
       "      <th>PAY_AMT5</th>\n",
       "      <th>PAY_AMT6</th>\n",
       "      <th>pred_proba_credit_default</th>\n",
       "      <th>SEX</th>\n",
       "      <th>EDUCATION</th>\n",
       "      <th>MARRIAGE</th>\n",
       "      <th>AGE</th>\n",
       "      <th>ground_truth_credit_default</th>\n",
       "    </tr>\n",
       "  </thead>\n",
       "  <tbody>\n",
       "    <tr>\n",
       "      <th>14855</th>\n",
       "      <td>40000</td>\n",
       "      <td>0</td>\n",
       "      <td>0</td>\n",
       "      <td>0</td>\n",
       "      <td>0</td>\n",
       "      <td>0</td>\n",
       "      <td>0</td>\n",
       "      <td>36159</td>\n",
       "      <td>38241</td>\n",
       "      <td>39121</td>\n",
       "      <td>...</td>\n",
       "      <td>2000</td>\n",
       "      <td>0</td>\n",
       "      <td>0</td>\n",
       "      <td>0</td>\n",
       "      <td>0.00000</td>\n",
       "      <td>2</td>\n",
       "      <td>2</td>\n",
       "      <td>1</td>\n",
       "      <td>49</td>\n",
       "      <td>0</td>\n",
       "    </tr>\n",
       "    <tr>\n",
       "      <th>23582</th>\n",
       "      <td>80000</td>\n",
       "      <td>1</td>\n",
       "      <td>-2</td>\n",
       "      <td>-2</td>\n",
       "      <td>-2</td>\n",
       "      <td>-2</td>\n",
       "      <td>-2</td>\n",
       "      <td>0</td>\n",
       "      <td>0</td>\n",
       "      <td>0</td>\n",
       "      <td>...</td>\n",
       "      <td>0</td>\n",
       "      <td>0</td>\n",
       "      <td>0</td>\n",
       "      <td>0</td>\n",
       "      <td>0.24958</td>\n",
       "      <td>1</td>\n",
       "      <td>1</td>\n",
       "      <td>2</td>\n",
       "      <td>26</td>\n",
       "      <td>1</td>\n",
       "    </tr>\n",
       "    <tr>\n",
       "      <th>331</th>\n",
       "      <td>90000</td>\n",
       "      <td>-1</td>\n",
       "      <td>-1</td>\n",
       "      <td>-1</td>\n",
       "      <td>-1</td>\n",
       "      <td>-1</td>\n",
       "      <td>-1</td>\n",
       "      <td>3000</td>\n",
       "      <td>6000</td>\n",
       "      <td>0</td>\n",
       "      <td>...</td>\n",
       "      <td>3000</td>\n",
       "      <td>3000</td>\n",
       "      <td>3000</td>\n",
       "      <td>3000</td>\n",
       "      <td>0.10000</td>\n",
       "      <td>2</td>\n",
       "      <td>1</td>\n",
       "      <td>2</td>\n",
       "      <td>33</td>\n",
       "      <td>0</td>\n",
       "    </tr>\n",
       "    <tr>\n",
       "      <th>25642</th>\n",
       "      <td>50000</td>\n",
       "      <td>0</td>\n",
       "      <td>0</td>\n",
       "      <td>0</td>\n",
       "      <td>0</td>\n",
       "      <td>0</td>\n",
       "      <td>2</td>\n",
       "      <td>45675</td>\n",
       "      <td>41712</td>\n",
       "      <td>29756</td>\n",
       "      <td>...</td>\n",
       "      <td>3500</td>\n",
       "      <td>2713</td>\n",
       "      <td>0</td>\n",
       "      <td>193</td>\n",
       "      <td>0.10000</td>\n",
       "      <td>2</td>\n",
       "      <td>2</td>\n",
       "      <td>2</td>\n",
       "      <td>22</td>\n",
       "      <td>0</td>\n",
       "    </tr>\n",
       "    <tr>\n",
       "      <th>29466</th>\n",
       "      <td>180000</td>\n",
       "      <td>1</td>\n",
       "      <td>-2</td>\n",
       "      <td>-2</td>\n",
       "      <td>-2</td>\n",
       "      <td>-2</td>\n",
       "      <td>-2</td>\n",
       "      <td>0</td>\n",
       "      <td>0</td>\n",
       "      <td>0</td>\n",
       "      <td>...</td>\n",
       "      <td>0</td>\n",
       "      <td>0</td>\n",
       "      <td>0</td>\n",
       "      <td>800</td>\n",
       "      <td>0.90000</td>\n",
       "      <td>2</td>\n",
       "      <td>2</td>\n",
       "      <td>1</td>\n",
       "      <td>32</td>\n",
       "      <td>1</td>\n",
       "    </tr>\n",
       "  </tbody>\n",
       "</table>\n",
       "<p>5 rows × 25 columns</p>\n",
       "</div>"
      ],
      "text/plain": [
       "       LIMIT_BAL  PAY_0  PAY_2  PAY_3  PAY_4  PAY_5  PAY_6  BILL_AMT1  \\\n",
       "14855      40000      0      0      0      0      0      0      36159   \n",
       "23582      80000      1     -2     -2     -2     -2     -2          0   \n",
       "331        90000     -1     -1     -1     -1     -1     -1       3000   \n",
       "25642      50000      0      0      0      0      0      2      45675   \n",
       "29466     180000      1     -2     -2     -2     -2     -2          0   \n",
       "\n",
       "       BILL_AMT2  BILL_AMT3  ...  PAY_AMT3  PAY_AMT4  PAY_AMT5  PAY_AMT6  \\\n",
       "14855      38241      39121  ...      2000         0         0         0   \n",
       "23582          0          0  ...         0         0         0         0   \n",
       "331         6000          0  ...      3000      3000      3000      3000   \n",
       "25642      41712      29756  ...      3500      2713         0       193   \n",
       "29466          0          0  ...         0         0         0       800   \n",
       "\n",
       "       pred_proba_credit_default  SEX  EDUCATION  MARRIAGE  AGE  \\\n",
       "14855                    0.00000    2          2         1   49   \n",
       "23582                    0.24958    1          1         2   26   \n",
       "331                      0.10000    2          1         2   33   \n",
       "25642                    0.10000    2          2         2   22   \n",
       "29466                    0.90000    2          2         1   32   \n",
       "\n",
       "       ground_truth_credit_default  \n",
       "14855                            0  \n",
       "23582                            1  \n",
       "331                              0  \n",
       "25642                            0  \n",
       "29466                            1  \n",
       "\n",
       "[5 rows x 25 columns]"
      ]
     },
     "execution_count": 7,
     "metadata": {},
     "output_type": "execute_result"
    }
   ],
   "source": [
    "# reference_data will contain the model's input features, \n",
    "# predicted probabilities, ground truth labels, and sensitive attributes,\n",
    "# so we start by creating it as a copy of the training dataframe\n",
    "reference_data = X_train.copy()\n",
    "\n",
    "# add model predictions to reference_data\n",
    "reference_data[\"pred_proba_credit_default\"] = \\\n",
    "    predictions.loc[reference_data.index].values\n",
    "\n",
    "# add sensitive attributes to reference_data\n",
    "reference_data = pd.concat([\n",
    "    reference_data, \n",
    "    sensitive_data.loc[reference_data.index]], \n",
    "    axis=1)\n",
    "\n",
    "# add ground truth labels to reference_data\n",
    "reference_data[y_train.columns[0]] = y_train\n",
    "                           \n",
    "reference_data.head()"
   ]
  },
  {
   "cell_type": "markdown",
   "metadata": {},
   "source": [
    "## Registering Model With Arthur"
   ]
  },
  {
   "cell_type": "markdown",
   "metadata": {},
   "source": [
    "### Set up connection\n",
    "Supply your login to authenticate with the platform."
   ]
  },
  {
   "cell_type": "code",
   "execution_count": 9,
   "metadata": {},
   "outputs": [],
   "source": [
    "# connect to Arthur \n",
    "# arthur = ArthurAI(\n",
    "#     url=\"https://app.arthur.ai\", \n",
    "#     login=\"<YOUR_USERNAME_OR_EMAIL>\",\n",
    "# )\n",
    "\n",
    "arthur = ArthurAI(\n",
    "    url='https://element.sandbox.arthur.ai',\n",
    "    login='max_enterprise',\n",
    "    password='RoundTable3',\n",
    "    verify_ssl=False\n",
    ")"
   ]
  },
  {
   "cell_type": "markdown",
   "metadata": {},
   "source": [
    "### Registering Model Type"
   ]
  },
  {
   "cell_type": "markdown",
   "metadata": {},
   "source": [
    "We'll instantiate an [`ArthurModel`](https://docs.arthur.ai/sdk/sdk_v3/apiref/arthurai.core.models.ArthurModel.html) with the `ArthurAI.model()` method, which registers the model and its type with the Arthur platform. \n",
    "\n",
    "The `partner_model_id` is the unique identifier of this model registered to the Arthur platform. In this example we include the current datetime in `partner_model_id` by default. We supply a separate `display_name` parameter so that the model is more easily identifiable in the online dashboard.\n",
    "\n",
    "The `InputType` of a model specifies the general type of data your model ingests. The `OutputType` of a model specifies the modeling task at hand."
   ]
  },
  {
   "cell_type": "code",
   "execution_count": 11,
   "metadata": {
    "ExecuteTime": {
     "end_time": "2021-09-02T19:08:20.533507Z",
     "start_time": "2021-09-02T19:08:20.531272Z"
    },
    "scrolled": true
   },
   "outputs": [],
   "source": [
    "# instantiate an ArthurModel object to be registered \n",
    "# with the Arthur platform with a name and a type\n",
    "arthur_model = arthur.model(\n",
    "    partner_model_id=f\"CreditDefault_{datetime.now().strftime('%Y%m%d%H%M%S')}\",\n",
    "    display_name=\"Example: Credit Default\",\n",
    "    input_type=InputType.Tabular,\n",
    "    output_type=OutputType.Multiclass)"
   ]
  },
  {
   "cell_type": "markdown",
   "metadata": {},
   "source": [
    "We have just registered a streaming model, which is the default for an ArthurModel. Registering a streaming model means you don't have an assumption about when model inferences will be generated and sent to Arthur. A model is registered as streaming by default, and can be configured in the `model()` method by setting the `is_batch` parameter to `False`.\n",
    "\n",
    "In contrast, if your model pipeline is a set up where you run a daily, weekly, or monthly job, or in general if you have an expectation as to _when_ inferences are gathered and logged, then we recommend setting a batch model with Arthur instead of a streaming model. When registering a batch model with the `model()` method, you would set the `is_batch` parameter to `True`."
   ]
  },
  {
   "cell_type": "markdown",
   "metadata": {},
   "source": [
    "### Building the Model Schema on the Reference Dataset"
   ]
  },
  {
   "cell_type": "markdown",
   "metadata": {},
   "source": [
    "We'll use the `reference_data` prepared above to register the model schema for this tabular classifier model. The model schema is a record of the names, shapes, datatypes, and other properties for the attributes data your model uses (inputs, outputs, ground truth values, and other non-input attributes). \n",
    "\n",
    "We'll do this with the [ArthurModel.build()](https://docs.arthur.ai/sdk/sdk_v3/apiref/arthurai.core.models.ArthurModel.html#arthurai.core.models.ArthurModel.build) method, which configures our model using the provided reference dataframe and a map that defines how predicted probabilities correspond to ground truth values."
   ]
  },
  {
   "cell_type": "code",
   "execution_count": 12,
   "metadata": {
    "ExecuteTime": {
     "end_time": "2021-09-02T19:08:22.654494Z",
     "start_time": "2021-09-02T19:08:22.503579Z"
    },
    "scrolled": true
   },
   "outputs": [
    {
     "name": "stderr",
     "output_type": "stream",
     "text": [
      "2023-01-26 16:17:22,386 - arthurai.core.models - WARNING - Found one or more categorical attributes. It is suggested to use model.review() to verify all possible categories were inferred correctly for each categorical attribute. To update with new categories, use model.get_attribute(attr_name).set(categories=[cat_1, cat_2, cat_3])\n",
      "2023-01-26 16:17:22,395 - arthurai.core.models - WARNING - Found one or more categorical attributes. It is suggested to use model.review() to verify all possible categories were inferred correctly for each categorical attribute. To update with new categories, use model.get_attribute(attr_name).set(categories=[cat_1, cat_2, cat_3])\n"
     ]
    },
    {
     "name": "stdout",
     "output_type": "stream",
     "text": [
      "16:17:22 - arthurai - Please review the inferred schema. If everything looks correct, lock in your model by calling arthur_model.save()\n"
     ]
    },
    {
     "data": {
      "text/html": [
       "<div>\n",
       "<style scoped>\n",
       "    .dataframe tbody tr th:only-of-type {\n",
       "        vertical-align: middle;\n",
       "    }\n",
       "\n",
       "    .dataframe tbody tr th {\n",
       "        vertical-align: top;\n",
       "    }\n",
       "\n",
       "    .dataframe thead th {\n",
       "        text-align: right;\n",
       "    }\n",
       "</style>\n",
       "<table border=\"1\" class=\"dataframe\">\n",
       "  <thead>\n",
       "    <tr style=\"text-align: right;\">\n",
       "      <th></th>\n",
       "      <th>name</th>\n",
       "      <th>stage</th>\n",
       "      <th>value_type</th>\n",
       "      <th>categorical</th>\n",
       "      <th>is_unique</th>\n",
       "      <th>categories</th>\n",
       "      <th>bins</th>\n",
       "      <th>range</th>\n",
       "      <th>monitor_for_bias</th>\n",
       "    </tr>\n",
       "  </thead>\n",
       "  <tbody>\n",
       "    <tr>\n",
       "      <th>0</th>\n",
       "      <td>LIMIT_BAL</td>\n",
       "      <td>PIPELINE_INPUT</td>\n",
       "      <td>INTEGER</td>\n",
       "      <td>False</td>\n",
       "      <td>False</td>\n",
       "      <td>[]</td>\n",
       "      <td>None</td>\n",
       "      <td>[10000, 1000000]</td>\n",
       "      <td>False</td>\n",
       "    </tr>\n",
       "    <tr>\n",
       "      <th>1</th>\n",
       "      <td>PAY_0</td>\n",
       "      <td>PIPELINE_INPUT</td>\n",
       "      <td>INTEGER</td>\n",
       "      <td>True</td>\n",
       "      <td>False</td>\n",
       "      <td>[{value: 0}, {value: 1}, {value: 2}, {value: 3...</td>\n",
       "      <td>None</td>\n",
       "      <td>[None, None]</td>\n",
       "      <td>False</td>\n",
       "    </tr>\n",
       "    <tr>\n",
       "      <th>2</th>\n",
       "      <td>PAY_2</td>\n",
       "      <td>PIPELINE_INPUT</td>\n",
       "      <td>INTEGER</td>\n",
       "      <td>True</td>\n",
       "      <td>False</td>\n",
       "      <td>[{value: 0}, {value: 1}, {value: 2}, {value: 3...</td>\n",
       "      <td>None</td>\n",
       "      <td>[None, None]</td>\n",
       "      <td>False</td>\n",
       "    </tr>\n",
       "    <tr>\n",
       "      <th>3</th>\n",
       "      <td>PAY_3</td>\n",
       "      <td>PIPELINE_INPUT</td>\n",
       "      <td>INTEGER</td>\n",
       "      <td>True</td>\n",
       "      <td>False</td>\n",
       "      <td>[{value: 0}, {value: 1}, {value: 2}, {value: 3...</td>\n",
       "      <td>None</td>\n",
       "      <td>[None, None]</td>\n",
       "      <td>False</td>\n",
       "    </tr>\n",
       "    <tr>\n",
       "      <th>4</th>\n",
       "      <td>PAY_4</td>\n",
       "      <td>PIPELINE_INPUT</td>\n",
       "      <td>INTEGER</td>\n",
       "      <td>True</td>\n",
       "      <td>False</td>\n",
       "      <td>[{value: 0}, {value: 2}, {value: 3}, {value: 4...</td>\n",
       "      <td>None</td>\n",
       "      <td>[None, None]</td>\n",
       "      <td>False</td>\n",
       "    </tr>\n",
       "    <tr>\n",
       "      <th>5</th>\n",
       "      <td>PAY_5</td>\n",
       "      <td>PIPELINE_INPUT</td>\n",
       "      <td>INTEGER</td>\n",
       "      <td>True</td>\n",
       "      <td>False</td>\n",
       "      <td>[{value: 0}, {value: 2}, {value: 3}, {value: 4...</td>\n",
       "      <td>None</td>\n",
       "      <td>[None, None]</td>\n",
       "      <td>False</td>\n",
       "    </tr>\n",
       "    <tr>\n",
       "      <th>6</th>\n",
       "      <td>PAY_6</td>\n",
       "      <td>PIPELINE_INPUT</td>\n",
       "      <td>INTEGER</td>\n",
       "      <td>True</td>\n",
       "      <td>False</td>\n",
       "      <td>[{value: 0}, {value: 2}, {value: 3}, {value: 4...</td>\n",
       "      <td>None</td>\n",
       "      <td>[None, None]</td>\n",
       "      <td>False</td>\n",
       "    </tr>\n",
       "    <tr>\n",
       "      <th>7</th>\n",
       "      <td>BILL_AMT1</td>\n",
       "      <td>PIPELINE_INPUT</td>\n",
       "      <td>INTEGER</td>\n",
       "      <td>False</td>\n",
       "      <td>False</td>\n",
       "      <td>[]</td>\n",
       "      <td>None</td>\n",
       "      <td>[-14386, 964511]</td>\n",
       "      <td>False</td>\n",
       "    </tr>\n",
       "    <tr>\n",
       "      <th>8</th>\n",
       "      <td>BILL_AMT2</td>\n",
       "      <td>PIPELINE_INPUT</td>\n",
       "      <td>INTEGER</td>\n",
       "      <td>False</td>\n",
       "      <td>False</td>\n",
       "      <td>[]</td>\n",
       "      <td>None</td>\n",
       "      <td>[-69777, 983931]</td>\n",
       "      <td>False</td>\n",
       "    </tr>\n",
       "    <tr>\n",
       "      <th>9</th>\n",
       "      <td>BILL_AMT3</td>\n",
       "      <td>PIPELINE_INPUT</td>\n",
       "      <td>INTEGER</td>\n",
       "      <td>False</td>\n",
       "      <td>False</td>\n",
       "      <td>[]</td>\n",
       "      <td>None</td>\n",
       "      <td>[-61506, 565550]</td>\n",
       "      <td>False</td>\n",
       "    </tr>\n",
       "    <tr>\n",
       "      <th>10</th>\n",
       "      <td>BILL_AMT4</td>\n",
       "      <td>PIPELINE_INPUT</td>\n",
       "      <td>INTEGER</td>\n",
       "      <td>False</td>\n",
       "      <td>False</td>\n",
       "      <td>[]</td>\n",
       "      <td>None</td>\n",
       "      <td>[-65167, 891586]</td>\n",
       "      <td>False</td>\n",
       "    </tr>\n",
       "    <tr>\n",
       "      <th>11</th>\n",
       "      <td>BILL_AMT5</td>\n",
       "      <td>PIPELINE_INPUT</td>\n",
       "      <td>INTEGER</td>\n",
       "      <td>False</td>\n",
       "      <td>False</td>\n",
       "      <td>[]</td>\n",
       "      <td>None</td>\n",
       "      <td>[-53007, 927171]</td>\n",
       "      <td>False</td>\n",
       "    </tr>\n",
       "    <tr>\n",
       "      <th>12</th>\n",
       "      <td>BILL_AMT6</td>\n",
       "      <td>PIPELINE_INPUT</td>\n",
       "      <td>INTEGER</td>\n",
       "      <td>False</td>\n",
       "      <td>False</td>\n",
       "      <td>[]</td>\n",
       "      <td>None</td>\n",
       "      <td>[-339603, 961664]</td>\n",
       "      <td>False</td>\n",
       "    </tr>\n",
       "    <tr>\n",
       "      <th>13</th>\n",
       "      <td>PAY_AMT1</td>\n",
       "      <td>PIPELINE_INPUT</td>\n",
       "      <td>INTEGER</td>\n",
       "      <td>False</td>\n",
       "      <td>False</td>\n",
       "      <td>[]</td>\n",
       "      <td>None</td>\n",
       "      <td>[0, 873552]</td>\n",
       "      <td>False</td>\n",
       "    </tr>\n",
       "    <tr>\n",
       "      <th>14</th>\n",
       "      <td>PAY_AMT2</td>\n",
       "      <td>PIPELINE_INPUT</td>\n",
       "      <td>INTEGER</td>\n",
       "      <td>False</td>\n",
       "      <td>False</td>\n",
       "      <td>[]</td>\n",
       "      <td>None</td>\n",
       "      <td>[0, 1227082]</td>\n",
       "      <td>False</td>\n",
       "    </tr>\n",
       "    <tr>\n",
       "      <th>15</th>\n",
       "      <td>PAY_AMT3</td>\n",
       "      <td>PIPELINE_INPUT</td>\n",
       "      <td>INTEGER</td>\n",
       "      <td>False</td>\n",
       "      <td>False</td>\n",
       "      <td>[]</td>\n",
       "      <td>None</td>\n",
       "      <td>[0, 896040]</td>\n",
       "      <td>False</td>\n",
       "    </tr>\n",
       "    <tr>\n",
       "      <th>16</th>\n",
       "      <td>PAY_AMT4</td>\n",
       "      <td>PIPELINE_INPUT</td>\n",
       "      <td>INTEGER</td>\n",
       "      <td>False</td>\n",
       "      <td>False</td>\n",
       "      <td>[]</td>\n",
       "      <td>None</td>\n",
       "      <td>[0, 621000]</td>\n",
       "      <td>False</td>\n",
       "    </tr>\n",
       "    <tr>\n",
       "      <th>17</th>\n",
       "      <td>PAY_AMT5</td>\n",
       "      <td>PIPELINE_INPUT</td>\n",
       "      <td>INTEGER</td>\n",
       "      <td>False</td>\n",
       "      <td>False</td>\n",
       "      <td>[]</td>\n",
       "      <td>None</td>\n",
       "      <td>[0, 426529]</td>\n",
       "      <td>False</td>\n",
       "    </tr>\n",
       "    <tr>\n",
       "      <th>18</th>\n",
       "      <td>PAY_AMT6</td>\n",
       "      <td>PIPELINE_INPUT</td>\n",
       "      <td>INTEGER</td>\n",
       "      <td>False</td>\n",
       "      <td>False</td>\n",
       "      <td>[]</td>\n",
       "      <td>None</td>\n",
       "      <td>[0, 403500]</td>\n",
       "      <td>False</td>\n",
       "    </tr>\n",
       "    <tr>\n",
       "      <th>19</th>\n",
       "      <td>SEX</td>\n",
       "      <td>NON_INPUT_DATA</td>\n",
       "      <td>INTEGER</td>\n",
       "      <td>True</td>\n",
       "      <td>False</td>\n",
       "      <td>[{value: 1}, {value: 2}]</td>\n",
       "      <td>None</td>\n",
       "      <td>[None, None]</td>\n",
       "      <td>False</td>\n",
       "    </tr>\n",
       "    <tr>\n",
       "      <th>20</th>\n",
       "      <td>EDUCATION</td>\n",
       "      <td>NON_INPUT_DATA</td>\n",
       "      <td>INTEGER</td>\n",
       "      <td>True</td>\n",
       "      <td>False</td>\n",
       "      <td>[{value: 0}, {value: 1}, {value: 2}, {value: 3...</td>\n",
       "      <td>None</td>\n",
       "      <td>[None, None]</td>\n",
       "      <td>False</td>\n",
       "    </tr>\n",
       "    <tr>\n",
       "      <th>21</th>\n",
       "      <td>MARRIAGE</td>\n",
       "      <td>NON_INPUT_DATA</td>\n",
       "      <td>INTEGER</td>\n",
       "      <td>True</td>\n",
       "      <td>False</td>\n",
       "      <td>[{value: 0}, {value: 1}, {value: 2}, {value: 3}]</td>\n",
       "      <td>None</td>\n",
       "      <td>[None, None]</td>\n",
       "      <td>False</td>\n",
       "    </tr>\n",
       "    <tr>\n",
       "      <th>22</th>\n",
       "      <td>AGE</td>\n",
       "      <td>NON_INPUT_DATA</td>\n",
       "      <td>INTEGER</td>\n",
       "      <td>False</td>\n",
       "      <td>False</td>\n",
       "      <td>[]</td>\n",
       "      <td>None</td>\n",
       "      <td>[21, 75]</td>\n",
       "      <td>False</td>\n",
       "    </tr>\n",
       "    <tr>\n",
       "      <th>23</th>\n",
       "      <td>ground_truth_credit_default</td>\n",
       "      <td>GROUND_TRUTH_CLASS</td>\n",
       "      <td>INTEGER</td>\n",
       "      <td>True</td>\n",
       "      <td>False</td>\n",
       "      <td>[{value: 0}, {value: 1}]</td>\n",
       "      <td>None</td>\n",
       "      <td>[None, None]</td>\n",
       "      <td>False</td>\n",
       "    </tr>\n",
       "    <tr>\n",
       "      <th>24</th>\n",
       "      <td>pred_proba_credit_default</td>\n",
       "      <td>PREDICTED_VALUE</td>\n",
       "      <td>FLOAT</td>\n",
       "      <td>False</td>\n",
       "      <td>False</td>\n",
       "      <td>[]</td>\n",
       "      <td>None</td>\n",
       "      <td>[0, 1]</td>\n",
       "      <td>False</td>\n",
       "    </tr>\n",
       "  </tbody>\n",
       "</table>\n",
       "</div>"
      ],
      "text/plain": [
       "                           name               stage value_type categorical  \\\n",
       "0                     LIMIT_BAL      PIPELINE_INPUT    INTEGER       False   \n",
       "1                         PAY_0      PIPELINE_INPUT    INTEGER        True   \n",
       "2                         PAY_2      PIPELINE_INPUT    INTEGER        True   \n",
       "3                         PAY_3      PIPELINE_INPUT    INTEGER        True   \n",
       "4                         PAY_4      PIPELINE_INPUT    INTEGER        True   \n",
       "5                         PAY_5      PIPELINE_INPUT    INTEGER        True   \n",
       "6                         PAY_6      PIPELINE_INPUT    INTEGER        True   \n",
       "7                     BILL_AMT1      PIPELINE_INPUT    INTEGER       False   \n",
       "8                     BILL_AMT2      PIPELINE_INPUT    INTEGER       False   \n",
       "9                     BILL_AMT3      PIPELINE_INPUT    INTEGER       False   \n",
       "10                    BILL_AMT4      PIPELINE_INPUT    INTEGER       False   \n",
       "11                    BILL_AMT5      PIPELINE_INPUT    INTEGER       False   \n",
       "12                    BILL_AMT6      PIPELINE_INPUT    INTEGER       False   \n",
       "13                     PAY_AMT1      PIPELINE_INPUT    INTEGER       False   \n",
       "14                     PAY_AMT2      PIPELINE_INPUT    INTEGER       False   \n",
       "15                     PAY_AMT3      PIPELINE_INPUT    INTEGER       False   \n",
       "16                     PAY_AMT4      PIPELINE_INPUT    INTEGER       False   \n",
       "17                     PAY_AMT5      PIPELINE_INPUT    INTEGER       False   \n",
       "18                     PAY_AMT6      PIPELINE_INPUT    INTEGER       False   \n",
       "19                          SEX      NON_INPUT_DATA    INTEGER        True   \n",
       "20                    EDUCATION      NON_INPUT_DATA    INTEGER        True   \n",
       "21                     MARRIAGE      NON_INPUT_DATA    INTEGER        True   \n",
       "22                          AGE      NON_INPUT_DATA    INTEGER       False   \n",
       "23  ground_truth_credit_default  GROUND_TRUTH_CLASS    INTEGER        True   \n",
       "24    pred_proba_credit_default     PREDICTED_VALUE      FLOAT       False   \n",
       "\n",
       "   is_unique                                         categories  bins  \\\n",
       "0      False                                                 []  None   \n",
       "1      False  [{value: 0}, {value: 1}, {value: 2}, {value: 3...  None   \n",
       "2      False  [{value: 0}, {value: 1}, {value: 2}, {value: 3...  None   \n",
       "3      False  [{value: 0}, {value: 1}, {value: 2}, {value: 3...  None   \n",
       "4      False  [{value: 0}, {value: 2}, {value: 3}, {value: 4...  None   \n",
       "5      False  [{value: 0}, {value: 2}, {value: 3}, {value: 4...  None   \n",
       "6      False  [{value: 0}, {value: 2}, {value: 3}, {value: 4...  None   \n",
       "7      False                                                 []  None   \n",
       "8      False                                                 []  None   \n",
       "9      False                                                 []  None   \n",
       "10     False                                                 []  None   \n",
       "11     False                                                 []  None   \n",
       "12     False                                                 []  None   \n",
       "13     False                                                 []  None   \n",
       "14     False                                                 []  None   \n",
       "15     False                                                 []  None   \n",
       "16     False                                                 []  None   \n",
       "17     False                                                 []  None   \n",
       "18     False                                                 []  None   \n",
       "19     False                           [{value: 1}, {value: 2}]  None   \n",
       "20     False  [{value: 0}, {value: 1}, {value: 2}, {value: 3...  None   \n",
       "21     False   [{value: 0}, {value: 1}, {value: 2}, {value: 3}]  None   \n",
       "22     False                                                 []  None   \n",
       "23     False                           [{value: 0}, {value: 1}]  None   \n",
       "24     False                                                 []  None   \n",
       "\n",
       "                range monitor_for_bias  \n",
       "0    [10000, 1000000]            False  \n",
       "1        [None, None]            False  \n",
       "2        [None, None]            False  \n",
       "3        [None, None]            False  \n",
       "4        [None, None]            False  \n",
       "5        [None, None]            False  \n",
       "6        [None, None]            False  \n",
       "7    [-14386, 964511]            False  \n",
       "8    [-69777, 983931]            False  \n",
       "9    [-61506, 565550]            False  \n",
       "10   [-65167, 891586]            False  \n",
       "11   [-53007, 927171]            False  \n",
       "12  [-339603, 961664]            False  \n",
       "13        [0, 873552]            False  \n",
       "14       [0, 1227082]            False  \n",
       "15        [0, 896040]            False  \n",
       "16        [0, 621000]            False  \n",
       "17        [0, 426529]            False  \n",
       "18        [0, 403500]            False  \n",
       "19       [None, None]            False  \n",
       "20       [None, None]            False  \n",
       "21       [None, None]            False  \n",
       "22           [21, 75]            False  \n",
       "23       [None, None]            False  \n",
       "24             [0, 1]            False  "
      ]
     },
     "execution_count": 12,
     "metadata": {},
     "output_type": "execute_result"
    }
   ],
   "source": [
    "# Map PredictedValue attribute to its corresponding GroundTruth attribute value.\n",
    "# This tells Arthur that the `pred_proba_credit_default` column represents \n",
    "# the probability that the ground truth column has the value 1\n",
    "pred_to_ground_truth_map = {'pred_proba_credit_default' : 1}\n",
    "\n",
    "# Build arthur_model schema on the reference dataset,\n",
    "# specifying which attribute represents ground truth\n",
    "# and which attributes are NonInputData.\n",
    "# Arthur will monitor NonInputData attributes \n",
    "# even though they are not model inputs.\n",
    "arthur_model.build(\n",
    "    reference_data, \n",
    "    ground_truth_column='ground_truth_credit_default',\n",
    "    pred_to_ground_truth_map=pred_to_ground_truth_map,\n",
    "    non_input_columns=sensitive_data.columns\n",
    ")"
   ]
  },
  {
   "cell_type": "markdown",
   "metadata": {},
   "source": [
    "### Configuring Attributes"
   ]
  },
  {
   "cell_type": "markdown",
   "metadata": {},
   "source": [
    "#### Monitoring Sensitive Attributes for Bias\n",
    "\n",
    "We will specify that a few attributes (`SEX`, `AGE`, and `EDUCATION`) should be [monitored for bias](https://docs.arthur.ai/user-guide/walkthroughs/bias_monitoring.html)."
   ]
  },
  {
   "cell_type": "code",
   "execution_count": 13,
   "metadata": {},
   "outputs": [],
   "source": [
    "# monitoring attributes for bias\n",
    "for attr in sensitive_data.columns:\n",
    "    arthur_model.set_attribute_as_sensitive(attr)"
   ]
  },
  {
   "cell_type": "markdown",
   "metadata": {},
   "source": [
    "#### Binning Continuous Attributes\n",
    "\n",
    "Binning an attribute means placing a continuous value into one of a set of buckets. For example, one might bin an age attribute into an `old` bucket and a `young` bucket, using the bins `[None, 65, None]` to set the binned age value to be `young` when `age <= 65`, and the binned age value to be `old` when `age > 65`.\n",
    "\n",
    "The `bins` property of an attribute are used for two tasks in the Arthur system:\n",
    "\n",
    "1: Determining default settings for filters and attribute groupings in the online dashboard\n",
    "\n",
    "2: Determining the groups with which to measure bias. For example, monitoring the `age` attribute with the bins set above would monitor whether a model was biased towards people over/under age 65.\n",
    "\n",
    "Note that this property does not impact other metrics - for example, different bins are chosen when calculating drift, so the `bins` property of an attribute won't impact drift.\n",
    "\n",
    "Here we will breakup the continuous `AGE` attribute into discrete bins with the cutoff values 35 and 55. "
   ]
  },
  {
   "cell_type": "code",
   "execution_count": 14,
   "metadata": {},
   "outputs": [
    {
     "data": {
      "text/plain": [
       "ArthurAttribute(name='AGE', value_type='INTEGER', stage='NON_INPUT_DATA', id=None, label=None, position=3, categorical=False, min_range=21, max_range=75, monitor_for_bias=True, categories=[], bins=[AttributeBin(continuous_start=None, continuous_end=35), AttributeBin(continuous_start=35, continuous_end=55), AttributeBin(continuous_start=55, continuous_end=None)], is_unique=False, is_positive_predicted_attribute=False, attribute_link=None, gt_class_link=None)"
      ]
     },
     "execution_count": 14,
     "metadata": {},
     "output_type": "execute_result"
    }
   ],
   "source": [
    "# binning a continuous attribute\n",
    "# this will create 3 bins for the AGE attribute, \n",
    "# corresponding to the cutoffs [AGE < 35, 35 < AGE < 55, 55 < AGE]\n",
    "arthur_model.get_attribute(\"AGE\").set(\n",
    "    bins = [None, 35, 55, None], \n",
    "    categorical=False,\n",
    "    categories=[], \n",
    ")"
   ]
  },
  {
   "cell_type": "markdown",
   "metadata": {},
   "source": [
    "#### Labelling Attributes\n",
    "\n",
    "We will configure labels for attributes and their values so that the information is more easily readable and understandable in the Arthur dashboard."
   ]
  },
  {
   "cell_type": "code",
   "execution_count": 15,
   "metadata": {},
   "outputs": [],
   "source": [
    "# configure attribute labels and attribute value labels\n",
    "# the labels parameter maps raw attribute values to \n",
    "# the labels you would like them to have in the dashboard\n",
    "\n",
    "arthur_model.set_attribute_labels(\n",
    "    attribute_name=\"SEX\",\n",
    "    labels={1: \"Male\", 2: \"Female\"})\n",
    "\n",
    "arthur_model.set_attribute_labels(\n",
    "    attribute_name=\"EDUCATION\",\n",
    "    labels={1: \"Graduate School\", 2: \"University\",\n",
    "            3: \"High School\", 4: \"Less Than High School\",\n",
    "            5: \"Unknown\", 6: \"Unreported\", 0: \"Other\"})\n",
    "\n",
    "arthur_model.set_attribute_labels(\n",
    "    attribute_name=\"MARRIAGE\",\n",
    "    labels={1: \"Married\", 2: \"Single\",\n",
    "            3: \"Other\", 0: \"Unknown\"})"
   ]
  },
  {
   "cell_type": "markdown",
   "metadata": {},
   "source": [
    "### Saving the Model"
   ]
  },
  {
   "cell_type": "markdown",
   "metadata": {},
   "source": [
    "Before saving, be sure to review your model to make sure everything is correct. We already saw the model schema returned by `ArthurModel.build()`, but we have since changed our attribute congiruations. Therefore we call `ArthurModel.review()` to see that our changed attributes look correct before saving to the platform. See the [onboarding walkthrough on the Arthur docs](https://docs.arthur.ai/user-guide/walkthroughs/model-onboarding/index.html#review-model) for tips on reviewing your model.\n",
    "\n",
    "Note that while we capture the ranges of the attributes in this schema, they don’t need to be exact and won’t affect any performance calculations. They’re used as metadata to configure plots in the online Arthur dashboard, but never affect data drift or any other computations."
   ]
  },
  {
   "cell_type": "code",
   "execution_count": 16,
   "metadata": {
    "scrolled": true
   },
   "outputs": [
    {
     "data": {
      "text/html": [
       "<div>\n",
       "<style scoped>\n",
       "    .dataframe tbody tr th:only-of-type {\n",
       "        vertical-align: middle;\n",
       "    }\n",
       "\n",
       "    .dataframe tbody tr th {\n",
       "        vertical-align: top;\n",
       "    }\n",
       "\n",
       "    .dataframe thead th {\n",
       "        text-align: right;\n",
       "    }\n",
       "</style>\n",
       "<table border=\"1\" class=\"dataframe\">\n",
       "  <thead>\n",
       "    <tr style=\"text-align: right;\">\n",
       "      <th></th>\n",
       "      <th>name</th>\n",
       "      <th>stage</th>\n",
       "      <th>value_type</th>\n",
       "      <th>categorical</th>\n",
       "      <th>is_unique</th>\n",
       "      <th>categories</th>\n",
       "      <th>bins</th>\n",
       "      <th>range</th>\n",
       "      <th>monitor_for_bias</th>\n",
       "    </tr>\n",
       "  </thead>\n",
       "  <tbody>\n",
       "    <tr>\n",
       "      <th>0</th>\n",
       "      <td>LIMIT_BAL</td>\n",
       "      <td>PIPELINE_INPUT</td>\n",
       "      <td>INTEGER</td>\n",
       "      <td>False</td>\n",
       "      <td>False</td>\n",
       "      <td>[]</td>\n",
       "      <td>None</td>\n",
       "      <td>[10000, 1000000]</td>\n",
       "      <td>False</td>\n",
       "    </tr>\n",
       "    <tr>\n",
       "      <th>1</th>\n",
       "      <td>PAY_0</td>\n",
       "      <td>PIPELINE_INPUT</td>\n",
       "      <td>INTEGER</td>\n",
       "      <td>True</td>\n",
       "      <td>False</td>\n",
       "      <td>[{value: 0}, {value: 1}, {value: 2}, {value: 3...</td>\n",
       "      <td>None</td>\n",
       "      <td>[None, None]</td>\n",
       "      <td>False</td>\n",
       "    </tr>\n",
       "    <tr>\n",
       "      <th>2</th>\n",
       "      <td>PAY_2</td>\n",
       "      <td>PIPELINE_INPUT</td>\n",
       "      <td>INTEGER</td>\n",
       "      <td>True</td>\n",
       "      <td>False</td>\n",
       "      <td>[{value: 0}, {value: 1}, {value: 2}, {value: 3...</td>\n",
       "      <td>None</td>\n",
       "      <td>[None, None]</td>\n",
       "      <td>False</td>\n",
       "    </tr>\n",
       "    <tr>\n",
       "      <th>3</th>\n",
       "      <td>PAY_3</td>\n",
       "      <td>PIPELINE_INPUT</td>\n",
       "      <td>INTEGER</td>\n",
       "      <td>True</td>\n",
       "      <td>False</td>\n",
       "      <td>[{value: 0}, {value: 1}, {value: 2}, {value: 3...</td>\n",
       "      <td>None</td>\n",
       "      <td>[None, None]</td>\n",
       "      <td>False</td>\n",
       "    </tr>\n",
       "    <tr>\n",
       "      <th>4</th>\n",
       "      <td>PAY_4</td>\n",
       "      <td>PIPELINE_INPUT</td>\n",
       "      <td>INTEGER</td>\n",
       "      <td>True</td>\n",
       "      <td>False</td>\n",
       "      <td>[{value: 0}, {value: 2}, {value: 3}, {value: 4...</td>\n",
       "      <td>None</td>\n",
       "      <td>[None, None]</td>\n",
       "      <td>False</td>\n",
       "    </tr>\n",
       "    <tr>\n",
       "      <th>5</th>\n",
       "      <td>PAY_5</td>\n",
       "      <td>PIPELINE_INPUT</td>\n",
       "      <td>INTEGER</td>\n",
       "      <td>True</td>\n",
       "      <td>False</td>\n",
       "      <td>[{value: 0}, {value: 2}, {value: 3}, {value: 4...</td>\n",
       "      <td>None</td>\n",
       "      <td>[None, None]</td>\n",
       "      <td>False</td>\n",
       "    </tr>\n",
       "    <tr>\n",
       "      <th>6</th>\n",
       "      <td>PAY_6</td>\n",
       "      <td>PIPELINE_INPUT</td>\n",
       "      <td>INTEGER</td>\n",
       "      <td>True</td>\n",
       "      <td>False</td>\n",
       "      <td>[{value: 0}, {value: 2}, {value: 3}, {value: 4...</td>\n",
       "      <td>None</td>\n",
       "      <td>[None, None]</td>\n",
       "      <td>False</td>\n",
       "    </tr>\n",
       "    <tr>\n",
       "      <th>7</th>\n",
       "      <td>BILL_AMT1</td>\n",
       "      <td>PIPELINE_INPUT</td>\n",
       "      <td>INTEGER</td>\n",
       "      <td>False</td>\n",
       "      <td>False</td>\n",
       "      <td>[]</td>\n",
       "      <td>None</td>\n",
       "      <td>[-14386, 964511]</td>\n",
       "      <td>False</td>\n",
       "    </tr>\n",
       "    <tr>\n",
       "      <th>8</th>\n",
       "      <td>BILL_AMT2</td>\n",
       "      <td>PIPELINE_INPUT</td>\n",
       "      <td>INTEGER</td>\n",
       "      <td>False</td>\n",
       "      <td>False</td>\n",
       "      <td>[]</td>\n",
       "      <td>None</td>\n",
       "      <td>[-69777, 983931]</td>\n",
       "      <td>False</td>\n",
       "    </tr>\n",
       "    <tr>\n",
       "      <th>9</th>\n",
       "      <td>BILL_AMT3</td>\n",
       "      <td>PIPELINE_INPUT</td>\n",
       "      <td>INTEGER</td>\n",
       "      <td>False</td>\n",
       "      <td>False</td>\n",
       "      <td>[]</td>\n",
       "      <td>None</td>\n",
       "      <td>[-61506, 565550]</td>\n",
       "      <td>False</td>\n",
       "    </tr>\n",
       "    <tr>\n",
       "      <th>10</th>\n",
       "      <td>BILL_AMT4</td>\n",
       "      <td>PIPELINE_INPUT</td>\n",
       "      <td>INTEGER</td>\n",
       "      <td>False</td>\n",
       "      <td>False</td>\n",
       "      <td>[]</td>\n",
       "      <td>None</td>\n",
       "      <td>[-65167, 891586]</td>\n",
       "      <td>False</td>\n",
       "    </tr>\n",
       "    <tr>\n",
       "      <th>11</th>\n",
       "      <td>BILL_AMT5</td>\n",
       "      <td>PIPELINE_INPUT</td>\n",
       "      <td>INTEGER</td>\n",
       "      <td>False</td>\n",
       "      <td>False</td>\n",
       "      <td>[]</td>\n",
       "      <td>None</td>\n",
       "      <td>[-53007, 927171]</td>\n",
       "      <td>False</td>\n",
       "    </tr>\n",
       "    <tr>\n",
       "      <th>12</th>\n",
       "      <td>BILL_AMT6</td>\n",
       "      <td>PIPELINE_INPUT</td>\n",
       "      <td>INTEGER</td>\n",
       "      <td>False</td>\n",
       "      <td>False</td>\n",
       "      <td>[]</td>\n",
       "      <td>None</td>\n",
       "      <td>[-339603, 961664]</td>\n",
       "      <td>False</td>\n",
       "    </tr>\n",
       "    <tr>\n",
       "      <th>13</th>\n",
       "      <td>PAY_AMT1</td>\n",
       "      <td>PIPELINE_INPUT</td>\n",
       "      <td>INTEGER</td>\n",
       "      <td>False</td>\n",
       "      <td>False</td>\n",
       "      <td>[]</td>\n",
       "      <td>None</td>\n",
       "      <td>[0, 873552]</td>\n",
       "      <td>False</td>\n",
       "    </tr>\n",
       "    <tr>\n",
       "      <th>14</th>\n",
       "      <td>PAY_AMT2</td>\n",
       "      <td>PIPELINE_INPUT</td>\n",
       "      <td>INTEGER</td>\n",
       "      <td>False</td>\n",
       "      <td>False</td>\n",
       "      <td>[]</td>\n",
       "      <td>None</td>\n",
       "      <td>[0, 1227082]</td>\n",
       "      <td>False</td>\n",
       "    </tr>\n",
       "    <tr>\n",
       "      <th>15</th>\n",
       "      <td>PAY_AMT3</td>\n",
       "      <td>PIPELINE_INPUT</td>\n",
       "      <td>INTEGER</td>\n",
       "      <td>False</td>\n",
       "      <td>False</td>\n",
       "      <td>[]</td>\n",
       "      <td>None</td>\n",
       "      <td>[0, 896040]</td>\n",
       "      <td>False</td>\n",
       "    </tr>\n",
       "    <tr>\n",
       "      <th>16</th>\n",
       "      <td>PAY_AMT4</td>\n",
       "      <td>PIPELINE_INPUT</td>\n",
       "      <td>INTEGER</td>\n",
       "      <td>False</td>\n",
       "      <td>False</td>\n",
       "      <td>[]</td>\n",
       "      <td>None</td>\n",
       "      <td>[0, 621000]</td>\n",
       "      <td>False</td>\n",
       "    </tr>\n",
       "    <tr>\n",
       "      <th>17</th>\n",
       "      <td>PAY_AMT5</td>\n",
       "      <td>PIPELINE_INPUT</td>\n",
       "      <td>INTEGER</td>\n",
       "      <td>False</td>\n",
       "      <td>False</td>\n",
       "      <td>[]</td>\n",
       "      <td>None</td>\n",
       "      <td>[0, 426529]</td>\n",
       "      <td>False</td>\n",
       "    </tr>\n",
       "    <tr>\n",
       "      <th>18</th>\n",
       "      <td>PAY_AMT6</td>\n",
       "      <td>PIPELINE_INPUT</td>\n",
       "      <td>INTEGER</td>\n",
       "      <td>False</td>\n",
       "      <td>False</td>\n",
       "      <td>[]</td>\n",
       "      <td>None</td>\n",
       "      <td>[0, 403500]</td>\n",
       "      <td>False</td>\n",
       "    </tr>\n",
       "    <tr>\n",
       "      <th>19</th>\n",
       "      <td>SEX</td>\n",
       "      <td>NON_INPUT_DATA</td>\n",
       "      <td>INTEGER</td>\n",
       "      <td>True</td>\n",
       "      <td>False</td>\n",
       "      <td>[{label: Male, value: 1}, {label: Female, valu...</td>\n",
       "      <td>None</td>\n",
       "      <td>[None, None]</td>\n",
       "      <td>True</td>\n",
       "    </tr>\n",
       "    <tr>\n",
       "      <th>20</th>\n",
       "      <td>EDUCATION</td>\n",
       "      <td>NON_INPUT_DATA</td>\n",
       "      <td>INTEGER</td>\n",
       "      <td>True</td>\n",
       "      <td>False</td>\n",
       "      <td>[{label: Graduate School, value: 1}, {label: U...</td>\n",
       "      <td>None</td>\n",
       "      <td>[None, None]</td>\n",
       "      <td>True</td>\n",
       "    </tr>\n",
       "    <tr>\n",
       "      <th>21</th>\n",
       "      <td>MARRIAGE</td>\n",
       "      <td>NON_INPUT_DATA</td>\n",
       "      <td>INTEGER</td>\n",
       "      <td>True</td>\n",
       "      <td>False</td>\n",
       "      <td>[{label: Married, value: 1}, {label: Single, v...</td>\n",
       "      <td>None</td>\n",
       "      <td>[None, None]</td>\n",
       "      <td>True</td>\n",
       "    </tr>\n",
       "    <tr>\n",
       "      <th>22</th>\n",
       "      <td>AGE</td>\n",
       "      <td>NON_INPUT_DATA</td>\n",
       "      <td>INTEGER</td>\n",
       "      <td>False</td>\n",
       "      <td>False</td>\n",
       "      <td>[]</td>\n",
       "      <td>[AttributeBin(continuous_start=None, continuou...</td>\n",
       "      <td>[21, 75]</td>\n",
       "      <td>True</td>\n",
       "    </tr>\n",
       "    <tr>\n",
       "      <th>23</th>\n",
       "      <td>ground_truth_credit_default</td>\n",
       "      <td>GROUND_TRUTH_CLASS</td>\n",
       "      <td>INTEGER</td>\n",
       "      <td>True</td>\n",
       "      <td>False</td>\n",
       "      <td>[{value: 0}, {value: 1}]</td>\n",
       "      <td>None</td>\n",
       "      <td>[None, None]</td>\n",
       "      <td>False</td>\n",
       "    </tr>\n",
       "    <tr>\n",
       "      <th>24</th>\n",
       "      <td>pred_proba_credit_default</td>\n",
       "      <td>PREDICTED_VALUE</td>\n",
       "      <td>FLOAT</td>\n",
       "      <td>False</td>\n",
       "      <td>False</td>\n",
       "      <td>[]</td>\n",
       "      <td>None</td>\n",
       "      <td>[0, 1]</td>\n",
       "      <td>False</td>\n",
       "    </tr>\n",
       "  </tbody>\n",
       "</table>\n",
       "</div>"
      ],
      "text/plain": [
       "                           name               stage value_type categorical  \\\n",
       "0                     LIMIT_BAL      PIPELINE_INPUT    INTEGER       False   \n",
       "1                         PAY_0      PIPELINE_INPUT    INTEGER        True   \n",
       "2                         PAY_2      PIPELINE_INPUT    INTEGER        True   \n",
       "3                         PAY_3      PIPELINE_INPUT    INTEGER        True   \n",
       "4                         PAY_4      PIPELINE_INPUT    INTEGER        True   \n",
       "5                         PAY_5      PIPELINE_INPUT    INTEGER        True   \n",
       "6                         PAY_6      PIPELINE_INPUT    INTEGER        True   \n",
       "7                     BILL_AMT1      PIPELINE_INPUT    INTEGER       False   \n",
       "8                     BILL_AMT2      PIPELINE_INPUT    INTEGER       False   \n",
       "9                     BILL_AMT3      PIPELINE_INPUT    INTEGER       False   \n",
       "10                    BILL_AMT4      PIPELINE_INPUT    INTEGER       False   \n",
       "11                    BILL_AMT5      PIPELINE_INPUT    INTEGER       False   \n",
       "12                    BILL_AMT6      PIPELINE_INPUT    INTEGER       False   \n",
       "13                     PAY_AMT1      PIPELINE_INPUT    INTEGER       False   \n",
       "14                     PAY_AMT2      PIPELINE_INPUT    INTEGER       False   \n",
       "15                     PAY_AMT3      PIPELINE_INPUT    INTEGER       False   \n",
       "16                     PAY_AMT4      PIPELINE_INPUT    INTEGER       False   \n",
       "17                     PAY_AMT5      PIPELINE_INPUT    INTEGER       False   \n",
       "18                     PAY_AMT6      PIPELINE_INPUT    INTEGER       False   \n",
       "19                          SEX      NON_INPUT_DATA    INTEGER        True   \n",
       "20                    EDUCATION      NON_INPUT_DATA    INTEGER        True   \n",
       "21                     MARRIAGE      NON_INPUT_DATA    INTEGER        True   \n",
       "22                          AGE      NON_INPUT_DATA    INTEGER       False   \n",
       "23  ground_truth_credit_default  GROUND_TRUTH_CLASS    INTEGER        True   \n",
       "24    pred_proba_credit_default     PREDICTED_VALUE      FLOAT       False   \n",
       "\n",
       "   is_unique                                         categories  \\\n",
       "0      False                                                 []   \n",
       "1      False  [{value: 0}, {value: 1}, {value: 2}, {value: 3...   \n",
       "2      False  [{value: 0}, {value: 1}, {value: 2}, {value: 3...   \n",
       "3      False  [{value: 0}, {value: 1}, {value: 2}, {value: 3...   \n",
       "4      False  [{value: 0}, {value: 2}, {value: 3}, {value: 4...   \n",
       "5      False  [{value: 0}, {value: 2}, {value: 3}, {value: 4...   \n",
       "6      False  [{value: 0}, {value: 2}, {value: 3}, {value: 4...   \n",
       "7      False                                                 []   \n",
       "8      False                                                 []   \n",
       "9      False                                                 []   \n",
       "10     False                                                 []   \n",
       "11     False                                                 []   \n",
       "12     False                                                 []   \n",
       "13     False                                                 []   \n",
       "14     False                                                 []   \n",
       "15     False                                                 []   \n",
       "16     False                                                 []   \n",
       "17     False                                                 []   \n",
       "18     False                                                 []   \n",
       "19     False  [{label: Male, value: 1}, {label: Female, valu...   \n",
       "20     False  [{label: Graduate School, value: 1}, {label: U...   \n",
       "21     False  [{label: Married, value: 1}, {label: Single, v...   \n",
       "22     False                                                 []   \n",
       "23     False                           [{value: 0}, {value: 1}]   \n",
       "24     False                                                 []   \n",
       "\n",
       "                                                 bins              range  \\\n",
       "0                                                None   [10000, 1000000]   \n",
       "1                                                None       [None, None]   \n",
       "2                                                None       [None, None]   \n",
       "3                                                None       [None, None]   \n",
       "4                                                None       [None, None]   \n",
       "5                                                None       [None, None]   \n",
       "6                                                None       [None, None]   \n",
       "7                                                None   [-14386, 964511]   \n",
       "8                                                None   [-69777, 983931]   \n",
       "9                                                None   [-61506, 565550]   \n",
       "10                                               None   [-65167, 891586]   \n",
       "11                                               None   [-53007, 927171]   \n",
       "12                                               None  [-339603, 961664]   \n",
       "13                                               None        [0, 873552]   \n",
       "14                                               None       [0, 1227082]   \n",
       "15                                               None        [0, 896040]   \n",
       "16                                               None        [0, 621000]   \n",
       "17                                               None        [0, 426529]   \n",
       "18                                               None        [0, 403500]   \n",
       "19                                               None       [None, None]   \n",
       "20                                               None       [None, None]   \n",
       "21                                               None       [None, None]   \n",
       "22  [AttributeBin(continuous_start=None, continuou...           [21, 75]   \n",
       "23                                               None       [None, None]   \n",
       "24                                               None             [0, 1]   \n",
       "\n",
       "   monitor_for_bias  \n",
       "0             False  \n",
       "1             False  \n",
       "2             False  \n",
       "3             False  \n",
       "4             False  \n",
       "5             False  \n",
       "6             False  \n",
       "7             False  \n",
       "8             False  \n",
       "9             False  \n",
       "10            False  \n",
       "11            False  \n",
       "12            False  \n",
       "13            False  \n",
       "14            False  \n",
       "15            False  \n",
       "16            False  \n",
       "17            False  \n",
       "18            False  \n",
       "19             True  \n",
       "20             True  \n",
       "21             True  \n",
       "22             True  \n",
       "23            False  \n",
       "24            False  "
      ]
     },
     "execution_count": 16,
     "metadata": {},
     "output_type": "execute_result"
    }
   ],
   "source": [
    "# review the model attribute properties in the model schema\n",
    "arthur_model.review()"
   ]
  },
  {
   "cell_type": "markdown",
   "metadata": {},
   "source": [
    "Now, we save the model. \n",
    "\n",
    "Note that this will be the first call to send data to the Arthur platform so far in this example - no information has been sent yet to the platform.\n",
    "\n",
    "The method `ArthurModel.save()` sends an API request to Arthur to validate your model - if there are any problems with your model schema, this method will result in an error informing you how to correct your model's configuration. If no errors are found, the model will be saved to the platform, and the reference data we passed to `ArthurModel.build()` will be saved as the model's [reference set](https://docs.arthur.ai/user-guide/basic_concepts.html#reference-dataset), which serves as the default baseline for drift metrics. "
   ]
  },
  {
   "cell_type": "code",
   "execution_count": 17,
   "metadata": {},
   "outputs": [
    {
     "name": "stdout",
     "output_type": "stream",
     "text": [
      "16:17:25 - arthurai - Starting upload (1.311 MB in 1 files), depending on data size this may take a few minutes\n",
      "16:17:25 - arthurai - Upload completed: /var/folders/8v/8v36mrp907z7lp5d4cd7yf4h0000gn/T/tmpbxyhen8n/bc340397-3e60-4d13-8d16-c167a1501746-0.parquet\n"
     ]
    },
    {
     "data": {
      "text/plain": [
       "'bc340397-3e60-4d13-8d16-c167a1501746'"
      ]
     },
     "execution_count": 17,
     "metadata": {},
     "output_type": "execute_result"
    }
   ],
   "source": [
    "# validate the model and save it onto the Arthur platform\n",
    "# the model ID is saved to a file locally as a side-effect of this method\n",
    "arthur_model.save()"
   ]
  },
  {
   "cell_type": "markdown",
   "metadata": {},
   "source": [
    "### Activating Enrichments\n",
    "\n",
    "Enrichments are additional services Arthur provides with automated backend computation to make model monitoring and analysis easier for Arthur users.\n",
    "\n",
    "Next we will enable the Hotspots & Bias Mitigation enrichments with a single call to `ArthurModel.update_enrichments()`. After that, we will enable the Explainability enrichment with a call to `ArthurModel.enable_explainability()`. The Anomaly Detection enrichment is configured by default, so we omit that here."
   ]
  },
  {
   "cell_type": "markdown",
   "metadata": {},
   "source": [
    "#### Enabling Hotspots and Bias Mitigation\n",
    "We will activate two model enrichments, enabling us to access these services when monitoring our model after onboarding. This configuration code will use the default setting for each of these enrichments. Extra settings can be provided in the `config` parameters. See the [Arthur API Enrichments endpoint](https://docs.arthur.ai/api-documentation/v3-api-docs.html#tag/enrichments) to see the configurable parameters for each of these enrichments."
   ]
  },
  {
   "cell_type": "code",
   "execution_count": 18,
   "metadata": {},
   "outputs": [
    {
     "data": {
      "text/plain": [
       "'ok'"
      ]
     },
     "execution_count": 18,
     "metadata": {},
     "output_type": "execute_result"
    }
   ],
   "source": [
    "# enable hotspots and bias mitigation\n",
    "# configuring each enrichment in an enrichment_configs dictionary\n",
    "# and providing enrichment_configs to ArthurModel.update_enrichments()\n",
    "# we leave the `config` parameters empty to use \n",
    "# the default setting for each enrichment\n",
    "enrichment_configs = {\n",
    "    Enrichment.Hotspots: {'enabled': True, 'config': {}},\n",
    "    Enrichment.BiasMitigation: {'enabled': True, 'config': {}},   \n",
    "}\n",
    "arthur_model.update_enrichments(enrichment_configs)"
   ]
  },
  {
   "cell_type": "markdown",
   "metadata": {},
   "source": [
    "### Enabling Explainability\n",
    "Next, we will activate the [Explainability enrichment](https://docs.arthur.ai/user-guide/walkthroughs/explainability.html), which requires:\n",
    "\n",
    "1) Configuring our model's [project directory in a specific way](https://docs.arthur.ai/user-guide/walkthroughs/explainability.html#setting-up-project-directory)\n",
    "\n",
    "2) Providing access to an entrypoint file with the [model's `predict` function](https://docs.arthur.ai/user-guide/walkthroughs/explainability.html#prediction-function), as well as its [environment requirements file](https://docs.arthur.ai/user-guide/walkthroughs/explainability.html#requirements-file)\n",
    "\n",
    "For most Arthur services, the model itself is not needed - only its input and output data is required to get performance metrics, drift, other enrichments, and the rest of the model monitoring tools Arthur provides. But to enable explainability and generate model explanations, Arthur needs access to the model artifact itself to set up a model server that will generate new model inferences on sample data. If you are unable to or would prefer to not share your model with Arthur, skip this step.\n",
    "\n",
    "Note that the `streaming_explainability_enabled` parameter (set to `False` by default) can be set to `True` if you would like the Arthur platform to automatically generate explanations for every inference that comes through a streaming model (this can be used to compute a model's global feature importance scores)."
   ]
  },
  {
   "cell_type": "markdown",
   "metadata": {},
   "source": [
    "#### Setting up directory\n",
    "\n",
    "Arthur creates an explainer by packaging a folder in your project directory. For this sandbox example, the folder we package for the explainer is `explainability`, and it contains three files:\n",
    "\n",
    "```\n",
    "project directory/\n",
    "    ...\n",
    "    other stuff/\n",
    "    ...\n",
    "    explainability/\n",
    "\n",
    "        model_entrypoint.py (a model prediction script)\n",
    "        credit_model.pkl (a model object that makes predictions in the prediction script)\n",
    "        requirements.txt (the requirements for the environment that runs the prediction script)\n",
    "```"
   ]
  },
  {
   "cell_type": "markdown",
   "metadata": {},
   "source": [
    "#### Creating model prediction script\n",
    "\n",
    "In the file `model_entrypoint.py`, we load a pre-trained model called `credit_model.pkl` and define a `predict` function which outputs the model's predicted probability:\n",
    "\n",
    "```\n",
    "# model_entrypoint.py\n",
    "\n",
    "import joblib\n",
    "model = joblib.load(\"credit_model.pkl\")\n",
    "def predict(x):\n",
    "    return model.predict_proba(x)[:,1]\n",
    "```"
   ]
  },
  {
   "cell_type": "markdown",
   "metadata": {},
   "source": [
    "#### Train and save a sample model\n",
    "\n",
    "For this sandbox example, we train and save `credit_model.pkl` here in the notebook so that you can run the demo.\n",
    "\n",
    "To adapt this sandbox example to set up explainability for your own model, replace the model loaded in `model_entrypoint.py` and make sure the `predict` function outputs your model's outputs on an input."
   ]
  },
  {
   "cell_type": "code",
   "execution_count": 19,
   "metadata": {},
   "outputs": [],
   "source": [
    "import pickle\n",
    "from sklearn.ensemble import RandomForestClassifier\n",
    "clf = RandomForestClassifier(n_estimators=10, random_state=278487)\n",
    "clf.fit(X_train, y_train)\n",
    "pickle.dump(clf, open('explainability/credit_model.pkl', 'wb'))"
   ]
  },
  {
   "cell_type": "markdown",
   "metadata": {},
   "source": [
    "#### Creating requirements file\n",
    "\n",
    "We create the `requirements.txt` file for the `model_entrypoint.py` script to be run in its own python environment automatically. The following shell command will save the versions of the packages needed to run the script into a file."
   ]
  },
  {
   "cell_type": "code",
   "execution_count": 20,
   "metadata": {},
   "outputs": [],
   "source": [
    "!pip freeze | grep \"^scikit-learn==\\|^joblib==\" > explainability/requirements.txt"
   ]
  },
  {
   "cell_type": "markdown",
   "metadata": {},
   "source": [
    "#### Enabling explainability\n",
    "\n",
    "With the above pieces set up in our `explainability` directory, we can now enable explainability for our Arthur model:"
   ]
  },
  {
   "cell_type": "code",
   "execution_count": 8,
   "metadata": {},
   "outputs": [],
   "source": [
    "from pathlib import Path\n",
    "import os\n",
    "\n",
    "arthur_model.enable_explainability(\n",
    "    df=reference_data,\n",
    "    project_directory=Path(os.getcwd()+'/explainability'),\n",
    "    requirements_file=\"requirements.txt\",\n",
    "    user_predict_function_import_path=\"model_entrypoint\",\n",
    "    explanation_algo=\"lime\",\n",
    "    streaming_explainability_enabled=False)"
   ]
  },
  {
   "cell_type": "markdown",
   "metadata": {},
   "source": [
    "## Sending Inferences"
   ]
  },
  {
   "cell_type": "markdown",
   "metadata": {},
   "source": [
    "### Sending Predictions"
   ]
  },
  {
   "cell_type": "markdown",
   "metadata": {
    "ExecuteTime": {
     "end_time": "2021-08-02T22:02:22.489559Z",
     "start_time": "2021-08-02T22:02:22.481988Z"
    }
   },
   "source": [
    "We'll create some timestamps to mimic sending the data over a period of time. If these are left out the\n",
    "current time will be populated as the inference timestamp. But, if these are included, we can more easily view the inferences over time in the Arthur dashboard.\n",
    "\n",
    "The `arthur_model.send_inferences()` method has a `partner_inference_ids` parameter, which we populate with a custom ID + timestamp unique identifier for each inference. We will use these identifiers to upload ground truth values to Arthur separately from the inference predictions (since it is common in production for ground truth information to only be available at a later date). See the [model onboarding guide](https://docs.arthur.ai/user-guide/walkthroughs/model-onboarding/index.html#partner-inference-ids) for more information on matching predictions to ground truth values using `partner_inference_ids`."
   ]
  },
  {
   "cell_type": "markdown",
   "metadata": {},
   "source": [
    "#### Preparing `inference_data`\n",
    "\n",
    "The inference data you send to Arthur should have the same `ModelPipelineInput` and `PredictedValue` attributes you registered in your model schema. \n",
    "\n",
    "It is optional to include sensitive attributes and ground truth labels in the inference data, but recommended if they are available."
   ]
  },
  {
   "cell_type": "code",
   "execution_count": 23,
   "metadata": {},
   "outputs": [
    {
     "data": {
      "text/html": [
       "<div>\n",
       "<style scoped>\n",
       "    .dataframe tbody tr th:only-of-type {\n",
       "        vertical-align: middle;\n",
       "    }\n",
       "\n",
       "    .dataframe tbody tr th {\n",
       "        vertical-align: top;\n",
       "    }\n",
       "\n",
       "    .dataframe thead th {\n",
       "        text-align: right;\n",
       "    }\n",
       "</style>\n",
       "<table border=\"1\" class=\"dataframe\">\n",
       "  <thead>\n",
       "    <tr style=\"text-align: right;\">\n",
       "      <th></th>\n",
       "      <th>LIMIT_BAL</th>\n",
       "      <th>PAY_0</th>\n",
       "      <th>PAY_2</th>\n",
       "      <th>PAY_3</th>\n",
       "      <th>PAY_4</th>\n",
       "      <th>PAY_5</th>\n",
       "      <th>PAY_6</th>\n",
       "      <th>BILL_AMT1</th>\n",
       "      <th>BILL_AMT2</th>\n",
       "      <th>BILL_AMT3</th>\n",
       "      <th>...</th>\n",
       "      <th>PAY_AMT2</th>\n",
       "      <th>PAY_AMT3</th>\n",
       "      <th>PAY_AMT4</th>\n",
       "      <th>PAY_AMT5</th>\n",
       "      <th>PAY_AMT6</th>\n",
       "      <th>pred_proba_credit_default</th>\n",
       "      <th>SEX</th>\n",
       "      <th>EDUCATION</th>\n",
       "      <th>MARRIAGE</th>\n",
       "      <th>AGE</th>\n",
       "    </tr>\n",
       "  </thead>\n",
       "  <tbody>\n",
       "    <tr>\n",
       "      <th>23652</th>\n",
       "      <td>50000</td>\n",
       "      <td>2</td>\n",
       "      <td>0</td>\n",
       "      <td>0</td>\n",
       "      <td>0</td>\n",
       "      <td>0</td>\n",
       "      <td>0</td>\n",
       "      <td>47067</td>\n",
       "      <td>48410</td>\n",
       "      <td>49218</td>\n",
       "      <td>...</td>\n",
       "      <td>2200</td>\n",
       "      <td>824</td>\n",
       "      <td>700</td>\n",
       "      <td>900</td>\n",
       "      <td>852</td>\n",
       "      <td>0.5</td>\n",
       "      <td>1</td>\n",
       "      <td>3</td>\n",
       "      <td>3</td>\n",
       "      <td>55</td>\n",
       "    </tr>\n",
       "    <tr>\n",
       "      <th>16721</th>\n",
       "      <td>80000</td>\n",
       "      <td>-1</td>\n",
       "      <td>-1</td>\n",
       "      <td>-1</td>\n",
       "      <td>-1</td>\n",
       "      <td>-1</td>\n",
       "      <td>-1</td>\n",
       "      <td>1894</td>\n",
       "      <td>316</td>\n",
       "      <td>316</td>\n",
       "      <td>...</td>\n",
       "      <td>316</td>\n",
       "      <td>514</td>\n",
       "      <td>316</td>\n",
       "      <td>1605</td>\n",
       "      <td>316</td>\n",
       "      <td>0.3</td>\n",
       "      <td>2</td>\n",
       "      <td>2</td>\n",
       "      <td>1</td>\n",
       "      <td>38</td>\n",
       "    </tr>\n",
       "    <tr>\n",
       "      <th>4534</th>\n",
       "      <td>230000</td>\n",
       "      <td>-1</td>\n",
       "      <td>-1</td>\n",
       "      <td>0</td>\n",
       "      <td>0</td>\n",
       "      <td>0</td>\n",
       "      <td>0</td>\n",
       "      <td>23396</td>\n",
       "      <td>25723</td>\n",
       "      <td>49223</td>\n",
       "      <td>...</td>\n",
       "      <td>30029</td>\n",
       "      <td>27417</td>\n",
       "      <td>1016</td>\n",
       "      <td>640</td>\n",
       "      <td>260</td>\n",
       "      <td>0.1</td>\n",
       "      <td>1</td>\n",
       "      <td>1</td>\n",
       "      <td>2</td>\n",
       "      <td>34</td>\n",
       "    </tr>\n",
       "    <tr>\n",
       "      <th>8752</th>\n",
       "      <td>50000</td>\n",
       "      <td>0</td>\n",
       "      <td>0</td>\n",
       "      <td>0</td>\n",
       "      <td>0</td>\n",
       "      <td>0</td>\n",
       "      <td>0</td>\n",
       "      <td>48017</td>\n",
       "      <td>47913</td>\n",
       "      <td>49225</td>\n",
       "      <td>...</td>\n",
       "      <td>2800</td>\n",
       "      <td>1610</td>\n",
       "      <td>918</td>\n",
       "      <td>1214</td>\n",
       "      <td>468</td>\n",
       "      <td>0.0</td>\n",
       "      <td>1</td>\n",
       "      <td>2</td>\n",
       "      <td>2</td>\n",
       "      <td>47</td>\n",
       "    </tr>\n",
       "    <tr>\n",
       "      <th>776</th>\n",
       "      <td>50000</td>\n",
       "      <td>0</td>\n",
       "      <td>0</td>\n",
       "      <td>0</td>\n",
       "      <td>0</td>\n",
       "      <td>0</td>\n",
       "      <td>0</td>\n",
       "      <td>47569</td>\n",
       "      <td>48768</td>\n",
       "      <td>49234</td>\n",
       "      <td>...</td>\n",
       "      <td>1452</td>\n",
       "      <td>1200</td>\n",
       "      <td>300</td>\n",
       "      <td>27000</td>\n",
       "      <td>1412</td>\n",
       "      <td>0.4</td>\n",
       "      <td>2</td>\n",
       "      <td>3</td>\n",
       "      <td>1</td>\n",
       "      <td>44</td>\n",
       "    </tr>\n",
       "  </tbody>\n",
       "</table>\n",
       "<p>5 rows × 24 columns</p>\n",
       "</div>"
      ],
      "text/plain": [
       "       LIMIT_BAL  PAY_0  PAY_2  PAY_3  PAY_4  PAY_5  PAY_6  BILL_AMT1  \\\n",
       "23652      50000      2      0      0      0      0      0      47067   \n",
       "16721      80000     -1     -1     -1     -1     -1     -1       1894   \n",
       "4534      230000     -1     -1      0      0      0      0      23396   \n",
       "8752       50000      0      0      0      0      0      0      48017   \n",
       "776        50000      0      0      0      0      0      0      47569   \n",
       "\n",
       "       BILL_AMT2  BILL_AMT3  ...  PAY_AMT2  PAY_AMT3  PAY_AMT4  PAY_AMT5  \\\n",
       "23652      48410      49218  ...      2200       824       700       900   \n",
       "16721        316        316  ...       316       514       316      1605   \n",
       "4534       25723      49223  ...     30029     27417      1016       640   \n",
       "8752       47913      49225  ...      2800      1610       918      1214   \n",
       "776        48768      49234  ...      1452      1200       300     27000   \n",
       "\n",
       "       PAY_AMT6  pred_proba_credit_default  SEX  EDUCATION  MARRIAGE  AGE  \n",
       "23652       852                        0.5    1          3         3   55  \n",
       "16721       316                        0.3    2          2         1   38  \n",
       "4534        260                        0.1    1          1         2   34  \n",
       "8752        468                        0.0    1          2         2   47  \n",
       "776        1412                        0.4    2          3         1   44  \n",
       "\n",
       "[5 rows x 24 columns]"
      ]
     },
     "execution_count": 23,
     "metadata": {},
     "output_type": "execute_result"
    }
   ],
   "source": [
    "# load model input and non-input values, \n",
    "# and ground truth labels + timestamps as a Pandas DataFrame\n",
    "inference_data = X_test.copy()\n",
    "\n",
    "# add model predictions to inference_data\n",
    "inference_data['pred_proba_credit_default'] = predictions.loc[inference_data.index]\n",
    "\n",
    "# add sensitive attributes to reference_data\n",
    "inference_data = pd.concat(\n",
    "    [inference_data, sensitive_data.loc[inference_data.index]], \n",
    "    axis=1)\n",
    "\n",
    "inference_data.head()"
   ]
  },
  {
   "cell_type": "markdown",
   "metadata": {},
   "source": [
    "#### Preparing `inference_timestamps`\n",
    "\n",
    "When you send your inferences to Arthur, you also log when your model made its predictions through the inference_timestamp field. This can be done using the `generate_timestamps` convenience function which we import from `arthurai.util`.\n",
    "\n",
    "Since our inference data in this example does not come with actual timestamps, we generate timestamps spanning the last 30 days to be used in place of real ones. Note that if timestamps are not provided, the current time will be populated in this field."
   ]
  },
  {
   "cell_type": "code",
   "execution_count": 25,
   "metadata": {},
   "outputs": [
    {
     "name": "stdout",
     "output_type": "stream",
     "text": [
      "First 3 and last 3 timestamps:\n",
      "[datetime.datetime(2022, 12, 27, 21, 1, 27, 873107, tzinfo=<UTC>), datetime.datetime(2022, 12, 27, 21, 1, 27, 873107, tzinfo=<UTC>), datetime.datetime(2022, 12, 27, 21, 1, 27, 873107, tzinfo=<UTC>)]\n",
      "[datetime.datetime(2023, 1, 26, 21, 1, 27, 873107, tzinfo=<UTC>), datetime.datetime(2023, 1, 26, 21, 1, 27, 873107, tzinfo=<UTC>), datetime.datetime(2023, 1, 26, 21, 1, 27, 873107, tzinfo=<UTC>)]\n"
     ]
    }
   ],
   "source": [
    "# generate fake timestamps for each inference over the last month\n",
    "inference_timestamps = list(generate_timestamps(len(inference_data), '30d', 'now', 'D'))\n",
    "print('First 3 and last 3 timestamps:')\n",
    "print(inference_timestamps[:3])\n",
    "print(inference_timestamps[-3:])"
   ]
  },
  {
   "cell_type": "markdown",
   "metadata": {},
   "source": [
    "#### Preparing `partner_inference_ids`\n",
    "\n",
    "These are unique identifiers that we send with our inferences so that when we are sending ground truth values to the platform, Arthur knows which predictions each ground truth corresponds to. We will format these as `index_in_dataset - year - month - day`"
   ]
  },
  {
   "cell_type": "code",
   "execution_count": 26,
   "metadata": {},
   "outputs": [
    {
     "name": "stdout",
     "output_type": "stream",
     "text": [
      "First 3 partner inference IDs\n",
      "['23652-2022-12-27', '16721-2022-12-27', '4534-2022-12-27']\n"
     ]
    }
   ],
   "source": [
    "# use the timestamps and the dataframe's original unique ID to make a partner_inference_id for each inference\n",
    "# these IDs just represent the order in the original credit_default_dataset dataframe\n",
    "# we will use the unique ID for each inference to match with ground truth values later on\n",
    "partner_inference_ids = [f'{x}-{t.date()}' for x, t in zip(inference_data.index.values, inference_timestamps)]\n",
    "\n",
    "print('First 3 partner inference IDs')\n",
    "print(partner_inference_ids[:3])"
   ]
  },
  {
   "cell_type": "markdown",
   "metadata": {},
   "source": [
    "#### Using `ArthurModel.send_inferences()`\n",
    "\n",
    "We send our inference data to the platform along with their unique IDs and timestamps.\n",
    "\n",
    "Note that we added our predictions to the DataFrame and passed the timestamps and inference IDs as parameters to the `send_inferences()` method. However, you can also send the predictions through a parameter or include the IDs and timestamps in your DataFrame. See [our API docs for sending inferences](https://docs.arthur.ai/api-documentation/v3-api-docs.html#tag/inferences/paths/~1models~1%7Bmodel_id%7D~1inferences/post) for the full specification"
   ]
  },
  {
   "cell_type": "code",
   "execution_count": 27,
   "metadata": {},
   "outputs": [
    {
     "name": "stdout",
     "output_type": "stream",
     "text": [
      "# of successful and # of failing inference uploads\n"
     ]
    },
    {
     "data": {
      "text/plain": [
       "{'failure': 0, 'success': 9000, 'total': 9000}"
      ]
     },
     "execution_count": 27,
     "metadata": {},
     "output_type": "execute_result"
    }
   ],
   "source": [
    "# Send the inferences to Arthur with their unique IDs and their timestamps\n",
    "inference_result = arthur_model.send_inferences(\n",
    "    inference_data, \n",
    "    partner_inference_ids=partner_inference_ids,\n",
    "    inference_timestamps=inference_timestamps)\n",
    "print('# of successful and # of failing inference uploads')\n",
    "inference_result['counts']"
   ]
  },
  {
   "cell_type": "markdown",
   "metadata": {},
   "source": [
    "### Updating with Ground Truth"
   ]
  },
  {
   "cell_type": "markdown",
   "metadata": {},
   "source": [
    "When your ground truth values are available for your model's inferences, you can [update each inference](https://docs.arthur.ai/sdk/sdk_v3/apiref/arthurai.core.models.ArthurModel.html#arthurai.core.models.ArthurModel.update_inference_ground_truths) by id with its corresponding label. \n",
    "\n",
    "You will need the `partner_inference_IDs` for your data so that we can include them with our upload of ground truth values and match each prediction with its corresponding ground truth."
   ]
  },
  {
   "cell_type": "code",
   "execution_count": 28,
   "metadata": {
    "ExecuteTime": {
     "end_time": "2021-08-02T21:54:20.699496Z",
     "start_time": "2021-08-02T21:54:20.689864Z"
    }
   },
   "outputs": [
    {
     "name": "stdout",
     "output_type": "stream",
     "text": [
      "16:01:36 - arthurai - 9000 rows were missing ground_truth_timestamp fields, so the current time was populated\n",
      "# of successful and # of failing ground truth uploads\n"
     ]
    },
    {
     "data": {
      "text/plain": [
       "{'failure': 0, 'success': 9000, 'total': 9000}"
      ]
     },
     "execution_count": 28,
     "metadata": {},
     "output_type": "execute_result"
    }
   ],
   "source": [
    "# the partner inference ID is currently of the form\n",
    "# index_in_dataset-year-month-day\n",
    "# so we get the corresponding ground truth values from Y_test\n",
    "# by using the index_in_dataset as the index of each inference in Y_test\n",
    "\n",
    "# split out the index_in_dataset from each partner inference ID \n",
    "# (formatted as index_in_dataset-year-month-day)\n",
    "idx_in_dataset = [int(x.split('-')[0]) for x in partner_inference_ids]\n",
    "\n",
    "ground_truth_df = pd.DataFrame({\n",
    "    'partner_inference_id': partner_inference_ids,\n",
    "    'ground_truth_credit_default': y_test.loc[idx_in_dataset].values.flatten()\n",
    "})\n",
    "\n",
    "ground_truth_result = arthur_model.update_inference_ground_truths(ground_truth_df)\n",
    "print('# of successful and # of failing ground truth uploads')\n",
    "ground_truth_result['counts']"
   ]
  },
  {
   "cell_type": "markdown",
   "metadata": {},
   "source": [
    "## See Model in Dashboard"
   ]
  },
  {
   "cell_type": "markdown",
   "metadata": {},
   "source": [
    "### Running the following cell will use your `Arthur` connection and your `ArthurModel` object to generate a link to your model's Arthur dashboard"
   ]
  },
  {
   "cell_type": "code",
   "execution_count": 29,
   "metadata": {},
   "outputs": [
    {
     "data": {
      "text/html": [
       "<br> <a style=\"font-size:200%\" href=https://element.sandbox.arthur.ai/model/178afea0-b273-44f4-bfca-f4d3060e54a3/overview>See your model (Example: Credit Default) in the Arthur dashboard</a> <br>"
      ],
      "text/plain": [
       "<IPython.core.display.HTML object>"
      ]
     },
     "metadata": {},
     "output_type": "display_data"
    }
   ],
   "source": [
    "def get_arthur_model_dashboard_link(arthur, arthur_model):\n",
    "    url = 'https://' + ''.join(arthur.client.api_base_url.split('/')[1:-2])\n",
    "    link_text = f\"See your model ({arthur_model.display_name}) in the Arthur dashboard\"\n",
    "    href_string = f\"{url}/model/{arthur_model.id}/overview\"\n",
    "    html_string = f'<br> <a style=\"font-size:200%\" href={href_string}>{link_text}</a> <br>'\n",
    "    display(HTML(html_string))\n",
    "\n",
    "get_arthur_model_dashboard_link(arthur, arthur_model) "
   ]
  },
  {
   "cell_type": "markdown",
   "metadata": {},
   "source": [
    "Once your inference and ground truth data have been uploaded to the platform, you can see your model by following the above link to the model dashboard page to see an overview of the model and browse its inference data."
   ]
  },
  {
   "cell_type": "markdown",
   "metadata": {},
   "source": [
    "-----\n",
    "\n",
    "-----\n",
    "\n",
    "# Model Monitoring and Analysis\n",
    "\n",
    "-----\n",
    "\n",
    "-----"
   ]
  },
  {
   "cell_type": "markdown",
   "metadata": {},
   "source": [
    "## Performance"
   ]
  },
  {
   "cell_type": "markdown",
   "metadata": {},
   "source": [
    "Getting performance results for your model involves sending a query to the Arthur platform for data. \n",
    "\n",
    "One way to get performance results is to write out a query object and call `ArthurModel.query()`. You can see [examples of quick queries](https://docs.arthur.ai/user-guide/api-query-guide/query_quickstart.html), an [overview of the structure of a query](https://docs.arthur.ai/user-guide/api-query-guide/endpoint_overview.html), and more helpful information on querying in the [Arthur API Query Guide](https://docs.arthur.ai/user-guide/api-query-guide/index.html).\n",
    "\n",
    "Another way to get performance results is to use functions from the Arthur Python SDK that send these queries for you automatically. Below, we demonstrate some of the functions from the `viz` module of an `ArthurModel` to visualize performance results."
   ]
  },
  {
   "cell_type": "markdown",
   "metadata": {},
   "source": [
    "### Get Overall Accuracy\n",
    "\n",
    "Here we use the `ArthurModel.query()` method, which sends a query object to the Arthur platform to receive performance results for our model. In this query, we select the accuracy and provide no other parameters to the query object, which means we will receive the overall accuracy across all the model's inferences so far."
   ]
  },
  {
   "cell_type": "code",
   "execution_count": 30,
   "metadata": {},
   "outputs": [
    {
     "name": "stdout",
     "output_type": "stream",
     "text": [
      "[{'accuracyRate': 0.8167777777777778, 'falsePositiveRate': 0.057613748415269755, 'truePositiveRate': 0.34771173066806943}]\n"
     ]
    }
   ],
   "source": [
    "# query model accuracy across the batches\n",
    "query = {\n",
    "    \"select\": [\n",
    "        {\n",
    "            \"function\": \"accuracyRate\"\n",
    "        },\n",
    "        {\n",
    "            \"function\": \"falsePositiveRate\"\n",
    "        },\n",
    "        {\n",
    "            \"function\": \"truePositiveRate\"\n",
    "        }\n",
    "    ]\n",
    "}\n",
    "query_result = arthur_model.query(query)\n",
    "print(query_result)"
   ]
  },
  {
   "cell_type": "markdown",
   "metadata": {},
   "source": [
    "### Visualize Metrics Over Time\n",
    "\n",
    "We use `ArthurModel.viz.metric_series` to view the drift in our model's AUC at a hour-level time resolution:"
   ]
  },
  {
   "cell_type": "code",
   "execution_count": 31,
   "metadata": {},
   "outputs": [
    {
     "data": {
      "image/png": "[encoded data removed]",
      "text/plain": [
       "<Figure size 2000x400 with 1 Axes>"
      ]
     },
     "metadata": {},
     "output_type": "display_data"
    }
   ],
   "source": [
    "# visualize model performance metrics over time\n",
    "arthur_model.viz.metric_series([\"auc\"], time_resolution=\"day\")"
   ]
  },
  {
   "cell_type": "markdown",
   "metadata": {},
   "source": [
    "## Drift\n",
    "\n",
    "### Get Drift Metrics\n",
    "\n",
    "We get the amount of drift of recent model inferences from the baseline distribution of data in the reference set.\n",
    "\n",
    "Note that drift queries communicate with a different API endpoint than other queries, so we indicate `query_type='drift'` as a parameter to the `ArthurModel.query()` method"
   ]
  },
  {
   "cell_type": "code",
   "execution_count": 32,
   "metadata": {},
   "outputs": [],
   "source": [
    "# query drift of recent inferences from reference set\n",
    "# we track drift in the 10-binned representation of the inputs\n",
    "# to compare which feature's overall distribution is most drifted from the reference data\n",
    "data_drift_query = {\n",
    "    \"properties\": arthur_model.get_attribute_names(Stage.ModelPipelineInput),\n",
    "    \"num_bins\": 10,\n",
    "    \"base\": {\n",
    "      \"source\": \"reference\",\n",
    "    },\n",
    "    \"target\": {\n",
    "      \"source\": \"inference\",\n",
    "    },\n",
    "  \"metric\": \"KLDivergence\"\n",
    "}\n",
    "data_drift_response = arthur_model.query(data_drift_query, query_type='drift')"
   ]
  },
  {
   "cell_type": "code",
   "execution_count": 33,
   "metadata": {},
   "outputs": [
    {
     "data": {
      "text/plain": [
       "[{'BILL_AMT1': 0.7698075260677061,\n",
       "  'BILL_AMT2': 0.8645923103240929,\n",
       "  'BILL_AMT3': 1.1017222189928615,\n",
       "  'BILL_AMT4': 0.8060054715247246,\n",
       "  'BILL_AMT5': 0.6696413638085313,\n",
       "  'BILL_AMT6': 0.609115131967969,\n",
       "  'LIMIT_BAL': 0.1513321012200277,\n",
       "  'PAY_0': 0.218127034165751,\n",
       "  'PAY_2': 0.24925333275407646,\n",
       "  'PAY_3': 0.2915253123712486,\n",
       "  'PAY_4': 0.31100320279330607,\n",
       "  'PAY_5': 0.2665448828491016,\n",
       "  'PAY_6': 0.2564985210122646,\n",
       "  'PAY_AMT1': 0.36241943148934574,\n",
       "  'PAY_AMT2': 0.3441550006562133,\n",
       "  'PAY_AMT3': 0.2739366386367869,\n",
       "  'PAY_AMT4': 0.2650237660925318,\n",
       "  'PAY_AMT5': 0.2524712748578561,\n",
       "  'PAY_AMT6': 0.24060709668466868}]"
      ]
     },
     "execution_count": 33,
     "metadata": {},
     "output_type": "execute_result"
    }
   ],
   "source": [
    "data_drift_response"
   ]
  },
  {
   "cell_type": "markdown",
   "metadata": {},
   "source": [
    "### Visualize Drift Over Time\n",
    "The second drift method we use is `drift_series`, which visualizes the drift in our model's attributes at a given time resolution:"
   ]
  },
  {
   "cell_type": "code",
   "execution_count": 34,
   "metadata": {},
   "outputs": [
    {
     "data": {
      "image/png": "[encoded data removed]",
      "text/plain": [
       "<Figure size 2000x400 with 1 Axes>"
      ]
     },
     "metadata": {},
     "output_type": "display_data"
    }
   ],
   "source": [
    "# visualize drift of recent inferences from reference set\n",
    "arthur_model.viz.drift_series(\n",
    "    ['LIMIT_BAL',\n",
    " 'PAY_0',\n",
    " 'PAY_2',\n",
    " 'PAY_3',\n",
    " 'PAY_4',\n",
    " 'PAY_5',\n",
    " 'PAY_6',\n",
    " 'BILL_AMT1',\n",
    " 'BILL_AMT2',\n",
    " 'BILL_AMT3'], \n",
    "    drift_metric=\"KLDivergence\", \n",
    "    time_resolution=\"day\")"
   ]
  },
  {
   "cell_type": "markdown",
   "metadata": {},
   "source": [
    "## Bias Monitoring (TODO: why is this getting an error? Is this an element bug?)\n",
    "\n",
    "### Get Overall Bias Metrics\n",
    "\n",
    "We get bias metrics for the model's sensitive attributes, which during onboarding were configured with the parameter `monitor_for_bias=True`"
   ]
  },
  {
   "cell_type": "code",
   "execution_count": 35,
   "metadata": {},
   "outputs": [
    {
     "ename": "ResponseClientError",
     "evalue": "400 Bad Request: {'error': \"error executing query: code: 62, message: Syntax error: failed at position 67 ('<'): <nil>, 1, 0)) / count()) AS `positive_rate` FROM inference_178afea0_b273_44f4_bfca_f4d3060e54a3 AS i GROUP BY i.`SEX` LIMIT 500. Expected one of: EXTRACT, TIMESTAMPADD, TIMESTAMPDIFF, TIMESTAMP_DIFF, TRIM expression, number, substitution, DATE_ADD, end of query, RIGHT, tuple, TIMESTAMP, literal, qualified asterisk, SELECT subquery, DATE_ADD expression, asterisk, EXTRACT expression, DATE, NULL, compound identifier, string concatenation expression, identifier, MySQL-style global variable, array element expression, TIMESTAMP operator expression, element of expression, expression with prefix unary operator, DATE operator expression, list, delimited by operator of variable arity, DATE_DIFF, parenthesized expression, COLUMNS matcher, RIGHT expression, array, TRIM, DATE_DIFF expression, case, string literal, unary minus expression, INTERVAL operator expression, map, DATESUB, TIMESTAMPSUB, INTERVAL, CASE, LEFT expression, LEFT, CAST, additive expression, SUBSTRING, list of elements, RTRIM, DATEDIFF, SUBSTRING expression, BETWEEN expression, function, DATEADD, DATE_SUB, tuple element expression, collection of literals, TIMESTAMP_ADD, CAST expression, list, delimited by binary operators, COLUMNS, TIMESTAMP_SUB, LTRIM, multiplicative expression\"}",
     "output_type": "error",
     "traceback": [
      "\u001b[0;31m---------------------------------------------------------------------------\u001b[0m",
      "\u001b[0;31mResponseClientError\u001b[0m                       Traceback (most recent call last)",
      "Input \u001b[0;32mIn [35]\u001b[0m, in \u001b[0;36m<cell line: 2>\u001b[0;34m()\u001b[0m\n\u001b[1;32m      1\u001b[0m \u001b[38;5;66;03m# query bias metrics for sensitive attributes\u001b[39;00m\n\u001b[0;32m----> 2\u001b[0m sex_dem_parity \u001b[38;5;241m=\u001b[39m \u001b[43marthur_model\u001b[49m\u001b[38;5;241;43m.\u001b[39;49m\u001b[43mbias\u001b[49m\u001b[38;5;241;43m.\u001b[39;49m\u001b[43mmetrics\u001b[49m\u001b[38;5;241;43m.\u001b[39;49m\u001b[43mdemographic_parity\u001b[49m\u001b[43m(\u001b[49m\u001b[38;5;124;43m'\u001b[39;49m\u001b[38;5;124;43mSEX\u001b[39;49m\u001b[38;5;124;43m'\u001b[39;49m\u001b[43m)\u001b[49m\n\u001b[1;32m      3\u001b[0m sex_group_conf_mat \u001b[38;5;241m=\u001b[39m arthur_model\u001b[38;5;241m.\u001b[39mbias\u001b[38;5;241m.\u001b[39mmetrics\u001b[38;5;241m.\u001b[39mgroup_confusion_matrices(\u001b[38;5;124m'\u001b[39m\u001b[38;5;124mSEX\u001b[39m\u001b[38;5;124m'\u001b[39m)\n\u001b[1;32m      4\u001b[0m age_dem_parity \u001b[38;5;241m=\u001b[39m arthur_model\u001b[38;5;241m.\u001b[39mbias\u001b[38;5;241m.\u001b[39mmetrics\u001b[38;5;241m.\u001b[39mdemographic_parity(\u001b[38;5;124m'\u001b[39m\u001b[38;5;124mAGE\u001b[39m\u001b[38;5;124m'\u001b[39m)\n",
      "File \u001b[0;32m~/opt/anaconda3/lib/python3.8/site-packages/arthurai/common/exceptions.py:141\u001b[0m, in \u001b[0;36marthur_excepted.<locals>.decorator_arthur_excepted.<locals>.wrapper_arthur_excepted\u001b[0;34m(*args, **kwargs)\u001b[0m\n\u001b[1;32m    139\u001b[0m \u001b[38;5;66;03m# if it is a user error simply re-raise\u001b[39;00m\n\u001b[1;32m    140\u001b[0m \u001b[38;5;28;01mexcept\u001b[39;00m ArthurUserError \u001b[38;5;28;01mas\u001b[39;00m e:\n\u001b[0;32m--> 141\u001b[0m     \u001b[38;5;28;01mraise\u001b[39;00m e\n\u001b[1;32m    142\u001b[0m \u001b[38;5;66;03m# otherwise wrap it in a message saying it's not the user's fault\u001b[39;00m\n\u001b[1;32m    143\u001b[0m \u001b[38;5;28;01mexcept\u001b[39;00m ArthurInternalError \u001b[38;5;28;01mas\u001b[39;00m e:\n",
      "File \u001b[0;32m~/opt/anaconda3/lib/python3.8/site-packages/arthurai/common/exceptions.py:138\u001b[0m, in \u001b[0;36marthur_excepted.<locals>.decorator_arthur_excepted.<locals>.wrapper_arthur_excepted\u001b[0;34m(*args, **kwargs)\u001b[0m\n\u001b[1;32m    136\u001b[0m \u001b[38;5;66;03m# call the function\u001b[39;00m\n\u001b[1;32m    137\u001b[0m \u001b[38;5;28;01mtry\u001b[39;00m:\n\u001b[0;32m--> 138\u001b[0m     \u001b[38;5;28;01mreturn\u001b[39;00m \u001b[43mfunc\u001b[49m\u001b[43m(\u001b[49m\u001b[38;5;241;43m*\u001b[39;49m\u001b[43margs\u001b[49m\u001b[43m,\u001b[49m\u001b[43m \u001b[49m\u001b[38;5;241;43m*\u001b[39;49m\u001b[38;5;241;43m*\u001b[39;49m\u001b[43mkwargs\u001b[49m\u001b[43m)\u001b[49m\n\u001b[1;32m    139\u001b[0m \u001b[38;5;66;03m# if it is a user error simply re-raise\u001b[39;00m\n\u001b[1;32m    140\u001b[0m \u001b[38;5;28;01mexcept\u001b[39;00m ArthurUserError \u001b[38;5;28;01mas\u001b[39;00m e:\n",
      "File \u001b[0;32m~/opt/anaconda3/lib/python3.8/site-packages/arthurai/core/bias/bias_metrics.py:108\u001b[0m, in \u001b[0;36mBiasMetrics.group_positivity_rates\u001b[0;34m(self, attr_name, batch_id, start_time, end_time)\u001b[0m\n\u001b[1;32m    105\u001b[0m \u001b[38;5;28;01melse\u001b[39;00m:\n\u001b[1;32m    106\u001b[0m     \u001b[38;5;28;01mraise\u001b[39;00m UserValueError(\u001b[38;5;124m\"\u001b[39m\u001b[38;5;124mPositivity rates are currently only supported for binary classifiers.\u001b[39m\u001b[38;5;124m\"\u001b[39m)\n\u001b[0;32m--> 108\u001b[0m resp \u001b[38;5;241m=\u001b[39m \u001b[38;5;28;43mself\u001b[39;49m\u001b[38;5;241;43m.\u001b[39;49m\u001b[43mmodel\u001b[49m\u001b[38;5;241;43m.\u001b[39;49m\u001b[43mquery\u001b[49m\u001b[43m(\u001b[49m\u001b[43mq\u001b[49m\u001b[43m)\u001b[49m\n\u001b[1;32m    109\u001b[0m \u001b[38;5;28;01mreturn\u001b[39;00m {x[attr_name]: x[\u001b[38;5;124m'\u001b[39m\u001b[38;5;124mpositive_rate\u001b[39m\u001b[38;5;124m'\u001b[39m] \u001b[38;5;28;01mfor\u001b[39;00m x \u001b[38;5;129;01min\u001b[39;00m resp}\n",
      "File \u001b[0;32m~/opt/anaconda3/lib/python3.8/site-packages/arthurai/common/exceptions.py:141\u001b[0m, in \u001b[0;36marthur_excepted.<locals>.decorator_arthur_excepted.<locals>.wrapper_arthur_excepted\u001b[0;34m(*args, **kwargs)\u001b[0m\n\u001b[1;32m    139\u001b[0m \u001b[38;5;66;03m# if it is a user error simply re-raise\u001b[39;00m\n\u001b[1;32m    140\u001b[0m \u001b[38;5;28;01mexcept\u001b[39;00m ArthurUserError \u001b[38;5;28;01mas\u001b[39;00m e:\n\u001b[0;32m--> 141\u001b[0m     \u001b[38;5;28;01mraise\u001b[39;00m e\n\u001b[1;32m    142\u001b[0m \u001b[38;5;66;03m# otherwise wrap it in a message saying it's not the user's fault\u001b[39;00m\n\u001b[1;32m    143\u001b[0m \u001b[38;5;28;01mexcept\u001b[39;00m ArthurInternalError \u001b[38;5;28;01mas\u001b[39;00m e:\n",
      "File \u001b[0;32m~/opt/anaconda3/lib/python3.8/site-packages/arthurai/common/exceptions.py:138\u001b[0m, in \u001b[0;36marthur_excepted.<locals>.decorator_arthur_excepted.<locals>.wrapper_arthur_excepted\u001b[0;34m(*args, **kwargs)\u001b[0m\n\u001b[1;32m    136\u001b[0m \u001b[38;5;66;03m# call the function\u001b[39;00m\n\u001b[1;32m    137\u001b[0m \u001b[38;5;28;01mtry\u001b[39;00m:\n\u001b[0;32m--> 138\u001b[0m     \u001b[38;5;28;01mreturn\u001b[39;00m \u001b[43mfunc\u001b[49m\u001b[43m(\u001b[49m\u001b[38;5;241;43m*\u001b[39;49m\u001b[43margs\u001b[49m\u001b[43m,\u001b[49m\u001b[43m \u001b[49m\u001b[38;5;241;43m*\u001b[39;49m\u001b[38;5;241;43m*\u001b[39;49m\u001b[43mkwargs\u001b[49m\u001b[43m)\u001b[49m\n\u001b[1;32m    139\u001b[0m \u001b[38;5;66;03m# if it is a user error simply re-raise\u001b[39;00m\n\u001b[1;32m    140\u001b[0m \u001b[38;5;28;01mexcept\u001b[39;00m ArthurUserError \u001b[38;5;28;01mas\u001b[39;00m e:\n",
      "File \u001b[0;32m~/opt/anaconda3/lib/python3.8/site-packages/arthurai/core/models.py:2788\u001b[0m, in \u001b[0;36mArthurModel.query\u001b[0;34m(self, body, query_type)\u001b[0m\n\u001b[1;32m   2785\u001b[0m \u001b[38;5;28;01melse\u001b[39;00m:\n\u001b[1;32m   2786\u001b[0m     \u001b[38;5;28;01mraise\u001b[39;00m UserValueError(\u001b[38;5;124mf\u001b[39m\u001b[38;5;124m\"\u001b[39m\u001b[38;5;124mInvalid query type \u001b[39m\u001b[38;5;124m'\u001b[39m\u001b[38;5;132;01m{\u001b[39;00mquery_type\u001b[38;5;132;01m}\u001b[39;00m\u001b[38;5;124m'\u001b[39m\u001b[38;5;124m, must be on of \u001b[39m\u001b[38;5;124m'\u001b[39m\u001b[38;5;124mbase\u001b[39m\u001b[38;5;124m'\u001b[39m\u001b[38;5;124m, \u001b[39m\u001b[38;5;124m'\u001b[39m\u001b[38;5;124mdrift\u001b[39m\u001b[38;5;124m'\u001b[39m\u001b[38;5;124m, or \u001b[39m\u001b[38;5;124m\"\u001b[39m\n\u001b[1;32m   2787\u001b[0m                          \u001b[38;5;124mf\u001b[39m\u001b[38;5;124m\"\u001b[39m\u001b[38;5;124m'\u001b[39m\u001b[38;5;124mdrift_psi_bucket_table\u001b[39m\u001b[38;5;124m'\u001b[39m\u001b[38;5;124m\"\u001b[39m)\n\u001b[0;32m-> 2788\u001b[0m resp \u001b[38;5;241m=\u001b[39m \u001b[38;5;28;43mself\u001b[39;49m\u001b[38;5;241;43m.\u001b[39;49m\u001b[43m_client\u001b[49m\u001b[38;5;241;43m.\u001b[39;49m\u001b[43mpost\u001b[49m\u001b[43m(\u001b[49m\u001b[43mendpoint\u001b[49m\u001b[43m,\u001b[49m\u001b[43m \u001b[49m\u001b[43mjson\u001b[49m\u001b[38;5;241;43m=\u001b[39;49m\u001b[43mbody\u001b[49m\u001b[43m,\u001b[49m\u001b[43m \u001b[49m\u001b[43mreturn_raw_response\u001b[49m\u001b[38;5;241;43m=\u001b[39;49m\u001b[38;5;28;43;01mTrue\u001b[39;49;00m\u001b[43m,\u001b[49m\u001b[43m \u001b[49m\u001b[43mvalidation_response_code\u001b[49m\u001b[38;5;241;43m=\u001b[39;49m\u001b[43mHTTPStatus\u001b[49m\u001b[38;5;241;43m.\u001b[39;49m\u001b[43mOK\u001b[49m\u001b[43m)\u001b[49m\n\u001b[1;32m   2790\u001b[0m \u001b[38;5;28;01mreturn\u001b[39;00m resp\u001b[38;5;241m.\u001b[39mjson()[\u001b[38;5;124m\"\u001b[39m\u001b[38;5;124mquery_result\u001b[39m\u001b[38;5;124m\"\u001b[39m]\n",
      "File \u001b[0;32m~/opt/anaconda3/lib/python3.8/site-packages/arthurai/client/http/requests.py:347\u001b[0m, in \u001b[0;36mHTTPClient.post\u001b[0;34m(self, endpoint, json, files, headers, params, return_raw_response, retries, validate_response_status, validation_response_code)\u001b[0m\n\u001b[1;32m    319\u001b[0m \u001b[38;5;28;01mdef\u001b[39;00m \u001b[38;5;21mpost\u001b[39m(\u001b[38;5;28mself\u001b[39m,\n\u001b[1;32m    320\u001b[0m          endpoint: \u001b[38;5;28mstr\u001b[39m,\n\u001b[1;32m    321\u001b[0m          json: Optional[Union[Dict, List, \u001b[38;5;28mstr\u001b[39m, \u001b[38;5;28mbytes\u001b[39m]] \u001b[38;5;241m=\u001b[39m \u001b[38;5;28;01mNone\u001b[39;00m,\n\u001b[0;32m   (...)\u001b[0m\n\u001b[1;32m    327\u001b[0m          validate_response_status: \u001b[38;5;28mbool\u001b[39m \u001b[38;5;241m=\u001b[39m \u001b[38;5;28;01mTrue\u001b[39;00m,\n\u001b[1;32m    328\u001b[0m          validation_response_code: Optional[\u001b[38;5;28mint\u001b[39m] \u001b[38;5;241m=\u001b[39m \u001b[38;5;28;01mNone\u001b[39;00m) \u001b[38;5;241m-\u001b[39m\u001b[38;5;241m>\u001b[39m Union[Dict, List, \u001b[38;5;28mbytes\u001b[39m, BytesIO, requests\u001b[38;5;241m.\u001b[39mResponse]:\n\u001b[1;32m    329\u001b[0m     \u001b[38;5;124;03m\"\"\"Send an HTTP POST request\u001b[39;00m\n\u001b[1;32m    330\u001b[0m \n\u001b[1;32m    331\u001b[0m \u001b[38;5;124;03m    :param endpoint: the specific endpoint to append to the client URL\u001b[39;00m\n\u001b[0;32m   (...)\u001b[0m\n\u001b[1;32m    345\u001b[0m \u001b[38;5;124;03m        parse the response\u001b[39;00m\n\u001b[1;32m    346\u001b[0m \u001b[38;5;124;03m    \"\"\"\u001b[39;00m\n\u001b[0;32m--> 347\u001b[0m     \u001b[38;5;28;01mreturn\u001b[39;00m \u001b[38;5;28;43mself\u001b[39;49m\u001b[38;5;241;43m.\u001b[39;49m\u001b[43msend\u001b[49m\u001b[43m(\u001b[49m\u001b[43mendpoint\u001b[49m\u001b[43m,\u001b[49m\u001b[43m \u001b[49m\u001b[43mmethod\u001b[49m\u001b[38;5;241;43m=\u001b[39;49m\u001b[38;5;124;43m'\u001b[39;49m\u001b[38;5;124;43mPOST\u001b[39;49m\u001b[38;5;124;43m'\u001b[39;49m\u001b[43m,\u001b[49m\u001b[43m \u001b[49m\u001b[43mheaders\u001b[49m\u001b[38;5;241;43m=\u001b[39;49m\u001b[43mheaders\u001b[49m\u001b[43m,\u001b[49m\u001b[43m \u001b[49m\u001b[43mjson\u001b[49m\u001b[38;5;241;43m=\u001b[39;49m\u001b[43mjson\u001b[49m\u001b[43m,\u001b[49m\u001b[43m \u001b[49m\u001b[43mfiles\u001b[49m\u001b[38;5;241;43m=\u001b[39;49m\u001b[43mfiles\u001b[49m\u001b[43m,\u001b[49m\u001b[43m \u001b[49m\u001b[43mparams\u001b[49m\u001b[38;5;241;43m=\u001b[39;49m\u001b[43mparams\u001b[49m\u001b[43m,\u001b[49m\n\u001b[1;32m    348\u001b[0m \u001b[43m                     \u001b[49m\u001b[43mreturn_raw_response\u001b[49m\u001b[38;5;241;43m=\u001b[39;49m\u001b[43mreturn_raw_response\u001b[49m\u001b[43m,\u001b[49m\u001b[43m \u001b[49m\u001b[43mretries\u001b[49m\u001b[38;5;241;43m=\u001b[39;49m\u001b[43mretries\u001b[49m\u001b[43m,\u001b[49m\n\u001b[1;32m    349\u001b[0m \u001b[43m                     \u001b[49m\u001b[43mvalidate_response_status\u001b[49m\u001b[38;5;241;43m=\u001b[39;49m\u001b[43mvalidate_response_status\u001b[49m\u001b[43m,\u001b[49m\n\u001b[1;32m    350\u001b[0m \u001b[43m                     \u001b[49m\u001b[43mvalidation_response_code\u001b[49m\u001b[38;5;241;43m=\u001b[39;49m\u001b[43mvalidation_response_code\u001b[49m\u001b[43m)\u001b[49m\n",
      "File \u001b[0;32m~/opt/anaconda3/lib/python3.8/site-packages/arthurai/client/http/requests.py:262\u001b[0m, in \u001b[0;36mHTTPClient.send\u001b[0;34m(self, endpoint, method, json, files, headers, params, return_raw_response, retries, validate_response_status, validation_response_code)\u001b[0m\n\u001b[1;32m    259\u001b[0m         resp \u001b[38;5;241m=\u001b[39m \u001b[38;5;28mself\u001b[39m\u001b[38;5;241m.\u001b[39msession\u001b[38;5;241m.\u001b[39mrequest(method, url, params\u001b[38;5;241m=\u001b[39mparams, headers\u001b[38;5;241m=\u001b[39mheaders, data\u001b[38;5;241m=\u001b[39mjson,\n\u001b[1;32m    260\u001b[0m                                     timeout\u001b[38;5;241m=\u001b[39m\u001b[38;5;28mself\u001b[39m\u001b[38;5;241m.\u001b[39mtimeout)\n\u001b[1;32m    261\u001b[0m     \u001b[38;5;28;01mif\u001b[39;00m validate_response_status:\n\u001b[0;32m--> 262\u001b[0m         \u001b[43mvalidation\u001b[49m\u001b[38;5;241;43m.\u001b[39;49m\u001b[43mvalidate_response_status\u001b[49m\u001b[43m(\u001b[49m\u001b[43mresp\u001b[49m\u001b[43m,\u001b[49m\u001b[43m \u001b[49m\u001b[43mexpected_status_code\u001b[49m\u001b[38;5;241;43m=\u001b[39;49m\u001b[43mvalidation_response_code\u001b[49m\u001b[43m)\u001b[49m\n\u001b[1;32m    263\u001b[0m     success \u001b[38;5;241m=\u001b[39m \u001b[38;5;28;01mTrue\u001b[39;00m\n\u001b[1;32m    264\u001b[0m \u001b[38;5;28;01mexcept\u001b[39;00m (ResponseServerError, ResponseRedirectError, RequestException) \u001b[38;5;28;01mas\u001b[39;00m e:\n",
      "File \u001b[0;32m~/opt/anaconda3/lib/python3.8/site-packages/arthurai/client/validation.py:58\u001b[0m, in \u001b[0;36mvalidate_response_status\u001b[0;34m(response_or_code, expected_status_code, allow_redirects)\u001b[0m\n\u001b[1;32m     55\u001b[0m     \u001b[38;5;28;01mraise\u001b[39;00m ResponseServerError(formatter_func(response_or_code))\n\u001b[1;32m     57\u001b[0m \u001b[38;5;28;01melif\u001b[39;00m status_code \u001b[38;5;241m>\u001b[39m\u001b[38;5;241m=\u001b[39m \u001b[38;5;241m400\u001b[39m:\n\u001b[0;32m---> 58\u001b[0m     \u001b[38;5;28;01mraise\u001b[39;00m ResponseClientError(formatter_func(response_or_code))\n\u001b[1;32m     60\u001b[0m \u001b[38;5;28;01melif\u001b[39;00m status_code \u001b[38;5;241m>\u001b[39m\u001b[38;5;241m=\u001b[39m \u001b[38;5;241m300\u001b[39m \u001b[38;5;129;01mand\u001b[39;00m \u001b[38;5;129;01mnot\u001b[39;00m allow_redirects:\n\u001b[1;32m     61\u001b[0m     \u001b[38;5;28;01mraise\u001b[39;00m ResponseRedirectError(formatter_func(response_or_code))\n",
      "\u001b[0;31mResponseClientError\u001b[0m: 400 Bad Request: {'error': \"error executing query: code: 62, message: Syntax error: failed at position 67 ('<'): <nil>, 1, 0)) / count()) AS `positive_rate` FROM inference_178afea0_b273_44f4_bfca_f4d3060e54a3 AS i GROUP BY i.`SEX` LIMIT 500. Expected one of: EXTRACT, TIMESTAMPADD, TIMESTAMPDIFF, TIMESTAMP_DIFF, TRIM expression, number, substitution, DATE_ADD, end of query, RIGHT, tuple, TIMESTAMP, literal, qualified asterisk, SELECT subquery, DATE_ADD expression, asterisk, EXTRACT expression, DATE, NULL, compound identifier, string concatenation expression, identifier, MySQL-style global variable, array element expression, TIMESTAMP operator expression, element of expression, expression with prefix unary operator, DATE operator expression, list, delimited by operator of variable arity, DATE_DIFF, parenthesized expression, COLUMNS matcher, RIGHT expression, array, TRIM, DATE_DIFF expression, case, string literal, unary minus expression, INTERVAL operator expression, map, DATESUB, TIMESTAMPSUB, INTERVAL, CASE, LEFT expression, LEFT, CAST, additive expression, SUBSTRING, list of elements, RTRIM, DATEDIFF, SUBSTRING expression, BETWEEN expression, function, DATEADD, DATE_SUB, tuple element expression, collection of literals, TIMESTAMP_ADD, CAST expression, list, delimited by binary operators, COLUMNS, TIMESTAMP_SUB, LTRIM, multiplicative expression\"}"
     ]
    }
   ],
   "source": [
    "# query bias metrics for sensitive attributes\n",
    "sex_dem_parity = arthur_model.bias.metrics.demographic_parity('SEX')\n",
    "sex_group_conf_mat = arthur_model.bias.metrics.group_confusion_matrices('SEX')\n",
    "age_dem_parity = arthur_model.bias.metrics.demographic_parity('AGE')\n",
    "age_group_conf_mat = arthur_model.bias.metrics.group_confusion_matrices('AGE')\n",
    "edu_dem_parity = arthur_model.bias.metrics.demographic_parity('EDUCATION')\n",
    "edu_group_conf_mat = arthur_model.bias.metrics.group_confusion_matrices('EDUCATION')"
   ]
  },
  {
   "cell_type": "markdown",
   "metadata": {},
   "source": [
    "### Visualize Bias"
   ]
  },
  {
   "cell_type": "code",
   "execution_count": 7,
   "metadata": {},
   "outputs": [],
   "source": [
    "# visualize bias metrics\n",
    "# as a grid of 2x3 plots, where the 3 corresponds to the 3 sensitive attributes\n",
    "# and the 2 corresponds to the 2 types of bias metrics \n",
    "# (demographic parity and group confusion matrix)"
   ]
  },
  {
   "cell_type": "markdown",
   "metadata": {},
   "source": [
    "## Alerts\n",
    "\n",
    "We configure an alert rule based on a metric and a threshold - when the metric crosses the threshold, the alert will be triggered and send a notification we can configure."
   ]
  },
  {
   "cell_type": "code",
   "execution_count": 36,
   "metadata": {},
   "outputs": [
    {
     "data": {
      "text/plain": [
       "AlertRule(bound='lower', threshold=0.6, metric_id='a89c120d-5c15-4662-b0a0-69c1d58eac8a', severity='critical', name='Accuracy Rate lower bound', lookback_period=5, subsequent_alert_wait_time=0, enabled=True, id='0cb06fd2-eee8-4420-877e-8c766f794adf', metric_name='Accuracy Rate')"
      ]
     },
     "execution_count": 36,
     "metadata": {},
     "output_type": "execute_result"
    }
   ],
   "source": [
    "# Setup and alert rule to notify when the accuracy dips below 60%\n",
    "arthur_model.create_alert_rule(\n",
    "    metric_id=[x for x in arthur_model.get_metrics() if x.name=='Accuracy Rate'][0].id,\n",
    "    bound=\"lower\",\n",
    "    threshold=0.6,\n",
    "    severity=\"critical\")"
   ]
  },
  {
   "cell_type": "markdown",
   "metadata": {},
   "source": [
    "-----\n",
    "\n",
    "# Enrichments\n",
    "\n",
    "-----"
   ]
  },
  {
   "cell_type": "markdown",
   "metadata": {},
   "source": [
    "## Anomaly Scores\n",
    "\n",
    "### Get Anomaly Scores\n",
    "\n",
    "We get the anomaly scores for a group of inferences, which measures how far these inferences stray from the baseline distribution of the model's reference set."
   ]
  },
  {
   "cell_type": "code",
   "execution_count": 37,
   "metadata": {},
   "outputs": [],
   "source": [
    "# query anomaly scores for inferences (as well as their their timestamp)\n",
    "def anomaly_scores_for_inferences(model):\n",
    "    query = {\n",
    "      \"select\": [\n",
    "          {\n",
    "              \"property\": \"anomaly_score\",\n",
    "          },\n",
    "          {\n",
    "              \"property\": \"inference_timestamp\"\n",
    "          }\n",
    "      ],\n",
    "      \"from\": \"enriched\",\n",
    "    }\n",
    "    return pd.DataFrame(model.query(query))"
   ]
  },
  {
   "cell_type": "code",
   "execution_count": 47,
   "metadata": {},
   "outputs": [],
   "source": [
    "# anomaly_score_result = anomaly_scores_for_inferences(arthur_model)"
   ]
  },
  {
   "cell_type": "markdown",
   "metadata": {},
   "source": [
    "### Visualize Anomaly Scores Over Time"
   ]
  },
  {
   "cell_type": "code",
   "execution_count": 199,
   "metadata": {},
   "outputs": [
    {
     "data": {
      "image/png": "[encoded data removed]",
      "text/plain": [
       "<Figure size 640x480 with 1 Axes>"
      ]
     },
     "metadata": {},
     "output_type": "display_data"
    }
   ],
   "source": [
    "fig, ax = plt.subplots()\n",
    "time, anomaly = anomaly_score_result['inference_timestamp'], anomaly_score_result['anomaly_score']\n",
    "ax.scatter(time, anomaly, s=20, c='red')\n",
    "ax.set_title('Anomaly Score of Each Inference over Time')\n",
    "ax.set_xlabel('------------------------------------- time ------------------------------------>')\n",
    "ax.set_xticks([])\n",
    "ax.set_xticklabels([])\n",
    "ax.set_ylabel('anomaly score')\n",
    "plt.show()"
   ]
  },
  {
   "cell_type": "markdown",
   "metadata": {},
   "source": [
    "## Explanations (TODO: test this section)\n",
    "\n",
    "### Get Feature Importance\n",
    "\n",
    "We get the LIME explanations for an inference, which is a list of feature importance scores for each feature. These scores estimate the impact each feature has on the model's output for this inference."
   ]
  },
  {
   "cell_type": "code",
   "execution_count": 42,
   "metadata": {},
   "outputs": [],
   "source": [
    "# query feature importance scores for an inference\n",
    "\n",
    "def explanation_for_inferences(model, inference_ids, only_attributes=None):\n",
    "    # default to all pipeline input attributes\n",
    "    if only_attributes is None:\n",
    "        attributes = [att.name for att in model.attributes if att.stage == Stage.ModelPipelineInput]\n",
    "    else:\n",
    "        attributes = only_attributes\n",
    "    # exactly one attribute must have is_positive_predicted_attribute == True\n",
    "    predicted_attribute = [\n",
    "        att.name for att in model.attributes \n",
    "        if att.stage == Stage.PredictedValue \n",
    "        and att.is_positive_predicted_attribute][0]\n",
    "\n",
    "    query = {\n",
    "      \"filter\": [\n",
    "          {\n",
    "              \"property\": \"inference_id\",\n",
    "              \"comparator\": \"in\",\n",
    "              \"value\": inference_ids,\n",
    "          },\n",
    "          {\n",
    "              \"property\": \"explainer_attribute\",\n",
    "              \"comparator\": \"in\",\n",
    "              \"value\": attributes,\n",
    "          },\n",
    "          {\n",
    "              \"property\": \"explainer_predicted_attribute\",\n",
    "              \"comparator\": \"eq\",\n",
    "              \"value\": predicted_attribute,\n",
    "          },\n",
    "      ],\n",
    "      \"select\": [\n",
    "          {\n",
    "              \"property\": \"inference_id\",\n",
    "          },\n",
    "          {\n",
    "              \"property\": \"explainer_algo\",\n",
    "          },\n",
    "          {\n",
    "              \"property\": \"explainer_attribute\",\n",
    "          },\n",
    "          {\n",
    "              \"property\": \"explainer_score\",\n",
    "          },\n",
    "          {\n",
    "              \"property\": \"explainer_predicted_attribute\",\n",
    "          },\n",
    "      ],\n",
    "      \"from\": \"enriched\",\n",
    "    }\n",
    "    return model.query(query)\n",
    "\n",
    "# explanations = pd.DataFrame(explanation_for_inferences(arthur_model, partner_inference_ids[:3]))\n"
   ]
  },
  {
   "cell_type": "markdown",
   "metadata": {},
   "source": [
    "### Visualize Feature Imporance Over Time"
   ]
  },
  {
   "cell_type": "code",
   "execution_count": null,
   "metadata": {},
   "outputs": [],
   "source": [
    "# visualize feature importance scores for the inferences\n",
    "\n",
    "# for inference_id, group in explanations.groupby(\"inference_id\"):\n",
    "#     group.plot.bar(x=\"explainer_attribute\", y=\"explainer_score\", title=f\"inference {inference_id}\", figsize=(20,5))\n",
    "#     plt.hlines(0, -1, len(arthur_model.attributes))\n",
    "    "
   ]
  },
  {
   "cell_type": "markdown",
   "metadata": {},
   "source": [
    "## Hotspots (TODO: figure out how to supply `date` or `ref_set_id` param)\n",
    "\n",
    "### Get Model Hotspots\n",
    "\n",
    "We get any hotspots that the Arthur system has idenfitied for the model, which are regions of data where model performance is notably lower than performance on other regions."
   ]
  },
  {
   "cell_type": "code",
   "execution_count": 46,
   "metadata": {},
   "outputs": [],
   "source": [
    "# fetch hotspots\n",
    "# arthur_model.find_hotspots(metric=\"accuracy\", threshold=.7, date='2023-01-01')"
   ]
  },
  {
   "cell_type": "markdown",
   "metadata": {},
   "source": [
    "### Visualize Hotspots TODO\n",
    "\n",
    "We present the results from the hotspots query visually to analyze model performance."
   ]
  },
  {
   "cell_type": "code",
   "execution_count": 10,
   "metadata": {},
   "outputs": [],
   "source": [
    "# visualize hotspot regions \n",
    "# this is a cool challenge\n",
    "\n",
    "# As a start, we can do a different visualization if the hotspot rule includes 1, 2, or 3 variables\n",
    "# If it includes more than 3 variables, we can visualize the hotspot "
   ]
  },
  {
   "cell_type": "markdown",
   "metadata": {},
   "source": [
    "## Bias Mitigation\n",
    "\n",
    "### Get Bias Mitigation Thresholds\n",
    "\n",
    "We use the bias mitigation algorithm to get a set of tresholds to apply for model output post-processing."
   ]
  },
  {
   "cell_type": "code",
   "execution_count": 7,
   "metadata": {},
   "outputs": [],
   "source": [
    "# get mitigator\n",
    "mitigator = arthur_model.bias.mitigation_threshold\n",
    "curves = mitigator.get_curves('SEX', 'equal_opportunity')\n",
    "thresholds = mitigator.get_thresholds_for_idx(curves, 300)\n",
    "print(thresholds)"
   ]
  },
  {
   "cell_type": "markdown",
   "metadata": {},
   "source": [
    "### Visualize Bias Mitigation Thresholds\n",
    "\n",
    "We visualize the impact of applying the thresholds returned by the mitigator."
   ]
  },
  {
   "cell_type": "code",
   "execution_count": null,
   "metadata": {},
   "outputs": [],
   "source": [
    "mitigator.plot_curves(curves)"
   ]
  }
 ],
 "metadata": {
  "interpreter": {
   "hash": "d485cb42aaa05640787d51ff6b98576e6591c8fe1b0e087ca1599e137e7b48f2"
  },
  "kernelspec": {
   "display_name": "Python 3 (ipykernel)",
   "language": "python",
   "name": "python3"
  },
  "language_info": {
   "codemirror_mode": {
    "name": "ipython",
    "version": 3
   },
   "file_extension": ".py",
   "mimetype": "text/x-python",
   "name": "python",
   "nbconvert_exporter": "python",
   "pygments_lexer": "ipython3",
   "version": "3.8.13"
  },
  "pycharm": {
   "stem_cell": {
    "cell_type": "raw",
    "metadata": {
     "collapsed": false
    },
    "source": []
   }
  },
  "toc": {
   "base_numbering": 1,
   "nav_menu": {},
   "number_sections": true,
   "sideBar": true,
   "skip_h1_title": false,
   "title_cell": "Table of Contents",
   "title_sidebar": "Contents",
   "toc_cell": false,
   "toc_position": {},
   "toc_section_display": true,
   "toc_window_display": false
  }
 },
 "nbformat": 4,
 "nbformat_minor": 4
}
