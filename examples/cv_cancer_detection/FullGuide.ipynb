{
 "cells": [
  {
   "cell_type": "markdown",
   "id": "d18ac93f",
   "metadata": {},
   "source": [
    "# Cancer Detector\n",
    "\n",
    "This is an example project using a computer vision model which predicts cancer in biopsy images."
   ]
  },
  {
   "cell_type": "code",
   "execution_count": 1,
   "id": "ef7048ca",
   "metadata": {
    "ExecuteTime": {
     "end_time": "2021-09-02T19:10:00.625654Z",
     "start_time": "2021-09-02T19:09:58.174900Z"
    }
   },
   "outputs": [],
   "source": [
    "import torchvision\n",
    "import numpy as np\n",
    "import pandas as pd\n",
    "import random\n",
    "import uuid\n",
    "from datetime import datetime, timedelta\n",
    "import pytz\n",
    "import json\n",
    "import boto3\n",
    "import zipfile\n",
    "\n",
    "# arthur imports\n",
    "from arthurai import ArthurAI\n",
    "from arthurai.common.constants import InputType, OutputType, Stage, ValueType, Enrichment"
   ]
  },
  {
   "cell_type": "markdown",
   "id": "02c70dd5",
   "metadata": {},
   "source": [
    "## Create Arthur Connection"
   ]
  },
  {
   "cell_type": "code",
   "execution_count": 2,
   "id": "57bdd5ab",
   "metadata": {
    "ExecuteTime": {
     "end_time": "2021-09-02T19:10:00.787707Z",
     "start_time": "2021-09-02T19:10:00.627770Z"
    }
   },
   "outputs": [],
   "source": [
    "# connect to Arthur\n",
    "# UNCOMMENT the two lines below and enter your details\n",
    "arthur = ArthurAI(\n",
    "    # url=\"https://app.arthur.ai\",  # you can also pass this through the ARTHUR_ENDPOINT_URL environment variable\n",
    "    # login=\"<YOUR_USERNAME_OR_EMAIL>\",  # you can also pass this through the ARTHUR_LOGIN environment variable\n",
    ")"
   ]
  },
  {
   "cell_type": "markdown",
   "id": "6d349933",
   "metadata": {},
   "source": [
    "## Load Data"
   ]
  },
  {
   "cell_type": "code",
   "execution_count": 3,
   "id": "359a1009",
   "metadata": {},
   "outputs": [],
   "source": [
    "from botocore import UNSIGNED\n",
    "from botocore.client import Config\n",
    "\n",
    "s3 = boto3.client('s3', config=Config(signature_version=UNSIGNED))\n",
    "s3.download_file('s3-bucket-arthur-public', 'sandbox_cv_cancer_model/train.zip', 'data/train.zip')\n",
    "s3.download_file('s3-bucket-arthur-public', 'sandbox_cv_cancer_model/test.zip', 'data/test.zip')"
   ]
  },
  {
   "cell_type": "code",
   "execution_count": 4,
   "id": "d9c4f9e6",
   "metadata": {},
   "outputs": [],
   "source": [
    "with zipfile.ZipFile('data/train.zip', 'r') as zip_ref:\n",
    "    zip_ref.extractall('data/')\n",
    "with zipfile.ZipFile('data/test.zip', 'r') as zip_ref:\n",
    "    zip_ref.extractall('data/')"
   ]
  },
  {
   "cell_type": "code",
   "execution_count": 5,
   "id": "390d27b2",
   "metadata": {
    "ExecuteTime": {
     "end_time": "2021-09-02T19:10:02.455345Z",
     "start_time": "2021-09-02T19:10:02.419870Z"
    }
   },
   "outputs": [],
   "source": [
    "# load data set used for training\n",
    "# includes ground truth (\"gt_tumor\") and predicted values (\"tumor\")\n",
    "# we will use this as the reference set\n",
    "train_df = pd.read_csv('data/train_meta.csv').drop(['gt_normal', 'normal'], axis = 1)\n",
    "train_df"
   ]
  },
  {
   "cell_type": "code",
   "execution_count": 6,
   "id": "8e4cbcd9",
   "metadata": {
    "ExecuteTime": {
     "end_time": "2021-09-02T19:10:06.720723Z",
     "start_time": "2021-09-02T19:10:06.704923Z"
    }
   },
   "outputs": [],
   "source": [
    "# load test data\n",
    "# does not include predictions\n",
    "# we will generate predictions and send to Arthur as part of this example\n",
    "test_df = pd.read_csv('data/test_meta.csv').drop(['gt_normal'], axis = 1)\n",
    "test_df"
   ]
  },
  {
   "cell_type": "markdown",
   "id": "c0b7d6d0",
   "metadata": {},
   "source": [
    "## Load Model\n",
    "\n",
    "Our model has already been trained and saved. The functions `load_image()` and `predict()` handle all logic for getting predictions.\n",
    "\n",
    "These functions are required for enabling explainability."
   ]
  },
  {
   "cell_type": "code",
   "execution_count": 7,
   "id": "9eb3cfee",
   "metadata": {
    "ExecuteTime": {
     "end_time": "2021-09-02T19:10:34.713409Z",
     "start_time": "2021-09-02T19:10:34.675408Z"
    }
   },
   "outputs": [],
   "source": [
    "import sys\n",
    "sys.path.append('cancer_model')\n",
    "from entrypoint import load_image, predict"
   ]
  },
  {
   "cell_type": "code",
   "execution_count": 8,
   "id": "103cf5df",
   "metadata": {
    "ExecuteTime": {
     "end_time": "2021-09-02T19:10:35.459403Z",
     "start_time": "2021-09-02T19:10:35.427648Z"
    }
   },
   "outputs": [],
   "source": [
    "# grab image path to test functions\n",
    "image_path = train_df.iloc[0]['patient_image']\n",
    "image = load_image(image_path)\n",
    "predict(np.array([image]))"
   ]
  },
  {
   "cell_type": "markdown",
   "id": "ef33da9f",
   "metadata": {},
   "source": [
    "## Onboard Model to Arthur"
   ]
  },
  {
   "cell_type": "code",
   "execution_count": 9,
   "id": "e0750724",
   "metadata": {
    "ExecuteTime": {
     "end_time": "2021-09-02T19:10:37.630415Z",
     "start_time": "2021-09-02T19:10:37.626097Z"
    }
   },
   "outputs": [],
   "source": [
    "# define the model schema\n",
    "\n",
    "# pixel_height and pixel_width should be equal to the image size your model expects\n",
    "# this can be different than the image size you send in an inference, the \"raw_image\"\n",
    "# however the load_image function for explainability needs to handle resizing if raw_image is bigger than what model expects\n",
    "model_meta = {\n",
    "    \"partner_model_id\": f\"CancerDetector_FG-{datetime.now().strftime('%Y%m%d%H%M%S')}\",\n",
    "    \"display_name\": \"Cancer Detector\",\n",
    "    \"input_type\": InputType.Image,\n",
    "    \"output_type\": OutputType.Multiclass,\n",
    "    \"pixel_height\": 96,\n",
    "    \"pixel_width\": 96\n",
    "}\n",
    "model = arthur.model(**model_meta)\n"
   ]
  },
  {
   "cell_type": "code",
   "execution_count": 10,
   "id": "a3a682da",
   "metadata": {
    "ExecuteTime": {
     "end_time": "2021-09-02T19:11:34.223288Z",
     "start_time": "2021-09-02T19:11:34.161083Z"
    }
   },
   "outputs": [],
   "source": [
    "model.build(train_df,\n",
    "            ground_truth_column=\"gt_tumor\",\n",
    "            pred_to_ground_truth_map = {\"tumor\" : 1},\n",
    "            positive_predicted_attr = \"tumor\",\n",
    "            non_input_columns=[\"center\"])"
   ]
  },
  {
   "cell_type": "code",
   "execution_count": 11,
   "id": "66fa49b1",
   "metadata": {
    "ExecuteTime": {
     "end_time": "2021-09-02T19:12:03.803788Z",
     "start_time": "2021-09-02T19:12:03.799817Z"
    }
   },
   "outputs": [],
   "source": [
    "# update inferred attribute `center` determines which medical center the biopsy was taken\n",
    "model.get_attribute(\"center\").set(categories=[0, 1, 2, 3, 4, 5])"
   ]
  },
  {
   "cell_type": "code",
   "execution_count": 12,
   "id": "c9512b67",
   "metadata": {
    "ExecuteTime": {
     "end_time": "2021-09-02T19:12:04.586226Z",
     "start_time": "2021-09-02T19:12:04.556215Z"
    }
   },
   "outputs": [],
   "source": [
    "# ensure everything looks correct\n",
    "model.review()"
   ]
  },
  {
   "cell_type": "code",
   "execution_count": 13,
   "id": "7f78fa7c",
   "metadata": {
    "ExecuteTime": {
     "end_time": "2021-08-10T19:34:07.454921Z",
     "start_time": "2021-08-10T19:34:05.433451Z"
    }
   },
   "outputs": [],
   "source": [
    "model_id = model.save()\n",
    "with open(\"fullguide_model_id.txt\", \"w\") as f:\n",
    "    f.write(model_id)"
   ]
  },
  {
   "cell_type": "code",
   "execution_count": null,
   "id": "2470bfbd",
   "metadata": {},
   "outputs": [],
   "source": [
    "# you can fetch a model by ID. for example pull the last-created model:\n",
    "# with open(\"fullguide_model_id.txt\", \"r\") as f:\n",
    "#     model_id = f.read()\n",
    "# model = arthur.get_model(model_id)"
   ]
  },
  {
   "cell_type": "markdown",
   "id": "b5ab719b",
   "metadata": {},
   "source": [
    "## Enable Explainability\n",
    "\n",
    "To get explanations for inferences, you first must provide us with your model and functions to use it.\n",
    "\n",
    "`project_directory` should contain your serialized model, predict file, requirements file, and any other files required for generating predictions.\n",
    "\n",
    "For image models, you must provide a `load_image` function which takes in a path to an image, and returns the image in a `numpy` array, with any resizing or processing logic done.  \n",
    "`predict` function take in a `numpy` array of processed image data and should wrap your models `predict` function.\n",
    "\n",
    "See `cancer_model/entrypoint.py` for example functions for this model."
   ]
  },
  {
   "cell_type": "code",
   "execution_count": 14,
   "id": "a6528385",
   "metadata": {
    "ExecuteTime": {
     "end_time": "2021-08-10T19:36:01.782106Z",
     "start_time": "2021-08-10T19:35:47.504798Z"
    }
   },
   "outputs": [],
   "source": [
    "import os\n",
    "project_dir = os.path.join(os.getcwd(), \"cancer_model\")\n",
    "\n",
    "model.enable_explainability(\n",
    "    project_directory=project_dir,\n",
    "    user_predict_function_import_path='entrypoint',\n",
    "    streaming_explainability_enabled=True,\n",
    "    explanation_algo='lime',\n",
    "    explanation_nsamples=2000\n",
    ")"
   ]
  },
  {
   "cell_type": "markdown",
   "id": "e90c4ea9",
   "metadata": {},
   "source": [
    "## Send Inferences\n",
    "\n",
    "Now we can go ahead and send some inference data.\n",
    "\n",
    "In this example ground truth is supplied with the predicted value, however you can also only include inference data, and then upload ground truth for the inference on a later date."
   ]
  },
  {
   "cell_type": "code",
   "execution_count": 15,
   "id": "5ed91121",
   "metadata": {
    "scrolled": true
   },
   "outputs": [],
   "source": [
    "data_source = test_df\n",
    "num_to_send = 100\n",
    "inferences = []\n",
    "\n",
    "# mimic data sent over the last week\n",
    "timestamps = pd.date_range(start=datetime.now(pytz.utc) - timedelta(days=7),\n",
    "                           end=datetime.now(pytz.utc),\n",
    "                           periods=num_to_send)\n",
    "\n",
    "for j in range(num_to_send):\n",
    "    # grab random test record\n",
    "    i = random.randint(0, len(data_source))\n",
    "    # load image and predict\n",
    "    image_path = data_source.iloc[i]['patient_image']\n",
    "    image = load_image(image_path)\n",
    "    pred = predict(np.array([image]))\n",
    "    # build inference data\n",
    "    inf = {'patient_image': image_path,\n",
    "           'tumor': pred.item(),\n",
    "           'gt_tumor': data_source.iloc[i]['gt_tumor'],\n",
    "           'inference_timestamp': timestamps[j]}\n",
    "    inferences.append(inf)\n",
    "    print('Image Path: ', image_path)\n",
    "    print('Inference: ', json.dumps(inf, indent=2, default=str), '\\n')"
   ]
  },
  {
   "cell_type": "code",
   "execution_count": 16,
   "id": "5539980f",
   "metadata": {},
   "outputs": [],
   "source": [
    "model.send_inferences(inferences)"
   ]
  },
  {
   "cell_type": "code",
   "execution_count": null,
   "id": "f351209b",
   "metadata": {},
   "outputs": [],
   "source": []
  }
 ],
 "metadata": {
  "interpreter": {
   "hash": "bb6edff73b6c956c203febac7356b0c2df5a1e02582eedf3648d5140893453a9"
  },
  "kernelspec": {
   "display_name": "Python 3 (ipykernel)",
   "language": "python",
   "name": "python3"
  },
  "language_info": {
   "codemirror_mode": {
    "name": "ipython",
    "version": 3
   },
   "file_extension": ".py",
   "mimetype": "text/x-python",
   "name": "python",
   "nbconvert_exporter": "python",
   "pygments_lexer": "ipython3",
   "version": "3.8.13"
  },
  "pycharm": {
   "stem_cell": {
    "cell_type": "raw",
    "metadata": {
     "collapsed": false
    },
    "source": []
   }
  },
  "toc": {
   "base_numbering": 1,
   "nav_menu": {},
   "number_sections": true,
   "sideBar": true,
   "skip_h1_title": false,
   "title_cell": "Table of Contents",
   "title_sidebar": "Contents",
   "toc_cell": false,
   "toc_position": {},
   "toc_section_display": true,
   "toc_window_display": false
  }
 },
 "nbformat": 4,
 "nbformat_minor": 5
}
