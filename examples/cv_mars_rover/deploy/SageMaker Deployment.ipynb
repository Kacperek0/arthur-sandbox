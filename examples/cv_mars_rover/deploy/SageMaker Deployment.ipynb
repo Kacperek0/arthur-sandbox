{
 "cells": [
  {
   "cell_type": "code",
   "execution_count": null,
   "id": "dd1328a6",
   "metadata": {
    "ExecuteTime": {
     "end_time": "2021-11-05T19:18:12.527641Z",
     "start_time": "2021-11-05T19:18:12.520265Z"
    }
   },
   "outputs": [],
   "source": [
    "import os\n",
    "import json\n",
    "import boto3"
   ]
  },
  {
   "cell_type": "markdown",
   "id": "9a5fcdc6",
   "metadata": {},
   "source": [
    "### Update Lambda Function\n",
    "\n",
    "Arthur-Only, will make public\n",
    "\n",
    "#### TODO: REMOVE!!!!"
   ]
  },
  {
   "cell_type": "code",
   "execution_count": null,
   "id": "a9a82379",
   "metadata": {
    "ExecuteTime": {
     "end_time": "2021-11-05T19:28:16.040265Z",
     "start_time": "2021-11-05T19:28:15.909671Z"
    }
   },
   "outputs": [],
   "source": [
    "! zip lambda-notebook-trigger-deployment.zip lambda_function.py"
   ]
  },
  {
   "cell_type": "code",
   "execution_count": null,
   "id": "6cdfacbc",
   "metadata": {
    "ExecuteTime": {
     "end_time": "2021-11-05T19:28:18.168803Z",
     "start_time": "2021-11-05T19:28:16.555936Z"
    }
   },
   "outputs": [],
   "source": [
    "! aws s3 cp ./lambda-notebook-trigger-deployment.zip s3://s3-bucket-arthur-public/mars/lambda-notebook-trigger-deployment.zip"
   ]
  },
  {
   "cell_type": "markdown",
   "id": "36a6f3c9",
   "metadata": {},
   "source": [
    "## Create Notebook Docker Images"
   ]
  },
  {
   "cell_type": "code",
   "execution_count": null,
   "id": "bc7e0a13",
   "metadata": {
    "ExecuteTime": {
     "end_time": "2021-11-05T19:28:49.550893Z",
     "start_time": "2021-11-05T19:28:49.548694Z"
    }
   },
   "outputs": [],
   "source": [
    "# if needed, set your ECR_REGISTRY_URL env var\n",
    "\n",
    "# os.environ['ECR_REGISTRY_URL'] = \"<YOUR-REGISTRY>\"\n",
    "# os.environ['AWS_REGION'] = \"<YOUR-REGION>\""
   ]
  },
  {
   "cell_type": "code",
   "execution_count": null,
   "id": "a26dc075",
   "metadata": {
    "ExecuteTime": {
     "end_time": "2021-11-05T19:28:51.243960Z",
     "start_time": "2021-11-05T19:28:50.332723Z"
    }
   },
   "outputs": [],
   "source": [
    "# create an ECR repository for this image\n",
    "\n",
    "! aws ecr create-repository --repository-name sagemaker-notebook --image-scanning-configuration scanOnPush=true --image-tag-mutability MUTABLE"
   ]
  },
  {
   "cell_type": "code",
   "execution_count": null,
   "id": "59fb9988",
   "metadata": {
    "ExecuteTime": {
     "end_time": "2021-11-05T19:28:55.990393Z",
     "start_time": "2021-11-05T19:28:53.181379Z"
    },
    "scrolled": true
   },
   "outputs": [],
   "source": [
    "#  build the image locally\n",
    "\n",
    "! docker build ../ -f ./sagemaker.Dockerfile -t sagemaker-notebook"
   ]
  },
  {
   "cell_type": "code",
   "execution_count": null,
   "id": "a8da00f0",
   "metadata": {
    "ExecuteTime": {
     "end_time": "2021-11-05T19:29:08.300259Z",
     "start_time": "2021-11-05T19:29:08.008958Z"
    }
   },
   "outputs": [],
   "source": [
    "# re-tag the image with the AWS registry\n",
    "\n",
    "! docker tag sagemaker-notebook:latest ${ECR_REGISTRY_URL}/sagemaker-notebook:latest"
   ]
  },
  {
   "cell_type": "code",
   "execution_count": null,
   "id": "806f269b",
   "metadata": {
    "ExecuteTime": {
     "end_time": "2021-11-05T19:29:11.967307Z",
     "start_time": "2021-11-05T19:29:09.858152Z"
    }
   },
   "outputs": [],
   "source": [
    "# login to ecr registry\n",
    "\n",
    "! aws ecr get-login-password --region ${AWS_REGION} | docker login --username AWS --password-stdin ${ECR_REGISTRY_URL}"
   ]
  },
  {
   "cell_type": "code",
   "execution_count": null,
   "id": "83f103ac",
   "metadata": {
    "ExecuteTime": {
     "end_time": "2021-11-05T19:29:17.756729Z",
     "start_time": "2021-11-05T19:29:13.584731Z"
    }
   },
   "outputs": [],
   "source": [
    "# push the image up\n",
    "\n",
    "! docker push ${ECR_REGISTRY_URL}/sagemaker-notebook:latest"
   ]
  },
  {
   "cell_type": "markdown",
   "id": "086869b6",
   "metadata": {},
   "source": [
    "## Create AWS Infrastructure"
   ]
  },
  {
   "cell_type": "code",
   "execution_count": null,
   "id": "dc82b813",
   "metadata": {
    "ExecuteTime": {
     "end_time": "2021-11-05T19:30:50.072040Z",
     "start_time": "2021-11-05T19:30:50.068960Z"
    }
   },
   "outputs": [],
   "source": [
    "# ensure you have these environment variables set:\n",
    "\n",
    "# os.environ['ARTHUR_ENDPOINT_URL'] = \"https://app.arthur.ai\"\n",
    "# os.environ['ARTHUR_API_KEY'] = \"<YOUR-ARTHUR-API-KEY>\"\n",
    "# os.environ['NASA_API_KEY'] = \"<YOUR-NASA-API-KEY>\""
   ]
  },
  {
   "cell_type": "code",
   "execution_count": null,
   "id": "895c212a",
   "metadata": {
    "ExecuteTime": {
     "end_time": "2021-11-05T19:30:55.645862Z",
     "start_time": "2021-11-05T19:30:54.486664Z"
    },
    "scrolled": true
   },
   "outputs": [],
   "source": [
    "! aws cloudformation create-stack --stack-name sagemaker-run-arthur-mars-notebook \\\n",
    "    --template-body file://$(pwd)/cloudformation.yml --capabilities CAPABILITY_NAMED_IAM \\\n",
    "    --parameters ParameterKey=ArthurURL,ParameterValue=${ARTHUR_ENDPOINT_URL} \\\n",
    "    ParameterKey=ArthurApiKey,ParameterValue=${ARTHUR_API_KEY} \\\n",
    "    ParameterKey=NasaApiKey,ParameterValue=${NASA_API_KEY}"
   ]
  },
  {
   "cell_type": "markdown",
   "id": "773a5ad4",
   "metadata": {},
   "source": [
    "## Upload Project to S3"
   ]
  },
  {
   "cell_type": "code",
   "execution_count": null,
   "id": "7ac6ad2e",
   "metadata": {
    "ExecuteTime": {
     "end_time": "2021-11-05T19:31:28.826870Z",
     "start_time": "2021-11-05T19:31:28.824028Z"
    }
   },
   "outputs": [],
   "source": [
    "# update me!\n",
    "S3_BUCKET = \"arthur-sagemaker\"\n",
    "\n",
    "os.environ['S3_BUCKET'] = S3_BUCKET"
   ]
  },
  {
   "cell_type": "code",
   "execution_count": null,
   "id": "dd9536b8",
   "metadata": {
    "ExecuteTime": {
     "end_time": "2021-11-05T19:31:35.862399Z",
     "start_time": "2021-11-05T19:31:30.087839Z"
    }
   },
   "outputs": [],
   "source": [
    "# create directories for our api data, reference data, model, and output notebooks\n",
    "! aws s3 cp ./.empty s3://${SAGEMAKER_S3_BUCKET}/mars/api-data/.empty\n",
    "! aws s3 cp ./.empty s3://${SAGEMAKER_S3_BUCKET}/mars/reference-data/.empty\n",
    "! aws s3 cp ./.empty s3://${SAGEMAKER_S3_BUCKET}/mars/model/.empty\n",
    "! aws s3 cp ./.empty s3://${SAGEMAKER_S3_BUCKET}/mars/output_notebooks/.empty\n",
    "\n",
    "# copy predict function\n",
    "! aws s3 cp ../predict.py s3://${SAGEMAKER_S3_BUCKET}/mars/predict.py\n",
    "    \n",
    "# copy util folder\n",
    "! aws s3 cp ../util s3://${SAGEMAKER_S3_BUCKET}/mars/util --recursive --exclude \"*\" --include \"*.py\"\n",
    "\n",
    "# copy notebook\n",
    "! aws s3 cp ../Quickstart.ipynb s3://${SAGEMAKER_S3_BUCKET}/mars/MarsNotebook.ipynb\n",
    "    \n",
    "# copy api key\n",
    "! echo ${ARTHUR_API_KEY} > ./arthur-api-key.txt\n",
    "! aws s3 cp ./arthur-api-key.txt s3://${SAGEMAKER_S3_BUCKET}/mars/arthur-api-key.txt"
   ]
  },
  {
   "cell_type": "code",
   "execution_count": null,
   "id": "65f9db98",
   "metadata": {
    "ExecuteTime": {
     "end_time": "2021-11-05T19:32:23.909226Z",
     "start_time": "2021-11-05T19:31:44.959093Z"
    }
   },
   "outputs": [],
   "source": [
    "# optional: if you've downloaded the model you can upload it to S3 so that each job doesn't have to\n",
    "\n",
    "! aws s3 cp ../model/model_weights.pt s3://${SAGEMAKER_S3_BUCKET}/mars/model/model_weights.pt"
   ]
  },
  {
   "cell_type": "markdown",
   "id": "470c666a",
   "metadata": {},
   "source": [
    "## Invoking Runs"
   ]
  },
  {
   "cell_type": "code",
   "execution_count": null,
   "id": "66da0d9b",
   "metadata": {},
   "outputs": [],
   "source": [
    "# update me!\n",
    "MARS_MODEL_ID = \"fill in\""
   ]
  },
  {
   "cell_type": "code",
   "execution_count": null,
   "id": "4573e4c5",
   "metadata": {},
   "outputs": [],
   "source": [
    "base_lambda_payload = {\n",
    "    \"s3_path\": f\"s3://{S3_BUCKET}/mars\",\n",
    "    \"image\": f\"{os.environ['ECR_REGISTRY_URL']}/sagemaker-notebook:latest\",\n",
    "    \"notebook\": \"MarsNotebook.ipynb\",\n",
    "    \"instance_type\": \"ml.c5.2xlarge\",\n",
    "}"
   ]
  },
  {
   "cell_type": "markdown",
   "id": "7a5d32fd",
   "metadata": {},
   "source": [
    "### Trigger Manual Run"
   ]
  },
  {
   "cell_type": "code",
   "execution_count": null,
   "id": "909ea2fd",
   "metadata": {
    "ExecuteTime": {
     "end_time": "2021-10-28T22:19:29.569402Z",
     "start_time": "2021-10-28T22:19:29.527057Z"
    }
   },
   "outputs": [],
   "source": [
    "import boto3\n",
    "\n",
    "lambda_client = boto3.client('lambda')"
   ]
  },
  {
   "cell_type": "code",
   "execution_count": null,
   "id": "86eb20ec",
   "metadata": {
    "ExecuteTime": {
     "end_time": "2021-10-29T00:07:52.980885Z",
     "start_time": "2021-10-29T00:07:52.977953Z"
    }
   },
   "outputs": [],
   "source": [
    "manual_lambda_payload = {\n",
    "    \"parameters\": {\n",
    "        \"lookback_days\": 30,\n",
    "\n",
    "        #  if you want to add historical data to an already-created model, specify your model ID above\n",
    "        #  if you want this manual run to create a new model, you can comment or remove this line\n",
    "        \"mars_model_id\": MARS_MODEL_ID\n",
    "    },\n",
    "    **base_lambda_payload\n",
    "}"
   ]
  },
  {
   "cell_type": "code",
   "execution_count": null,
   "id": "2785c247",
   "metadata": {
    "ExecuteTime": {
     "end_time": "2021-10-29T01:15:59.504907Z",
     "start_time": "2021-10-29T01:15:56.195058Z"
    }
   },
   "outputs": [],
   "source": [
    "lambda_client.invoke(FunctionName='RunArthurMarsNotebook',\n",
    "              Payload=bytes(json.dumps(manual_lambda_payload), encoding='utf-8'))"
   ]
  },
  {
   "cell_type": "markdown",
   "id": "dc58524e",
   "metadata": {},
   "source": [
    "### Schedule Daily Runs\n",
    "\n",
    "If you haven't filled in \"MARS_MODEL_ID\" yet and used the manual run to create a new model, find your model ID in the Arthur dashboard in fill in that value now"
   ]
  },
  {
   "cell_type": "code",
   "execution_count": null,
   "id": "c33d2553",
   "metadata": {},
   "outputs": [],
   "source": [
    "daily_lambda_payload = {\n",
    "    \"parameters\": {\n",
    "        \"lookback_days\": 5,\n",
    "        \"mars_model_id\": MARS_MODEL_ID\n",
    "    },\n",
    "    **base_lambda_payload\n",
    "}"
   ]
  },
  {
   "cell_type": "code",
   "execution_count": null,
   "id": "379d721d",
   "metadata": {},
   "outputs": [],
   "source": [
    "# fetch our AWS Account ID to use with EventBridge\n",
    "\n",
    "AWS_ACCOUNT_ID = boto3.client(\"sts\").get_caller_identity()['Account']\n",
    "os.environ['AWS_ACCOUNT_ID'] = AWS_ACCOUNT_ID"
   ]
  },
  {
   "cell_type": "code",
   "execution_count": null,
   "id": "e83acc07",
   "metadata": {},
   "outputs": [],
   "source": [
    "events_client = boto3.client(\"events\")"
   ]
  },
  {
   "cell_type": "code",
   "execution_count": null,
   "id": "eeb9c820",
   "metadata": {},
   "outputs": [],
   "source": [
    "# create an event rule\n",
    "\n",
    "events_client.put_rule(Name=\"RunArthurMarsNotebook-daily\", ScheduleExpression=\"cron(30 10 * * ? *)\",\n",
    "                       Description=\"Daily run of the Arthur Mars notebook\")"
   ]
  },
  {
   "cell_type": "code",
   "execution_count": null,
   "id": "d86c4e5c",
   "metadata": {},
   "outputs": [],
   "source": [
    "# add a permission for this event rule to trigger the lambda\n",
    "\n",
    "! AWS_ACCOUNT_ID=`aws sts get-caller-identity --query Account --output text` && \\\n",
    "  aws lambda add-permission --statement-id DailyRun-RunArthurMarsNotebook \\\n",
    "              --action lambda:InvokeFunction \\\n",
    "              --function-name RunArthurMarsNotebook \\\n",
    "              --principal events.amazonaws.com \\\n",
    "              --source-arn arn:aws:events:${AWS_REGION}:${AWS_ACCOUNT_ID}:rule/RunArthurMarsNotebook-daily\n"
   ]
  },
  {
   "cell_type": "code",
   "execution_count": null,
   "id": "8907ce25",
   "metadata": {},
   "outputs": [],
   "source": [
    "# assign our lambda as the target for the event\n",
    "\n",
    "targets = [{\n",
    "    \"Id\": \"Default\",\n",
    "    \"Arn\": f\"arn:aws:lambda:{os.environ['AWS_REGION']}:{AWS_ACCOUNT_ID}:function:RunArthurMarsNotebook\",\n",
    "    \"Input\": json.dumps(daily_lambda_payload)\n",
    "}]\n",
    "\n",
    "events_client.put_targets(Rule=\"RunArthurMarsNotebook-daily\", Targets=targets)"
   ]
  },
  {
   "cell_type": "code",
   "execution_count": null,
   "id": "ccb918e0",
   "metadata": {},
   "outputs": [],
   "source": []
  }
 ],
 "metadata": {
  "kernelspec": {
   "display_name": "Python 3 (ipykernel)",
   "language": "python",
   "name": "python3"
  },
  "language_info": {
   "codemirror_mode": {
    "name": "ipython",
    "version": 3
   },
   "file_extension": ".py",
   "mimetype": "text/x-python",
   "name": "python",
   "nbconvert_exporter": "python",
   "pygments_lexer": "ipython3",
   "version": "3.9.7"
  },
  "toc": {
   "base_numbering": 1,
   "nav_menu": {},
   "number_sections": true,
   "sideBar": true,
   "skip_h1_title": false,
   "title_cell": "Table of Contents",
   "title_sidebar": "Contents",
   "toc_cell": false,
   "toc_position": {},
   "toc_section_display": true,
   "toc_window_display": false
  }
 },
 "nbformat": 4,
 "nbformat_minor": 5
}
