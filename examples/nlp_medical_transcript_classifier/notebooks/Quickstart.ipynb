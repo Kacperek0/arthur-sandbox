{
 "cells": [
  {
   "cell_type": "markdown",
   "metadata": {},
   "source": [
    "# Quickstart - Medical Transcript Classifier\n",
    "\n",
    "In this guide, we'll use the medical transcript dataset (and a pre-trained model) to onboard a new model to the Arthur platform. We will go through:\n",
    "* Onboarding a model to Arthur\n",
    "* Enabling explainability\n",
    "* Sending Inferences"
   ]
  },
  {
   "cell_type": "code",
   "execution_count": 1,
   "metadata": {
    "ExecuteTime": {
     "end_time": "2021-09-02T19:22:30.630301Z",
     "start_time": "2021-09-02T19:22:29.082445Z"
    }
   },
   "outputs": [],
   "source": [
    "from datetime import datetime, timedelta\n",
    "import os\n",
    "import pickle\n",
    "import uuid\n",
    "\n",
    "from arthurai import ArthurAI\n",
    "from arthurai.common.constants import InputType, OutputType, Stage, TextDelimiter\n",
    "from random import randint\n",
    "import joblib\n",
    "import pandas as pd\n",
    "import numpy as np\n",
    "import pytz"
   ]
  },
  {
   "cell_type": "markdown",
   "metadata": {},
   "source": [
    "### Set up connection\n",
    "\n",
    "Supply your API key below to authenticate with the platform"
   ]
  },
  {
   "cell_type": "code",
   "execution_count": 2,
   "metadata": {
    "ExecuteTime": {
     "end_time": "2021-09-02T19:22:30.818941Z",
     "start_time": "2021-09-02T19:22:30.632677Z"
    }
   },
   "outputs": [],
   "source": [
    "# connect to Arthur\n",
    "# UNCOMMENT the two lines below and enter your details\n",
    "arthur = ArthurAI(\n",
    "    # url=\"https://app.arthur.ai\",  # you can also pass this through the ARTHUR_ENDPOINT_URL environment variable\n",
    "    # login=\"<YOUR_USERNAME_OR_EMAIL>\",  # you can also pass this through the ARTHUR_LOGIN environment variable\n",
    ")"
   ]
  },
  {
   "cell_type": "markdown",
   "metadata": {},
   "source": [
    "### Load Data\n",
    "\n",
    "First we will load our training data, which we will use to help define model schema"
   ]
  },
  {
   "cell_type": "code",
   "execution_count": 3,
   "metadata": {
    "ExecuteTime": {
     "end_time": "2021-09-02T19:22:38.198327Z",
     "start_time": "2021-09-02T19:22:38.133408Z"
    }
   },
   "outputs": [
    {
     "data": {
      "text/html": [
       "<div>\n",
       "<style scoped>\n",
       "    .dataframe tbody tr th:only-of-type {\n",
       "        vertical-align: middle;\n",
       "    }\n",
       "\n",
       "    .dataframe tbody tr th {\n",
       "        vertical-align: top;\n",
       "    }\n",
       "\n",
       "    .dataframe thead th {\n",
       "        text-align: right;\n",
       "    }\n",
       "</style>\n",
       "<table border=\"1\" class=\"dataframe\">\n",
       "  <thead>\n",
       "    <tr style=\"text-align: right;\">\n",
       "      <th></th>\n",
       "      <th>transcription</th>\n",
       "      <th>medical_specialty</th>\n",
       "    </tr>\n",
       "  </thead>\n",
       "  <tbody>\n",
       "    <tr>\n",
       "      <th>0</th>\n",
       "      <td>2-d m-mode : , ,1. left atrial enlargement lef...</td>\n",
       "      <td>cardiovascular / pulmonary</td>\n",
       "    </tr>\n",
       "    <tr>\n",
       "      <th>1</th>\n",
       "      <td>1. left ventricular cavity size wall thickness...</td>\n",
       "      <td>cardiovascular / pulmonary</td>\n",
       "    </tr>\n",
       "    <tr>\n",
       "      <th>2</th>\n",
       "      <td>2-d echocardiogram , multiple views heart grea...</td>\n",
       "      <td>cardiovascular / pulmonary</td>\n",
       "    </tr>\n",
       "    <tr>\n",
       "      <th>3</th>\n",
       "      <td>description : ,1. normal cardiac chambers size...</td>\n",
       "      <td>cardiovascular / pulmonary</td>\n",
       "    </tr>\n",
       "    <tr>\n",
       "      <th>4</th>\n",
       "      <td>2-d study,1 . mild aortic stenosis , widely ca...</td>\n",
       "      <td>cardiovascular / pulmonary</td>\n",
       "    </tr>\n",
       "  </tbody>\n",
       "</table>\n",
       "</div>"
      ],
      "text/plain": [
       "                                       transcription  \\\n",
       "0  2-d m-mode : , ,1. left atrial enlargement lef...   \n",
       "1  1. left ventricular cavity size wall thickness...   \n",
       "2  2-d echocardiogram , multiple views heart grea...   \n",
       "3  description : ,1. normal cardiac chambers size...   \n",
       "4  2-d study,1 . mild aortic stenosis , widely ca...   \n",
       "\n",
       "            medical_specialty  \n",
       "0  cardiovascular / pulmonary  \n",
       "1  cardiovascular / pulmonary  \n",
       "2  cardiovascular / pulmonary  \n",
       "3  cardiovascular / pulmonary  \n",
       "4  cardiovascular / pulmonary  "
      ]
     },
     "execution_count": 3,
     "metadata": {},
     "output_type": "execute_result"
    }
   ],
   "source": [
    "df_raw = pd.read_csv('../datasets/processed_mtsamples.csv')\n",
    "df_raw.head(5)"
   ]
  },
  {
   "cell_type": "markdown",
   "metadata": {},
   "source": [
    "### Data Prep\n",
    "\n",
    "After loading the data, we will format the data for Arthur"
   ]
  },
  {
   "cell_type": "code",
   "execution_count": 4,
   "metadata": {
    "ExecuteTime": {
     "end_time": "2021-09-02T19:22:40.595715Z",
     "start_time": "2021-09-02T19:22:40.588340Z"
    }
   },
   "outputs": [
    {
     "data": {
      "text/plain": [
       "['cardiovascular / pulmonary',\n",
       " 'consult - history and phy.',\n",
       " 'gastroenterology',\n",
       " 'general medicine',\n",
       " 'neurology',\n",
       " 'obstetrics / gynecology',\n",
       " 'orthopedic',\n",
       " 'radiology',\n",
       " 'soap / chart / progress notes',\n",
       " 'urology']"
      ]
     },
     "execution_count": 4,
     "metadata": {},
     "output_type": "execute_result"
    }
   ],
   "source": [
    "# presaved the class list from the label encoder used to train model\n",
    "# classes are stored as a list with the index matching output from classifier\n",
    "with open('../classes.pkl', 'rb') as f:\n",
    "    class_names = pickle.load(f).tolist()\n",
    "class_names"
   ]
  },
  {
   "cell_type": "markdown",
   "metadata": {},
   "source": [
    "Raw data can be messy. Our class names contain invalid characters, so we also need to format those. Arthur only accepts alphanumeric (and underscore) characters as valid attribute names."
   ]
  },
  {
   "cell_type": "code",
   "execution_count": 5,
   "metadata": {
    "ExecuteTime": {
     "end_time": "2021-09-02T19:22:46.210562Z",
     "start_time": "2021-09-02T19:22:46.203944Z"
    }
   },
   "outputs": [
    {
     "name": "stdout",
     "output_type": "stream",
     "text": [
      "Raw: cardiovascular / pulmonary\n",
      "Formatted: cardiovascular__pulmonary\n"
     ]
    }
   ],
   "source": [
    "# create function to format class names\n",
    "def format_class_name(name):\n",
    "    return name.replace('/', '').replace('-', '').replace(' ', '_').replace('.', '')\n",
    "\n",
    "# created list of formatted class names\n",
    "formatted_class_names = {raw_class: format_class_name(raw_class) for raw_class in class_names}\n",
    "\n",
    "# example\n",
    "print(\"Raw:\", class_names[0])\n",
    "print(\"Formatted:\", format_class_name(class_names[0]))"
   ]
  },
  {
   "cell_type": "markdown",
   "metadata": {},
   "source": [
    "Since this is a multi-class classification problem, we have to provide the predicted probability for each category as well as the ground truth labels (one-hot encoded). We will name the predictions the same as the class name. Ground truth will be the same but with `ground_truth_` prefix."
   ]
  },
  {
   "cell_type": "code",
   "execution_count": 6,
   "metadata": {
    "ExecuteTime": {
     "end_time": "2021-09-02T19:22:49.212077Z",
     "start_time": "2021-09-02T19:22:48.923207Z"
    }
   },
   "outputs": [],
   "source": [
    "# load our pre-trained classifier to generate predictions\n",
    "classifier = joblib.load('../model.pkl')"
   ]
  },
  {
   "cell_type": "code",
   "execution_count": 7,
   "metadata": {
    "ExecuteTime": {
     "end_time": "2021-09-02T19:22:51.747151Z",
     "start_time": "2021-09-02T19:22:50.976904Z"
    },
    "scrolled": true
   },
   "outputs": [
    {
     "data": {
      "text/html": [
       "<div>\n",
       "<style scoped>\n",
       "    .dataframe tbody tr th:only-of-type {\n",
       "        vertical-align: middle;\n",
       "    }\n",
       "\n",
       "    .dataframe tbody tr th {\n",
       "        vertical-align: top;\n",
       "    }\n",
       "\n",
       "    .dataframe thead th {\n",
       "        text-align: right;\n",
       "    }\n",
       "</style>\n",
       "<table border=\"1\" class=\"dataframe\">\n",
       "  <thead>\n",
       "    <tr style=\"text-align: right;\">\n",
       "      <th></th>\n",
       "      <th>transcription</th>\n",
       "      <th>medical_specialty</th>\n",
       "      <th>cardiovascular__pulmonary</th>\n",
       "      <th>consult__history_and_phy</th>\n",
       "      <th>gastroenterology</th>\n",
       "      <th>general_medicine</th>\n",
       "      <th>neurology</th>\n",
       "      <th>obstetrics__gynecology</th>\n",
       "      <th>orthopedic</th>\n",
       "      <th>radiology</th>\n",
       "      <th>soap__chart__progress_notes</th>\n",
       "      <th>urology</th>\n",
       "    </tr>\n",
       "  </thead>\n",
       "  <tbody>\n",
       "    <tr>\n",
       "      <th>0</th>\n",
       "      <td>2-d m-mode : , ,1. left atrial enlargement lef...</td>\n",
       "      <td>cardiovascular__pulmonary</td>\n",
       "      <td>0.314570</td>\n",
       "      <td>0.047311</td>\n",
       "      <td>0.044943</td>\n",
       "      <td>0.050944</td>\n",
       "      <td>0.088034</td>\n",
       "      <td>0.032376</td>\n",
       "      <td>0.050487</td>\n",
       "      <td>0.274421</td>\n",
       "      <td>0.061108</td>\n",
       "      <td>0.035806</td>\n",
       "    </tr>\n",
       "    <tr>\n",
       "      <th>1</th>\n",
       "      <td>1. left ventricular cavity size wall thickness...</td>\n",
       "      <td>cardiovascular__pulmonary</td>\n",
       "      <td>0.328527</td>\n",
       "      <td>0.046741</td>\n",
       "      <td>0.044155</td>\n",
       "      <td>0.048519</td>\n",
       "      <td>0.086364</td>\n",
       "      <td>0.030619</td>\n",
       "      <td>0.046095</td>\n",
       "      <td>0.279938</td>\n",
       "      <td>0.056335</td>\n",
       "      <td>0.032707</td>\n",
       "    </tr>\n",
       "    <tr>\n",
       "      <th>2</th>\n",
       "      <td>2-d echocardiogram , multiple views heart grea...</td>\n",
       "      <td>cardiovascular__pulmonary</td>\n",
       "      <td>0.260582</td>\n",
       "      <td>0.064429</td>\n",
       "      <td>0.063830</td>\n",
       "      <td>0.069294</td>\n",
       "      <td>0.098440</td>\n",
       "      <td>0.042074</td>\n",
       "      <td>0.064015</td>\n",
       "      <td>0.215111</td>\n",
       "      <td>0.075557</td>\n",
       "      <td>0.046668</td>\n",
       "    </tr>\n",
       "    <tr>\n",
       "      <th>3</th>\n",
       "      <td>description : ,1. normal cardiac chambers size...</td>\n",
       "      <td>cardiovascular__pulmonary</td>\n",
       "      <td>0.280616</td>\n",
       "      <td>0.045469</td>\n",
       "      <td>0.051983</td>\n",
       "      <td>0.040549</td>\n",
       "      <td>0.101007</td>\n",
       "      <td>0.035458</td>\n",
       "      <td>0.056501</td>\n",
       "      <td>0.300329</td>\n",
       "      <td>0.051220</td>\n",
       "      <td>0.036869</td>\n",
       "    </tr>\n",
       "    <tr>\n",
       "      <th>4</th>\n",
       "      <td>2-d study,1 . mild aortic stenosis , widely ca...</td>\n",
       "      <td>cardiovascular__pulmonary</td>\n",
       "      <td>0.276198</td>\n",
       "      <td>0.057141</td>\n",
       "      <td>0.047565</td>\n",
       "      <td>0.061456</td>\n",
       "      <td>0.103771</td>\n",
       "      <td>0.036767</td>\n",
       "      <td>0.060006</td>\n",
       "      <td>0.247587</td>\n",
       "      <td>0.067203</td>\n",
       "      <td>0.042306</td>\n",
       "    </tr>\n",
       "  </tbody>\n",
       "</table>\n",
       "</div>"
      ],
      "text/plain": [
       "                                       transcription  \\\n",
       "0  2-d m-mode : , ,1. left atrial enlargement lef...   \n",
       "1  1. left ventricular cavity size wall thickness...   \n",
       "2  2-d echocardiogram , multiple views heart grea...   \n",
       "3  description : ,1. normal cardiac chambers size...   \n",
       "4  2-d study,1 . mild aortic stenosis , widely ca...   \n",
       "\n",
       "           medical_specialty  cardiovascular__pulmonary  \\\n",
       "0  cardiovascular__pulmonary                   0.314570   \n",
       "1  cardiovascular__pulmonary                   0.328527   \n",
       "2  cardiovascular__pulmonary                   0.260582   \n",
       "3  cardiovascular__pulmonary                   0.280616   \n",
       "4  cardiovascular__pulmonary                   0.276198   \n",
       "\n",
       "   consult__history_and_phy  gastroenterology  general_medicine  neurology  \\\n",
       "0                  0.047311          0.044943          0.050944   0.088034   \n",
       "1                  0.046741          0.044155          0.048519   0.086364   \n",
       "2                  0.064429          0.063830          0.069294   0.098440   \n",
       "3                  0.045469          0.051983          0.040549   0.101007   \n",
       "4                  0.057141          0.047565          0.061456   0.103771   \n",
       "\n",
       "   obstetrics__gynecology  orthopedic  radiology  soap__chart__progress_notes  \\\n",
       "0                0.032376    0.050487   0.274421                     0.061108   \n",
       "1                0.030619    0.046095   0.279938                     0.056335   \n",
       "2                0.042074    0.064015   0.215111                     0.075557   \n",
       "3                0.035458    0.056501   0.300329                     0.051220   \n",
       "4                0.036767    0.060006   0.247587                     0.067203   \n",
       "\n",
       "    urology  \n",
       "0  0.035806  \n",
       "1  0.032707  \n",
       "2  0.046668  \n",
       "3  0.036869  \n",
       "4  0.042306  "
      ]
     },
     "execution_count": 7,
     "metadata": {},
     "output_type": "execute_result"
    }
   ],
   "source": [
    "# create predictions\n",
    "preds = classifier.predict_proba(df_raw['transcription'])\n",
    "pred_rows = []\n",
    "for pred in preds:\n",
    "    pred_rows.append({\n",
    "        class_name: pred[i]\n",
    "        for i, class_name in enumerate(formatted_class_names.values())\n",
    "    })\n",
    "pred_df = pd.DataFrame(pred_rows)\n",
    "\n",
    "# combine \n",
    "df = pd.concat([df_raw, pred_df], axis=1)\n",
    "\n",
    "# format category classes\n",
    "df['medical_specialty'] = df['medical_specialty'].apply(format_class_name)\n",
    "\n",
    "df.head(5)"
   ]
  },
  {
   "cell_type": "markdown",
   "metadata": {},
   "source": [
    "### Create Model\n",
    "\n",
    "We will instantiate a model object with a small amount of metadata about the models input and output types. Then we will use a sample of the training data to help define the full schema for this NLP model.\n",
    "\n",
    "NLP models require specifying a `text_delimiter` which specifies how a raw document is split into tokens."
   ]
  },
  {
   "cell_type": "code",
   "execution_count": 8,
   "metadata": {
    "ExecuteTime": {
     "end_time": "2021-09-02T19:23:13.579081Z",
     "start_time": "2021-09-02T19:23:13.575699Z"
    }
   },
   "outputs": [],
   "source": [
    "model = arthur.model(\n",
    "    partner_model_id=f\"MedicalTranscriptClassifier_QS-{datetime.now().strftime('%Y%m%d%H%M%S')}\",\n",
    "    display_name=\"Medical Transcript Classifier\",\n",
    "    input_type=InputType.NLP,\n",
    "    output_type=OutputType.Multiclass,\n",
    "    text_delimiter=TextDelimiter.NOT_WORD\n",
    ")"
   ]
  },
  {
   "cell_type": "markdown",
   "metadata": {},
   "source": [
    "Since this is a classification model, we need to supply is a mapping that establishes:\n",
    "\n",
    "* names for the model's predictions\n",
    "* names for the model's ground truth\n",
    "* the mapping that related these two"
   ]
  },
  {
   "cell_type": "code",
   "execution_count": 9,
   "metadata": {
    "ExecuteTime": {
     "end_time": "2021-09-02T19:23:24.436285Z",
     "start_time": "2021-09-02T19:23:24.430707Z"
    }
   },
   "outputs": [
    {
     "data": {
      "text/plain": [
       "{'cardiovascular__pulmonary': 'cardiovascular__pulmonary',\n",
       " 'consult__history_and_phy': 'consult__history_and_phy',\n",
       " 'gastroenterology': 'gastroenterology',\n",
       " 'general_medicine': 'general_medicine',\n",
       " 'neurology': 'neurology',\n",
       " 'obstetrics__gynecology': 'obstetrics__gynecology',\n",
       " 'orthopedic': 'orthopedic',\n",
       " 'radiology': 'radiology',\n",
       " 'soap__chart__progress_notes': 'soap__chart__progress_notes',\n",
       " 'urology': 'urology'}"
      ]
     },
     "execution_count": 9,
     "metadata": {},
     "output_type": "execute_result"
    }
   ],
   "source": [
    "# creating mapping from predictions to ground truth\n",
    "output_mapping = {\n",
    "    formatted_name: formatted_name\n",
    "    for raw_name, formatted_name in formatted_class_names.items()\n",
    "}\n",
    "output_mapping"
   ]
  },
  {
   "cell_type": "markdown",
   "metadata": {},
   "source": [
    "We need to register the schema for the inputs and outputs of the model: what are the input variables? What will a typical prediction look like and what will a typical ground truth look like? What names, shapes, and datatypes should Arthur expect for these objects? Since your model might have hundreds or thousands of input features, you can just pass us a Pandas DataFrame of your training data, and we'll handle the rest."
   ]
  },
  {
   "cell_type": "markdown",
   "metadata": {},
   "source": [
    "For tracking data drift, you can upload a dataset to serve as the baseline or reference set. Often, this is a sample of your training data for the associated model. The `build()` method sets the given dataframe as the reference set. This way, Arthur can monitor for drift and stability of all given variables."
   ]
  },
  {
   "cell_type": "code",
   "execution_count": 10,
   "metadata": {
    "ExecuteTime": {
     "end_time": "2021-09-02T19:23:30.973655Z",
     "start_time": "2021-09-02T19:23:30.848561Z"
    }
   },
   "outputs": [
    {
     "name": "stderr",
     "output_type": "stream",
     "text": [
      "2022-07-21 17:34:22,034 - arthurai.core.models - INFO - Please review the inferred schema. If everything looks correct, lock in your model by calling arthur_model.save()\n"
     ]
    },
    {
     "data": {
      "text/html": [
       "<div>\n",
       "<style scoped>\n",
       "    .dataframe tbody tr th:only-of-type {\n",
       "        vertical-align: middle;\n",
       "    }\n",
       "\n",
       "    .dataframe tbody tr th {\n",
       "        vertical-align: top;\n",
       "    }\n",
       "\n",
       "    .dataframe thead th {\n",
       "        text-align: right;\n",
       "    }\n",
       "</style>\n",
       "<table border=\"1\" class=\"dataframe\">\n",
       "  <thead>\n",
       "    <tr style=\"text-align: right;\">\n",
       "      <th></th>\n",
       "      <th>name</th>\n",
       "      <th>stage</th>\n",
       "      <th>value_type</th>\n",
       "      <th>categorical</th>\n",
       "      <th>is_unique</th>\n",
       "      <th>categories</th>\n",
       "      <th>bins</th>\n",
       "      <th>range</th>\n",
       "      <th>monitor_for_bias</th>\n",
       "    </tr>\n",
       "  </thead>\n",
       "  <tbody>\n",
       "    <tr>\n",
       "      <th>0</th>\n",
       "      <td>transcription</td>\n",
       "      <td>PIPELINE_INPUT</td>\n",
       "      <td>UNSTRUCTURED_TEXT</td>\n",
       "      <td>True</td>\n",
       "      <td>False</td>\n",
       "      <td>[]</td>\n",
       "      <td>None</td>\n",
       "      <td>[None, None]</td>\n",
       "      <td>False</td>\n",
       "    </tr>\n",
       "    <tr>\n",
       "      <th>1</th>\n",
       "      <td>medical_specialty</td>\n",
       "      <td>GROUND_TRUTH_CLASS</td>\n",
       "      <td>STRING</td>\n",
       "      <td>True</td>\n",
       "      <td>False</td>\n",
       "      <td>[{value: urology}, {value: gastroenterology}, ...</td>\n",
       "      <td>None</td>\n",
       "      <td>[None, None]</td>\n",
       "      <td>False</td>\n",
       "    </tr>\n",
       "    <tr>\n",
       "      <th>2</th>\n",
       "      <td>cardiovascular__pulmonary</td>\n",
       "      <td>PREDICTED_VALUE</td>\n",
       "      <td>FLOAT</td>\n",
       "      <td>False</td>\n",
       "      <td>False</td>\n",
       "      <td>[]</td>\n",
       "      <td>None</td>\n",
       "      <td>[0, 1]</td>\n",
       "      <td>False</td>\n",
       "    </tr>\n",
       "    <tr>\n",
       "      <th>3</th>\n",
       "      <td>consult__history_and_phy</td>\n",
       "      <td>PREDICTED_VALUE</td>\n",
       "      <td>FLOAT</td>\n",
       "      <td>False</td>\n",
       "      <td>False</td>\n",
       "      <td>[]</td>\n",
       "      <td>None</td>\n",
       "      <td>[0, 1]</td>\n",
       "      <td>False</td>\n",
       "    </tr>\n",
       "    <tr>\n",
       "      <th>4</th>\n",
       "      <td>gastroenterology</td>\n",
       "      <td>PREDICTED_VALUE</td>\n",
       "      <td>FLOAT</td>\n",
       "      <td>False</td>\n",
       "      <td>False</td>\n",
       "      <td>[]</td>\n",
       "      <td>None</td>\n",
       "      <td>[0, 1]</td>\n",
       "      <td>False</td>\n",
       "    </tr>\n",
       "    <tr>\n",
       "      <th>5</th>\n",
       "      <td>general_medicine</td>\n",
       "      <td>PREDICTED_VALUE</td>\n",
       "      <td>FLOAT</td>\n",
       "      <td>False</td>\n",
       "      <td>False</td>\n",
       "      <td>[]</td>\n",
       "      <td>None</td>\n",
       "      <td>[0, 1]</td>\n",
       "      <td>False</td>\n",
       "    </tr>\n",
       "    <tr>\n",
       "      <th>6</th>\n",
       "      <td>neurology</td>\n",
       "      <td>PREDICTED_VALUE</td>\n",
       "      <td>FLOAT</td>\n",
       "      <td>False</td>\n",
       "      <td>False</td>\n",
       "      <td>[]</td>\n",
       "      <td>None</td>\n",
       "      <td>[0, 1]</td>\n",
       "      <td>False</td>\n",
       "    </tr>\n",
       "    <tr>\n",
       "      <th>7</th>\n",
       "      <td>obstetrics__gynecology</td>\n",
       "      <td>PREDICTED_VALUE</td>\n",
       "      <td>FLOAT</td>\n",
       "      <td>False</td>\n",
       "      <td>False</td>\n",
       "      <td>[]</td>\n",
       "      <td>None</td>\n",
       "      <td>[0, 1]</td>\n",
       "      <td>False</td>\n",
       "    </tr>\n",
       "    <tr>\n",
       "      <th>8</th>\n",
       "      <td>orthopedic</td>\n",
       "      <td>PREDICTED_VALUE</td>\n",
       "      <td>FLOAT</td>\n",
       "      <td>False</td>\n",
       "      <td>False</td>\n",
       "      <td>[]</td>\n",
       "      <td>None</td>\n",
       "      <td>[0, 1]</td>\n",
       "      <td>False</td>\n",
       "    </tr>\n",
       "    <tr>\n",
       "      <th>9</th>\n",
       "      <td>radiology</td>\n",
       "      <td>PREDICTED_VALUE</td>\n",
       "      <td>FLOAT</td>\n",
       "      <td>False</td>\n",
       "      <td>False</td>\n",
       "      <td>[]</td>\n",
       "      <td>None</td>\n",
       "      <td>[0, 1]</td>\n",
       "      <td>False</td>\n",
       "    </tr>\n",
       "    <tr>\n",
       "      <th>10</th>\n",
       "      <td>soap__chart__progress_notes</td>\n",
       "      <td>PREDICTED_VALUE</td>\n",
       "      <td>FLOAT</td>\n",
       "      <td>False</td>\n",
       "      <td>False</td>\n",
       "      <td>[]</td>\n",
       "      <td>None</td>\n",
       "      <td>[0, 1]</td>\n",
       "      <td>False</td>\n",
       "    </tr>\n",
       "    <tr>\n",
       "      <th>11</th>\n",
       "      <td>urology</td>\n",
       "      <td>PREDICTED_VALUE</td>\n",
       "      <td>FLOAT</td>\n",
       "      <td>False</td>\n",
       "      <td>False</td>\n",
       "      <td>[]</td>\n",
       "      <td>None</td>\n",
       "      <td>[0, 1]</td>\n",
       "      <td>False</td>\n",
       "    </tr>\n",
       "  </tbody>\n",
       "</table>\n",
       "</div>"
      ],
      "text/plain": [
       "                           name               stage         value_type  \\\n",
       "0                 transcription      PIPELINE_INPUT  UNSTRUCTURED_TEXT   \n",
       "1             medical_specialty  GROUND_TRUTH_CLASS             STRING   \n",
       "2     cardiovascular__pulmonary     PREDICTED_VALUE              FLOAT   \n",
       "3      consult__history_and_phy     PREDICTED_VALUE              FLOAT   \n",
       "4              gastroenterology     PREDICTED_VALUE              FLOAT   \n",
       "5              general_medicine     PREDICTED_VALUE              FLOAT   \n",
       "6                     neurology     PREDICTED_VALUE              FLOAT   \n",
       "7        obstetrics__gynecology     PREDICTED_VALUE              FLOAT   \n",
       "8                    orthopedic     PREDICTED_VALUE              FLOAT   \n",
       "9                     radiology     PREDICTED_VALUE              FLOAT   \n",
       "10  soap__chart__progress_notes     PREDICTED_VALUE              FLOAT   \n",
       "11                      urology     PREDICTED_VALUE              FLOAT   \n",
       "\n",
       "   categorical is_unique                                         categories  \\\n",
       "0         True     False                                                 []   \n",
       "1         True     False  [{value: urology}, {value: gastroenterology}, ...   \n",
       "2        False     False                                                 []   \n",
       "3        False     False                                                 []   \n",
       "4        False     False                                                 []   \n",
       "5        False     False                                                 []   \n",
       "6        False     False                                                 []   \n",
       "7        False     False                                                 []   \n",
       "8        False     False                                                 []   \n",
       "9        False     False                                                 []   \n",
       "10       False     False                                                 []   \n",
       "11       False     False                                                 []   \n",
       "\n",
       "    bins         range monitor_for_bias  \n",
       "0   None  [None, None]            False  \n",
       "1   None  [None, None]            False  \n",
       "2   None        [0, 1]            False  \n",
       "3   None        [0, 1]            False  \n",
       "4   None        [0, 1]            False  \n",
       "5   None        [0, 1]            False  \n",
       "6   None        [0, 1]            False  \n",
       "7   None        [0, 1]            False  \n",
       "8   None        [0, 1]            False  \n",
       "9   None        [0, 1]            False  \n",
       "10  None        [0, 1]            False  \n",
       "11  None        [0, 1]            False  "
      ]
     },
     "execution_count": 10,
     "metadata": {},
     "output_type": "execute_result"
    }
   ],
   "source": [
    "# Register model attributes with Arthur\n",
    "model.build(df, ground_truth_column=\"medical_specialty\", pred_to_ground_truth_map=output_mapping)"
   ]
  },
  {
   "cell_type": "code",
   "execution_count": 11,
   "metadata": {
    "scrolled": false
   },
   "outputs": [
    {
     "name": "stderr",
     "output_type": "stream",
     "text": [
      "2022-07-21 17:34:29,626 - arthurai.core.data_service - INFO - Starting upload (1.950 MB in 1 files), depending on data size this may take a few minutes\n",
      "2022-07-21 17:34:30,622 - arthurai.core.data_service - INFO - Upload completed: /var/folders/vg/dzh9m54s0vz7ws4f6gqmqn5m0000gn/T/tmpezhhzrbe/1c751e46-b10a-4103-9e3f-2f4b6c444f01-0.parquet\n"
     ]
    }
   ],
   "source": [
    "model_id = model.save()\n",
    "with open(\"quickstart_model_id.txt\", \"w\") as f:\n",
    "    f.write(model_id)"
   ]
  },
  {
   "cell_type": "markdown",
   "metadata": {},
   "source": [
    "You can fetch a model by ID. for example pull the last-created model:"
   ]
  },
  {
   "cell_type": "code",
   "execution_count": 12,
   "metadata": {},
   "outputs": [],
   "source": [
    "with open(\"quickstart_model_id.txt\", \"r\") as f:\n",
    "    model_id = f.read()\n",
    "model = arthur.get_model(model_id)"
   ]
  },
  {
   "cell_type": "markdown",
   "metadata": {},
   "source": [
    "### Enable Explainability\n",
    "\n",
    "We want to be able to visualize why our model made the predictions it did. For that, we need to enable explainability.\n",
    "For more details on enabling explainability, [see the docs](https://docs.arthur.ai/user-guide/explainability.html).\n",
    "For this example, we have pre-created the python file with a `predict()` function."
   ]
  },
  {
   "cell_type": "code",
   "execution_count": null,
   "metadata": {
    "scrolled": false
   },
   "outputs": [],
   "source": [
    "# define path to project directory\n",
    "project_dir = os.getcwd()\n",
    "project_dir = project_dir.replace('nlp_medical_transcript_classifier/notebooks', 'nlp_medical_transcript_classifier/')\n",
    "\n",
    "# enable explainability\n",
    "model.enable_explainability(\n",
    "    df=df,\n",
    "    project_directory=project_dir,\n",
    "    streaming_explainability_enabled=True,\n",
    "    requirements_file=\"requirements.txt\",\n",
    "    user_predict_function_import_path=\"entrypoint\",\n",
    "    explanation_nsamples=1000,\n",
    "    explanation_algo='lime'\n",
    ")"
   ]
  },
  {
   "cell_type": "markdown",
   "metadata": {},
   "source": [
    "### Send Inference\n",
    "\n",
    "Now we will walk through sending inferences to Arthur"
   ]
  },
  {
   "cell_type": "code",
   "execution_count": 16,
   "metadata": {
    "scrolled": true
   },
   "outputs": [
    {
     "name": "stdout",
     "output_type": "stream",
     "text": [
      "processing record 50/200\n",
      "processing record 100/200\n",
      "processing record 150/200\n"
     ]
    }
   ],
   "source": [
    "df_inferences = df_raw.copy()\n",
    "\n",
    "# grab a row to make a prediction for\n",
    "inferences = []\n",
    "n_inferences = 200\n",
    "for i in range(n_inferences):\n",
    "    \n",
    "    if i >= 50 and i % 50 == 0:\n",
    "        print(f\"processing record {i}/{n_inferences}\")\n",
    "\n",
    "    record = df_inferences.iloc[i:i+1]['transcription']\n",
    "    pred = classifier.predict_proba(record)[0]\n",
    "    actual = format_class_name(df_inferences.iloc[i]['medical_specialty'])\n",
    "\n",
    "    inference_data = {\n",
    "        class_name: pred[i]\n",
    "        for i, class_name in enumerate(formatted_class_names.values())\n",
    "    }\n",
    "    \n",
    "    inference_data['transcription'] = record.iloc[0]\n",
    "    external_id = f\"{uuid.uuid4()}-i\"\n",
    "    cur_time = datetime.now(pytz.utc) - timedelta(days = i%10)\n",
    "        \n",
    "    inference = {\n",
    "        \"partner_inference_id\": external_id,\n",
    "        \"inference_timestamp\": cur_time,\n",
    "        \"inference_data\": inference_data,\n",
    "        \"ground_truth_timestamp\": cur_time,\n",
    "        \"medical_specialty\": actual\n",
    "    }\n",
    "\n",
    "    inferences.append(inference)"
   ]
  },
  {
   "cell_type": "code",
   "execution_count": 17,
   "metadata": {
    "scrolled": true
   },
   "outputs": [
    {
     "data": {
      "text/plain": [
       "{'partner_inference_id': '444dc7ff-ad47-4109-939b-b5d6df36217f-i',\n",
       " 'inference_timestamp': datetime.datetime(2022, 7, 21, 21, 36, 37, 47146, tzinfo=<UTC>),\n",
       " 'inference_data': {'cardiovascular__pulmonary': 0.3145696685561315,\n",
       "  'consult__history_and_phy': 0.047311432165361364,\n",
       "  'gastroenterology': 0.04494273151561295,\n",
       "  'general_medicine': 0.05094425837515593,\n",
       "  'neurology': 0.08803377527442867,\n",
       "  'obstetrics__gynecology': 0.03237626252754842,\n",
       "  'orthopedic': 0.05048688882466476,\n",
       "  'radiology': 0.2744210720668056,\n",
       "  'soap__chart__progress_notes': 0.06110806764999628,\n",
       "  'urology': 0.03580584304429395,\n",
       "  'transcription': '2-d m-mode : , ,1. left atrial enlargement left atrial diameter 4.7 cm.,2 . normal size right left ventricle.,3 . normal lv systolic function left ventricular ejection fraction 51 % .,4 . normal lv diastolic function.,5 . pericardial effusion.,6 . normal morphology aortic valve , mitral valve , tricuspid valve , pulmonary valve.,7 . pa systolic pressure 36 mmhg. , doppler : , ,1. mild mitral tricuspid regurgitation.,2 . trace aortic pulmonary regurgitation .'},\n",
       " 'ground_truth_timestamp': datetime.datetime(2022, 7, 21, 21, 36, 37, 47146, tzinfo=<UTC>),\n",
       " 'medical_specialty': 'cardiovascular__pulmonary'}"
      ]
     },
     "execution_count": 17,
     "metadata": {},
     "output_type": "execute_result"
    }
   ],
   "source": [
    "# inspect a inference to see final format\n",
    "inferences[0]"
   ]
  },
  {
   "cell_type": "code",
   "execution_count": null,
   "metadata": {
    "scrolled": true
   },
   "outputs": [],
   "source": [
    "model.send_inferences(inferences)"
   ]
  }
 ],
 "metadata": {
  "kernelspec": {
   "display_name": "Python 3 (ipykernel)",
   "language": "python",
   "name": "python3"
  },
  "language_info": {
   "codemirror_mode": {
    "name": "ipython",
    "version": 3
   },
   "file_extension": ".py",
   "mimetype": "text/x-python",
   "name": "python",
   "nbconvert_exporter": "python",
   "pygments_lexer": "ipython3",
   "version": "3.8.13"
  },
  "toc": {
   "base_numbering": 1,
   "nav_menu": {},
   "number_sections": true,
   "sideBar": true,
   "skip_h1_title": false,
   "title_cell": "Table of Contents",
   "title_sidebar": "Contents",
   "toc_cell": false,
   "toc_position": {},
   "toc_section_display": true,
   "toc_window_display": false
  },
  "vscode": {
   "interpreter": {
    "hash": "cb2b1f5bd6209f4aacf0edb00446bb4be4b95e41889fafe9368144b7d5a94149"
   }
  }
 },
 "nbformat": 4,
 "nbformat_minor": 4
}
